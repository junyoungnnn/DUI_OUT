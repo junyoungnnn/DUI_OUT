{
 "cells": [
  {
   "cell_type": "code",
   "execution_count": 24,
   "id": "1123fba4-2554-4f2d-9503-faf9f28b95ff",
   "metadata": {},
   "outputs": [
    {
     "name": "stdout",
     "output_type": "stream",
     "text": [
      "  부산구별         날짜  음식점 수  주점 수  버스 정류장 개수  지하철역 개수  지역구별 인구수  \\\n",
      "0  강서구 2021-01-01   1713   148       1091        3    138563   \n",
      "1  금정구 2021-01-01   2011   315        500        7    231758   \n",
      "2  기장군 2021-01-01   2026   176        774        2    175384   \n",
      "3   남구 2021-01-01   2073   387        528        6    267217   \n",
      "4   동구 2021-01-01    971   228        248        6     88662   \n",
      "\n",
      "   지역구 별 인구 대비 남자 수  가로등 수  CCTV 개수  횡단보도 개수  신호등 개수  주차장 개수  차량 등록 대수  \\\n",
      "0         51.678298  20454      352      559     284      27     82033   \n",
      "1         48.841895   6196      403      172      30      45     88419   \n",
      "2         49.514209  15372      344      331     288      29     81674   \n",
      "3         48.937380   4624      351      237      26      25     99834   \n",
      "4         48.984909   3649      374       82      16      67     52847   \n",
      "\n",
      "   택시 정류장 수    강수   기온  음주운전 사고건수  음주운전 단속건수  \n",
      "0         2  34.8  2.0         51         30  \n",
      "1         5  56.5  2.9         36         26  \n",
      "2        10  50.5  3.5         40         16  \n",
      "3         9  52.5  3.3         35         26  \n",
      "4        13  49.0  3.5         10          9  \n"
     ]
    }
   ],
   "source": [
    "import pandas as pd\n",
    "\n",
    "# 합칠 엑셀 파일 경로\n",
    "excel_file_path = '음주운전 부산시 구별.xlsx'\n",
    "\n",
    "# ExcelFile 객체 생성 (시트 목록을 가져오기 위함)\n",
    "excel_file = pd.ExcelFile(excel_file_path)\n",
    "\n",
    "# 시트를 하나씩 읽어와서 리스트에 담기\n",
    "df_list = []\n",
    "for sheet_name in excel_file.sheet_names:\n",
    "    df = excel_file.parse(sheet_name=sheet_name)  # 해당 시트를 DataFrame으로 변환\n",
    "    df_list.append(df)\n",
    "\n",
    "# 여러 시트를 위아래로 이어붙이기\n",
    "merged_df = pd.concat(df_list, ignore_index=True)\n",
    "\n",
    "# (1) 불러온 뒤 컬럼명 양 끝 공백 제거\n",
    "merged_df.columns = merged_df.columns.str.strip()\n",
    "\n",
    "# (2) 합쳐진 데이터 확인 (상위 5행)\n",
    "print(merged_df.head())\n",
    "\n",
    "# (3) 최종 CSV 저장 (cp949로 인코딩)\n",
    "merged_df.to_csv('merged_sheets_cp949.csv', encoding='cp949', index=False)\n"
   ]
  },
  {
   "cell_type": "code",
   "execution_count": null,
   "id": "b40862b6-e0b0-43bc-bc3c-39675fe6e00a",
   "metadata": {},
   "outputs": [],
   "source": []
  }
 ],
 "metadata": {
  "kernelspec": {
   "display_name": "Python 3 (ipykernel)",
   "language": "python",
   "name": "python3"
  },
  "language_info": {
   "codemirror_mode": {
    "name": "ipython",
    "version": 3
   },
   "file_extension": ".py",
   "mimetype": "text/x-python",
   "name": "python",
   "nbconvert_exporter": "python",
   "pygments_lexer": "ipython3",
   "version": "3.12.4"
  }
 },
 "nbformat": 4,
 "nbformat_minor": 5
}
