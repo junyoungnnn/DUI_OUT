{
 "cells": [
  {
   "cell_type": "code",
   "execution_count": 1,
   "id": "b4dec775-c75e-43e4-9d82-0a6a9317198e",
   "metadata": {},
   "outputs": [
    {
     "name": "stdout",
     "output_type": "stream",
     "text": [
      "    읍면동  자동차 등록 대수    인구수  횡단보도 개수  음식점 수  버스정류장 개수  음주 교동사고 건수  음주운전 적발 건수\n",
      "0  가덕도동       2327   3941      4.0     25      88.0        1.14        0.66\n",
      "1   가락동       2095   2345     33.0     12      57.0        0.68        0.40\n",
      "2  가야1동       5540  19224     14.0     36      13.0        5.42        2.65\n",
      "3  가야2동       5540  16844      8.0     43      18.0        4.75        2.32\n",
      "4  감만1동       7514  12970     14.0     25      40.0        1.37        1.37\n"
     ]
    }
   ],
   "source": [
    "import pandas as pd\n",
    "\n",
    "# 합칠 엑셀 파일 경로\n",
    "excel_file_path = '행정동_음주운전.xlsx'\n",
    "\n",
    "# ExcelFile 객체 생성 (시트 목록을 가져오기 위함)\n",
    "excel_file = pd.ExcelFile(excel_file_path)\n",
    "\n",
    "# 시트를 하나씩 읽어와서 리스트에 담기\n",
    "df_list = []\n",
    "for sheet_name in excel_file.sheet_names:\n",
    "    df = excel_file.parse(sheet_name=sheet_name)  # 해당 시트를 DataFrame으로 변환\n",
    "    df_list.append(df)\n",
    "\n",
    "# 여러 시트를 위아래로 이어붙이기\n",
    "merged_df = pd.concat(df_list, ignore_index=True)\n",
    "\n",
    "# (1) 불러온 뒤 컬럼명 양 끝 공백 제거\n",
    "merged_df.columns = merged_df.columns.str.strip()\n",
    "\n",
    "# (2) 합쳐진 데이터 확인 (상위 5행)\n",
    "print(merged_df.head())\n",
    "\n",
    "# (3) 최종 CSV 저장 (cp949로 인코딩)\n",
    "merged_df.to_csv('행정동_음주운전_합본_cp949.csv', encoding='cp949', index=False)\n"
   ]
  }
 ],
 "metadata": {
  "kernelspec": {
   "display_name": "Python 3 (ipykernel)",
   "language": "python",
   "name": "python3"
  },
  "language_info": {
   "codemirror_mode": {
    "name": "ipython",
    "version": 3
   },
   "file_extension": ".py",
   "mimetype": "text/x-python",
   "name": "python",
   "nbconvert_exporter": "python",
   "pygments_lexer": "ipython3",
   "version": "3.12.4"
  }
 },
 "nbformat": 4,
 "nbformat_minor": 5
}
