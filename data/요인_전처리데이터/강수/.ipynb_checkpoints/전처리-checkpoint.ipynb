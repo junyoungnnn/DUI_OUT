{
 "cells": [
  {
   "cell_type": "code",
   "execution_count": 1,
   "id": "59795022-0bf6-40f4-a72e-6550c8ed072a",
   "metadata": {},
   "outputs": [],
   "source": [
    "import pandas as pd\n",
    "import numpy as np"
   ]
  },
  {
   "cell_type": "code",
   "execution_count": 93,
   "id": "f058ff01-be03-49ce-b74c-446965090d41",
   "metadata": {},
   "outputs": [
    {
     "name": "stdout",
     "output_type": "stream",
     "text": [
      "      year  month  day    hour  value\n",
      "0     2021      1    1     0.0    0.0\n",
      "1     2021      1    1   100.0    0.0\n",
      "2     2021      1    1   200.0    0.0\n",
      "3     2021      1    1   300.0    0.0\n",
      "4     2021      1    1   400.0    0.0\n",
      "...    ...    ...  ...     ...    ...\n",
      "8766  2021     12   31  1900.0    0.0\n",
      "8767  2021     12   31  2000.0    0.0\n",
      "8768  2021     12   31  2100.0    0.0\n",
      "8769  2021     12   31  2200.0    0.0\n",
      "8770  2021     12   31  2300.0    0.0\n",
      "\n",
      "[8760 rows x 5 columns]\n"
     ]
    }
   ],
   "source": [
    "path = './수영구/'\n",
    "\n",
    "for i in range(3):\n",
    "    year = ['2021', '2022', '2023']\n",
    "    dong = '남천제1'\n",
    "    file = f'{dong}동_강수_{year[i]}01_{year[i]}12.csv'\n",
    "    name = f'{dong}동{year[i]}'\n",
    "    \n",
    "    df = pd.read_csv(f'{path}{file}')\n",
    "    \n",
    "    # 컬럼명 변경\n",
    "    df.columns = ['day', 'hour', 'value']\n",
    "    \n",
    "    # 'Start' 문자열이 포함된 행 삭제 및 month 값 처리\n",
    "    month = 1\n",
    "    new_rows = []\n",
    "    for _, row in df.iterrows():\n",
    "        if isinstance(row['day'], str) and \"Start\" in row['day']:\n",
    "            # Start 문자열이 포함된 행은 무시\n",
    "            month += 1  # month 값을 1 증가\n",
    "        else:\n",
    "            row['year'] = year[i]\n",
    "            row['month'] = month\n",
    "            new_rows.append(row)\n",
    "    \n",
    "    # 새로운 DataFrame 생성\n",
    "    updated_df = pd.DataFrame(new_rows)\n",
    "    \n",
    "    # 열 순서 정렬\n",
    "    updated_df = updated_df[['year', 'month', 'day', 'hour', 'value']]\n",
    "    \n",
    "    # 결과 확인\n",
    "    print(updated_df)\n",
    "    \n",
    "    # 새로운 CSV로 저장\n",
    "    output_path = f\"{name}.csv\"\n",
    "    updated_df.to_csv(f'{path}{output_path}', index=False)"
   ]
  },
  {
   "cell_type": "code",
   "execution_count": null,
   "id": "b9f3a7b4-5467-4c94-b7b9-e39626e4132a",
   "metadata": {},
   "outputs": [],
   "source": []
  },
  {
   "cell_type": "code",
   "execution_count": null,
   "id": "30d57b61-0cc3-48a8-89b9-a2a2ce41c51c",
   "metadata": {},
   "outputs": [],
   "source": []
  }
 ],
 "metadata": {
  "kernelspec": {
   "display_name": "Python 3 (ipykernel)",
   "language": "python",
   "name": "python3"
  },
  "language_info": {
   "codemirror_mode": {
    "name": "ipython",
    "version": 3
   },
   "file_extension": ".py",
   "mimetype": "text/x-python",
   "name": "python",
   "nbconvert_exporter": "python",
   "pygments_lexer": "ipython3",
   "version": "3.12.4"
  }
 },
 "nbformat": 4,
 "nbformat_minor": 5
}
