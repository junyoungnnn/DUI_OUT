{
 "cells": [
  {
   "cell_type": "markdown",
   "id": "08e3c0cd-ac86-4759-b25f-4f2c86c6e02d",
   "metadata": {},
   "source": [
    "# 구별 정류소 개수"
   ]
  },
  {
   "cell_type": "code",
   "execution_count": null,
   "id": "9373428a-b763-4482-a46e-fee6751e4d40",
   "metadata": {},
   "outputs": [
    {
     "name": "stdout",
     "output_type": "stream",
     "text": [
      "구별로 분류된 데이터가 저장되었습니다.\n",
      "구별 정류소 개수가 저장되었습니다.\n"
     ]
    }
   ],
   "source": [
    "import geopandas as gpd\n",
    "\n",
    "# 1. 정류소 데이터 로드 (GIS 파일 로드)\n",
    "bus_gdf = gpd.read_file(\"./버스정류소_원본데이터/부산광역시 버스 정류소 정보.zip\")  # 정류소 데이터 GIS 파일 로드\n",
    "\n",
    "# 2. 정류소 데이터의 좌표계를 EPSG:4326으로 설정 (WGS84)\n",
    "bus_gdf = bus_gdf.set_crs(epsg=4326)\n",
    "\n",
    "# 3. 행정구역 경계 데이터 로드\n",
    "admin_boundary_gu = gpd.read_file(\"./버스정류소_원본데이터/LARD_ADM_SECT_SGG_부산.zip\")  # 부산시 행정구역 경계 파일 로드\n",
    "\n",
    "# 4. 좌표계 통일 (WGS84로 변환)\n",
    "admin_boundary_gu= admin_boundary_gu.to_crs(epsg=4326)\n",
    "\n",
    "# 5. 정류소와 행정구역 간 공간 조인\n",
    "# 'within' 대신 'intersects' 또는 'contains'를 사용할 수 있습니다.\n",
    "bus_gdf_with_gu = gpd.sjoin(bus_gdf, admin_boundary_gu, how=\"left\", predicate='intersects')\n",
    "\n",
    "# 6. 결과 저장 (구별로 분류된 데이터 저장)\n",
    "bus_gdf_with_gu[['bstopnm', 'geometry', 'SGG_NM']].to_csv(\"bus_stations_by_gu.csv\", index=False, encoding='cp949')\n",
    "\n",
    "print(\"구별로 분류된 데이터가 저장되었습니다.\")\n",
    "\n",
    "# 7. 구별 정류소 개수 집계\n",
    "gu_station_counts = bus_gdf_with_gu.groupby('SGG_NM').size().reset_index(name='정류소 개수')\n",
    "\n",
    "gu_station_counts\n",
    "# 8. 결과 저장\n",
    "gu_station_counts.to_csv(\"bus_station_counts_by_gu.csv\", index=False, encoding='cp949')\n",
    "\n",
    "print(\"구별 정류소 개수가 저장되었습니다.\")"
   ]
  },
  {
   "cell_type": "markdown",
   "id": "9c1173c7-7182-4383-ae98-01c6428ca03f",
   "metadata": {},
   "source": [
    "# 행정구,행정동 별 버스 정류소 개수"
   ]
  },
  {
   "cell_type": "code",
   "execution_count": 11,
   "id": "c1b44b88-c26c-4197-b88b-514c009517ed",
   "metadata": {},
   "outputs": [],
   "source": [
    "# import geopandas as gpd\n",
    "\n",
    "# # 1. 정류소 데이터 로드 (GIS 파일 로드)\n",
    "# bus_gdf = gpd.read_file(\"C:/Users/User/big/부산광역시 버스 정류소 정보.zip\")  # 정류소 데이터 GIS 파일 로드\n",
    "\n",
    "# # 2. 정류소 데이터의 좌표계를 EPSG:4326으로 설정 (WGS84)\n",
    "# bus_gdf = bus_gdf.set_crs(epsg=4326)\n",
    "\n",
    "# # 3. 행정구역 경계 데이터 로드 (동별, 구별)\n",
    "# admin_boundary_dong = gpd.read_file(\"C:/Users/User/big/BND_ADM_DONG_PG.zip\", encoding=\"cp949\")  # 부산시 행정동 경계 파일 로드\n",
    "# admin_boundary_gu = gpd.read_file(\"C:/Users/User/big/LARD_ADM_SECT_SGG_부산.zip\")  # 부산시 행정구역 경계(구별) 파일 로드\n",
    "\n",
    "# # 4. 좌표계 통일 (WGS84로 변환)\n",
    "# admin_boundary_dong = admin_boundary_dong.to_crs(epsg=4326)\n",
    "# admin_boundary_gu = admin_boundary_gu.to_crs(epsg=4326)\n",
    "\n",
    "# # 5. 정류소와 행정동 간 공간 조인 (정류소가 속한 동 찾기)\n",
    "# bus_gdf_with_dong = gpd.sjoin(bus_gdf, admin_boundary_dong, how=\"left\", predicate='within')\n",
    "\n",
    "# # 6. 'index_right' 충돌 피하기 위해 suffixes 옵션 사용하여 구별 데이터와 결합\n",
    "# bus_gdf_with_gu = gpd.sjoin(bus_gdf_with_dong, admin_boundary_gu[['geometry', 'SGG_NM']], how=\"left\", predicate='within', lsuffix='_dong', rsuffix='_gu')\n",
    "\n",
    "# # 7. 중복된 정류소 제거 (정류소 이름과 위치 기준으로 중복 제거)\n",
    "# bus_gdf_with_gu = bus_gdf_with_gu.drop_duplicates(subset=['bstopnm', 'geometry'])\n",
    "\n",
    "# # 8. 구와 동별로 정류소 개수 집계\n",
    "# dong_station_counts = bus_gdf_with_gu.groupby(['SGG_NM', 'ADM_NM']).size().reset_index(name='정류소 개수')\n",
    "\n",
    "# # 9. 결과 저장 (동별 정류소 개수)\n",
    "# dong_station_counts.to_csv(\"bus_station_counts_by_dong.csv\", index=False, encoding='cp949')\n",
    "\n",
    "# print(\"동별 정류소 개수가 저장되었습니다.\")"
   ]
  }
 ],
 "metadata": {
  "kernelspec": {
   "display_name": "Python 3 (ipykernel)",
   "language": "python",
   "name": "python3"
  },
  "language_info": {
   "codemirror_mode": {
    "name": "ipython",
    "version": 3
   },
   "file_extension": ".py",
   "mimetype": "text/x-python",
   "name": "python",
   "nbconvert_exporter": "python",
   "pygments_lexer": "ipython3",
   "version": "3.12.4"
  }
 },
 "nbformat": 4,
 "nbformat_minor": 5
}
