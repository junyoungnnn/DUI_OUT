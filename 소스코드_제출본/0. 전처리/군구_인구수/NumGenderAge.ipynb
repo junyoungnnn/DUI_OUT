{
 "cells": [
  {
   "cell_type": "code",
   "execution_count": null,
   "metadata": {
    "executionInfo": {
     "elapsed": 448,
     "status": "ok",
     "timestamp": 1738652697643,
     "user": {
      "displayName": "김민영",
      "userId": "04334885659529436232"
     },
     "user_tz": -540
    },
    "id": "UhAm2qzWdtD0"
   },
   "outputs": [],
   "source": [
    "import pandas as pd\n",
    "import numpy as np"
   ]
  },
  {
   "cell_type": "code",
   "execution_count": null,
   "metadata": {
    "executionInfo": {
     "elapsed": 438,
     "status": "ok",
     "timestamp": 1738652699126,
     "user": {
      "displayName": "김민영",
      "userId": "04334885659529436232"
     },
     "user_tz": -540
    },
    "id": "QessIJZUCLgP"
   },
   "outputs": [],
   "source": [
    "def delete_data(df_path):\n",
    "  df = pd.read_csv(df_path)\n",
    "  df = df.drop(columns=['연령별(1)'])\n",
    "  df = df[df['연령별(2)'] != '소계']\n",
    "  df.columns = df.iloc[0]\n",
    "  df = df[1:]\n",
    "  df = df.reset_index(drop=True)\n",
    "  new_columns = []\n",
    "  for col in range(len(df.columns)):\n",
    "      new_column_name = f\"{df.columns[col]}_{str(df.iloc[0, col])}\"\n",
    "      new_columns.append(new_column_name)\n",
    "  df.columns = new_columns\n",
    "  df = df.drop(index=0)\n",
    "  df.columns = ['연령별'] + list(df.columns[1:])\n",
    "  df = df.T\n",
    "  df.columns = df.iloc[0]\n",
    "  df = df.drop(index=df.index[0])\n",
    "  df = df.apply(pd.to_numeric, errors='coerce')\n",
    "  sums = []\n",
    "  for i in range(0, len(df.columns), 10):\n",
    "      start = int(df.columns[i].replace('세', ''))\n",
    "      end = int(df.columns[i+9].replace('세', ''))\n",
    "      sum_col = df.iloc[:, i:i+10].sum(axis=1)\n",
    "      sums.append(sum_col)\n",
    "      sums[-1].name = f\"{start}세~{end}세\"\n",
    "  df = pd.concat(sums, axis=1)\n",
    "  df = df.T\n",
    "\n",
    "  return df"
   ]
  },
  {
   "cell_type": "code",
   "execution_count": null,
   "metadata": {
    "colab": {
     "base_uri": "https://localhost:8080/"
    },
    "executionInfo": {
     "elapsed": 269,
     "status": "ok",
     "timestamp": 1738652938232,
     "user": {
      "displayName": "김민영",
      "userId": "04334885659529436232"
     },
     "user_tz": -540
    },
    "id": "SR0m42M3CgPF",
    "outputId": "b1617513-a6d0-4b72-eb95-4c5c8f65f002"
   },
   "outputs": [
    {
     "name": "stdout",
     "output_type": "stream",
     "text": [
      "CSV 파일이 'output.csv'로 저장되었습니다.\n"
     ]
    }
   ],
   "source": [
    "df = delete_data('./인구수_원본데이터/20210100.csv')\n",
    "\n",
    "indices = range(0, len(df.columns), 3)\n",
    "selected_columns = df.iloc[:, indices]\n",
    "selected_columns\n",
    "\n",
    "column_sums = df.sum()\n",
    "column_sums.name = '합계'\n",
    "df_with_total = pd.concat([df, column_sums.to_frame().T])\n",
    "\n",
    "sum_row = df_with_total.loc[['합계']]\n",
    "#sum_row = sum_row.T\n",
    "\n",
    "sum_row.to_csv(\"output.csv\", index=False, encoding=\"utf-8-sig\")\n",
    "print(\"CSV 파일이 'output.csv'로 저장되었습니다.\")"
   ]
  },
  {
   "cell_type": "code",
   "execution_count": null,
   "metadata": {
    "id": "tjJmuD6Eym04"
   },
   "outputs": [],
   "source": []
  }
 ],
 "metadata": {
  "colab": {
   "authorship_tag": "ABX9TyOZsBxBa0KvD2kunA08tT93",
   "provenance": []
  },
  "kernelspec": {
   "display_name": "Python 3",
   "name": "python3"
  },
  "language_info": {
   "name": "python"
  }
 },
 "nbformat": 4,
 "nbformat_minor": 0
}
