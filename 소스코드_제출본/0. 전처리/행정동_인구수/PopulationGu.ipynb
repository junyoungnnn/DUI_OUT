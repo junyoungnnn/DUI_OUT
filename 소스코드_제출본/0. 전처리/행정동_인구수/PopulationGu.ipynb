{
 "cells": [
  {
   "cell_type": "code",
   "execution_count": 1,
   "metadata": {
    "executionInfo": {
     "elapsed": 1433,
     "status": "ok",
     "timestamp": 1738653110719,
     "user": {
      "displayName": "김민영",
      "userId": "04334885659529436232"
     },
     "user_tz": -540
    },
    "id": "y5zkuuoa5_zB"
   },
   "outputs": [],
   "source": [
    "import numpy as np\n",
    "import pandas as pd"
   ]
  },
  {
   "cell_type": "code",
   "execution_count": null,
   "metadata": {
    "colab": {
     "base_uri": "https://localhost:8080/"
    },
    "executionInfo": {
     "elapsed": 328,
     "status": "ok",
     "timestamp": 1738653133638,
     "user": {
      "displayName": "김민영",
      "userId": "04334885659529436232"
     },
     "user_tz": -540
    },
    "id": "jqqPz1Ao6BLd",
    "outputId": "1940e7e3-ee9e-4a8d-a124-f2917c4115b4"
   },
   "outputs": [
    {
     "name": "stdout",
     "output_type": "stream",
     "text": [
      "CSV 파일이 'output.csv'로 저장되었습니다.\n"
     ]
    }
   ],
   "source": [
    "df = pd.read_csv('./인구수_원본데이터/남구.csv')\n",
    "\n",
    "df.columns = df.iloc[0]\n",
    "df = df[1:]\n",
    "df = df.reset_index(drop=True)\n",
    "\n",
    "columns_to_keep = df.iloc[0] == \"계 (명)\"\n",
    "df = df.loc[:, columns_to_keep]\n",
    "\n",
    "df = df.iloc[:2]\n",
    "df = df[1:]\n",
    "\n",
    "#df = df.T\n",
    "\n",
    "df.to_csv(\"output.csv\", index=False, encoding=\"utf-8-sig\")\n",
    "print(\"CSV 파일이 'output.csv'로 저장되었습니다.\")"
   ]
  },
  {
   "cell_type": "code",
   "execution_count": null,
   "metadata": {
    "id": "9BKwt3Wq6WRj"
   },
   "outputs": [],
   "source": []
  }
 ],
 "metadata": {
  "colab": {
   "authorship_tag": "ABX9TyPEVpZUfLfDCoch2MwqfViz",
   "provenance": []
  },
  "kernelspec": {
   "display_name": "Python 3",
   "name": "python3"
  },
  "language_info": {
   "name": "python"
  }
 },
 "nbformat": 4,
 "nbformat_minor": 0
}
