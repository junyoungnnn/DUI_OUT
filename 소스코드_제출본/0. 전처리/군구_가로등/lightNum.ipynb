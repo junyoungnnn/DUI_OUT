{
 "cells": [
  {
   "cell_type": "code",
   "execution_count": 2,
   "metadata": {
    "executionInfo": {
     "elapsed": 676,
     "status": "ok",
     "timestamp": 1738650925083,
     "user": {
      "displayName": "김민영",
      "userId": "04334885659529436232"
     },
     "user_tz": -540
    },
    "id": "QcFPPZ2wpH0W"
   },
   "outputs": [],
   "source": [
    "import pandas as pd\n",
    "import numpy as np\n",
    "import chardet"
   ]
  },
  {
   "cell_type": "code",
   "execution_count": null,
   "metadata": {
    "colab": {
     "base_uri": "https://localhost:8080/"
    },
    "executionInfo": {
     "elapsed": 311,
     "status": "ok",
     "timestamp": 1738651239646,
     "user": {
      "displayName": "김민영",
      "userId": "04334885659529436232"
     },
     "user_tz": -540
    },
    "id": "aHkA9WWlpyH6",
    "outputId": "70d5c988-4167-45f4-cd45-764a192d1d25"
   },
   "outputs": [
    {
     "name": "stdout",
     "output_type": "stream",
     "text": [
      "EUC-KR\n",
      "CSV 파일이 '가로등수_output.csv'로 저장되었습니다.\n"
     ]
    }
   ],
   "source": [
    "with open('./가로등 원본 데이터/부산광역시_가로등(광원별) 설치 현황_20231213.csv', 'rb') as f:\n",
    "    result = chardet.detect(f.read())\n",
    "    print(result['encoding'])\n",
    "\n",
    "df = pd.read_csv('./가로등 원본 데이터/부산광역시_가로등(광원별) 설치 현황_20231213.csv', encoding=result['encoding'])\n",
    "\n",
    "df = df.fillna(0)\n",
    "\n",
    "df['합계'] = df.iloc[:, 1:].sum(axis=1)\n",
    "\n",
    "columns = list(df.columns)\n",
    "columns.insert(1, columns.pop(-1))\n",
    "df = df[columns]\n",
    "\n",
    "df = df[['관리부서', '합계']]\n",
    "df['합계'] = df['합계'].astype(int)\n",
    "\n",
    "df.to_csv(\"가로등수_output.csv\", index=False, encoding=\"utf-8-sig\")\n",
    "print(\"CSV 파일이 '가로등수_output.csv'로 저장되었습니다.\")"
   ]
  },
  {
   "cell_type": "code",
   "execution_count": null,
   "metadata": {
    "id": "pcmclmZHsRCt"
   },
   "outputs": [],
   "source": []
  }
 ],
 "metadata": {
  "colab": {
   "authorship_tag": "ABX9TyNp2ArCmu+CgxehL8wn6Kyv",
   "provenance": []
  },
  "kernelspec": {
   "display_name": "Python 3",
   "name": "python3"
  },
  "language_info": {
   "name": "python"
  }
 },
 "nbformat": 4,
 "nbformat_minor": 0
}
