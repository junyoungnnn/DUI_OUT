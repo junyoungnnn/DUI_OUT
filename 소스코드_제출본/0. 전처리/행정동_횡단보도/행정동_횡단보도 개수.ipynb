{
 "cells": [
  {
   "cell_type": "code",
   "execution_count": null,
   "id": "520e1af3-2562-4919-badb-324aaff5c017",
   "metadata": {},
   "outputs": [],
   "source": [
    "import geopandas as gpd\n",
    "\n",
    "# 1. 정류소 데이터 로드 (GIS 파일 로드)\n",
    "crosswalk_gdf = gpd.read_file(\"./횡단보도_원본데이터/부산광역시 신호등 설치 횡단보도 위치정보.zip\",encoding=\"cp949\")  # 정류소 데이터 GIS 파일 로드\n",
    "\n",
    "# 2. 정류소 데이터의 좌표계를 EPSG:4326으로 설정 (WGS84)\n",
    "crosswalk_gdf = crosswalk_gdf.set_crs(epsg=4326)\n",
    "\n",
    "# 3. 행정구역 경계 데이터 로드\n",
    "admin_boundary_dong = gpd.read_file(\"./횡단보도_원본데이터/BND_ADM_DONG_PG.zip\",encoding=\"cp949\")  # 부산시 행정구역 경계 파일 로드\n",
    "\n",
    "# 4. 좌표계 통일 (WGS84로 변환)\n",
    "admin_boundary_dong = admin_boundary_dong.to_crs(epsg=4326)\n",
    "\n",
    "# 5. 횡당보도와 행정동 간 공간 조인\n",
    "# 'within' 대신 'intersects' 또는 'contains'를 사용할 수 있습니다.\n",
    "crosswalk_gdf_with_dong = gpd.sjoin(crosswalk_gdf, admin_boundary_dong, how=\"left\", predicate='intersects')\n",
    "\n",
    "# 6. 결과 저장 (구별로 분류된 데이터 저장)\n",
    "crosswalk_gdf_with_dong[['address_do','geometry', 'ADM_NM']].to_csv(\"crosswalk_by_dong.csv\", index=False, encoding='cp949')\n",
    "\n",
    "print(\"동별로 분류된 데이터가 저장되었습니다.\")\n",
    "\n",
    "# 7. 동별 정류소 개수 집계\n",
    "crosswalk_counts = crosswalk_gdf_with_dong.groupby('ADM_NM').size().reset_index(name='횡단보도 개수')\n",
    "\n",
    "# 8. 결과 저장\n",
    "crosswalk_counts.to_csv(\"crosswalk_counts_by_dong.csv\", index=False, encoding='cp949')\n",
    "\n",
    "print(\"동별 횡단보도 개수가 저장되었습니다.\")"
   ]
  }
 ],
 "metadata": {
  "kernelspec": {
   "display_name": "Python 3 (ipykernel)",
   "language": "python",
   "name": "python3"
  },
  "language_info": {
   "codemirror_mode": {
    "name": "ipython",
    "version": 3
   },
   "file_extension": ".py",
   "mimetype": "text/x-python",
   "name": "python",
   "nbconvert_exporter": "python",
   "pygments_lexer": "ipython3",
   "version": "3.12.4"
  }
 },
 "nbformat": 4,
 "nbformat_minor": 5
}
