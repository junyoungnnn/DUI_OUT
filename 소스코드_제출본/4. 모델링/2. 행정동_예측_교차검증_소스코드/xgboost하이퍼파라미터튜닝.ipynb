{
 "cells": [
  {
   "cell_type": "code",
   "execution_count": 1,
   "metadata": {},
   "outputs": [],
   "source": [
    "# 운영 체제마다 한글이 보이게 하는 설정\n",
    "# 윈도우\n",
    "import platform\n",
    "import matplotlib\n",
    "from matplotlib import font_manager, rc\n",
    "\n",
    "# '-' 기호 보이게 하기\n",
    "matplotlib.rcParams['axes.unicode_minus'] = False\n",
    "\n",
    "if platform.system() == 'Windows':\n",
    "    path = \"C:\\\\Windows\\\\Fonts\\\\malgun.ttf\"\n",
    "    font_name = font_manager.FontProperties(fname=path).get_name()\n",
    "    rc('font', family=font_name)"
   ]
  },
  {
   "cell_type": "code",
   "execution_count": 2,
   "metadata": {},
   "outputs": [
    {
     "name": "stdout",
     "output_type": "stream",
     "text": [
      "Fitting 5 folds for each of 8748 candidates, totalling 43740 fits\n",
      "최적 하이퍼파라미터: {'alpha': 0, 'colsample_bytree': 0.8, 'gamma': 0.5, 'lambda': 0.5, 'learning_rate': 0.1, 'max_depth': 6, 'min_child_weight': 3, 'subsample': 0.9}\n",
      "XGBoost MSE: 0.6491390861129589\n",
      "XGBoost MAE: 0.520833684147858\n",
      "XGBoost RMSE: 0.8056916817945676\n",
      "XGBoost R2 Score: 0.902387416931859\n"
     ]
    }
   ],
   "source": [
    "import pandas as pd\n",
    "import numpy as np\n",
    "import xgboost as xgb\n",
    "from sklearn.model_selection import train_test_split, GridSearchCV\n",
    "from sklearn.preprocessing import StandardScaler\n",
    "from sklearn.decomposition import PCA\n",
    "from sklearn.metrics import mean_squared_error, mean_absolute_error, r2_score\n",
    "import tempfile\n",
    "import joblib\n",
    "\n",
    "# 데이터 불러오기\n",
    "data = pd.read_csv('../1. 행정동_상위변수_데이터/행정동_음주운전_합본_cp949.csv', encoding='cp949')\n",
    "\n",
    "# Feature와 Target 분리\n",
    "X = data.drop(columns=['읍면동', '음주운전 적발 건수'])\n",
    "y = data['음주운전 적발 건수']\n",
    "\n",
    "# 데이터 분할\n",
    "X_train, X_test, y_train, y_test = train_test_split(X, y, test_size=0.2, random_state=29)\n",
    "\n",
    "# 데이터 표준화\n",
    "scaler = StandardScaler()\n",
    "X_train_scaled = scaler.fit_transform(X_train)\n",
    "X_test_scaled = scaler.transform(X_test)\n",
    "\n",
    "# PCA 적용\n",
    "pca = PCA(n_components=0.95, random_state=29)\n",
    "X_train_pca = pca.fit_transform(X_train_scaled)\n",
    "X_test_pca = pca.transform(X_test_scaled)\n",
    "\n",
    "# XGBoost 모델 설정\n",
    "xgb_model = xgb.XGBRegressor(objective='reg:squarederror', seed=29)\n",
    "\n",
    "# 하이퍼 파라미터 그리드 설정\n",
    "param_grid = {\n",
    "    'max_depth': [6, 8, 10, 12],\n",
    "    'learning_rate': [0.01, 0.05, 0.1],\n",
    "    'subsample': [0.7, 0.8, 0.9],\n",
    "    'colsample_bytree': [0.7, 0.8, 0.9],\n",
    "    'gamma': [0, 0.5, 1],\n",
    "    'min_child_weight': [1, 3, 5],\n",
    "    'alpha': [0, 0.1, 0.5],\n",
    "    'lambda': [0.5, 1, 2]\n",
    "}\n",
    "\n",
    "# 미리 C:\\temp 폴더 생성 후 사용\n",
    "temp_folder = tempfile.mkdtemp(dir=\"C:\\\\temp\")\n",
    "\n",
    "grid_search = GridSearchCV(estimator=xgb_model,\n",
    "                           param_grid=param_grid,\n",
    "                           scoring='r2',\n",
    "                           cv=5,\n",
    "                           verbose=1,\n",
    "                           n_jobs=-1)\n",
    "\n",
    "# Grid Search 학습 시, 임시 폴더 명시적으로 지정\n",
    "with joblib.parallel_backend('loky', temp_folder=temp_folder):\n",
    "    grid_search.fit(X_train_pca, y_train)\n",
    "\n",
    "# 최적 모델 선택\n",
    "best_model = grid_search.best_estimator_\n",
    "\n",
    "# 예측 및 평가\n",
    "y_pred = best_model.predict(X_test_pca)\n",
    "\n",
    "# 평가 지표 계산\n",
    "mse = mean_squared_error(y_test, y_pred)\n",
    "mae = mean_absolute_error(y_test, y_pred)\n",
    "rmse = np.sqrt(mse)\n",
    "r2 = r2_score(y_test, y_pred)\n",
    "\n",
    "# 평가 지표 출력\n",
    "print(f\"최적 하이퍼파라미터: {grid_search.best_params_}\")\n",
    "print(f\"XGBoost MSE: {mse}\")\n",
    "print(f\"XGBoost MAE: {mae}\")\n",
    "print(f\"XGBoost RMSE: {rmse}\")\n",
    "print(f\"XGBoost R2 Score: {r2}\")\n"
   ]
  },
  {
   "cell_type": "code",
   "execution_count": 6,
   "metadata": {},
   "outputs": [
    {
     "name": "stdout",
     "output_type": "stream",
     "text": [
      "PCA 로딩 행렬:\n"
     ]
    },
    {
     "data": {
      "text/html": [
       "<div>\n",
       "<style scoped>\n",
       "    .dataframe tbody tr th:only-of-type {\n",
       "        vertical-align: middle;\n",
       "    }\n",
       "\n",
       "    .dataframe tbody tr th {\n",
       "        vertical-align: top;\n",
       "    }\n",
       "\n",
       "    .dataframe thead th {\n",
       "        text-align: right;\n",
       "    }\n",
       "</style>\n",
       "<table border=\"1\" class=\"dataframe\">\n",
       "  <thead>\n",
       "    <tr style=\"text-align: right;\">\n",
       "      <th></th>\n",
       "      <th>자동차 등록 대수</th>\n",
       "      <th>인구수</th>\n",
       "      <th>횡단보도 개수</th>\n",
       "      <th>음식점 수</th>\n",
       "      <th>버스정류장 개수</th>\n",
       "      <th>음주 교통사고 건수</th>\n",
       "    </tr>\n",
       "  </thead>\n",
       "  <tbody>\n",
       "    <tr>\n",
       "      <th>PC1</th>\n",
       "      <td>0.409747</td>\n",
       "      <td>0.460800</td>\n",
       "      <td>0.403554</td>\n",
       "      <td>0.296010</td>\n",
       "      <td>0.406990</td>\n",
       "      <td>0.451279</td>\n",
       "    </tr>\n",
       "    <tr>\n",
       "      <th>PC2</th>\n",
       "      <td>-0.281225</td>\n",
       "      <td>-0.365493</td>\n",
       "      <td>0.581489</td>\n",
       "      <td>-0.163916</td>\n",
       "      <td>0.575117</td>\n",
       "      <td>-0.302604</td>\n",
       "    </tr>\n",
       "    <tr>\n",
       "      <th>PC3</th>\n",
       "      <td>-0.131059</td>\n",
       "      <td>-0.179204</td>\n",
       "      <td>-0.083363</td>\n",
       "      <td>0.933893</td>\n",
       "      <td>0.032749</td>\n",
       "      <td>-0.265579</td>\n",
       "    </tr>\n",
       "    <tr>\n",
       "      <th>PC4</th>\n",
       "      <td>0.849404</td>\n",
       "      <td>-0.269566</td>\n",
       "      <td>0.011872</td>\n",
       "      <td>-0.058490</td>\n",
       "      <td>-0.021025</td>\n",
       "      <td>-0.449269</td>\n",
       "    </tr>\n",
       "  </tbody>\n",
       "</table>\n",
       "</div>"
      ],
      "text/plain": [
       "     자동차 등록 대수       인구수   횡단보도 개수     음식점 수  버스정류장 개수  음주 교통사고 건수\n",
       "PC1   0.409747  0.460800  0.403554  0.296010  0.406990    0.451279\n",
       "PC2  -0.281225 -0.365493  0.581489 -0.163916  0.575117   -0.302604\n",
       "PC3  -0.131059 -0.179204 -0.083363  0.933893  0.032749   -0.265579\n",
       "PC4   0.849404 -0.269566  0.011872 -0.058490 -0.021025   -0.449269"
      ]
     },
     "execution_count": 6,
     "metadata": {},
     "output_type": "execute_result"
    }
   ],
   "source": [
    "# PCA 로딩 행렬 출력\n",
    "loading_matrix = pd.DataFrame(\n",
    "    pca.components_,  # 주성분 계수 행렬\n",
    "    columns=X.columns,  # 원본 변수명\n",
    "    index=[f\"PC{i+1}\" for i in range(pca.n_components_)]  # 주성분 이름\n",
    ")\n",
    "\n",
    "print(\"PCA 로딩 행렬:\")\n",
    "loading_matrix"
   ]
  },
  {
   "cell_type": "code",
   "execution_count": 7,
   "metadata": {},
   "outputs": [
    {
     "data": {
      "image/png": "[encoded data removed]",
      "text/plain": [
       "<Figure size 640x480 with 1 Axes>"
      ]
     },
     "metadata": {},
     "output_type": "display_data"
    }
   ],
   "source": [
    "import matplotlib.pyplot as plt\n",
    "xgb.plot_importance(best_model)\n",
    "plt.show()\n"
   ]
  },
  {
   "cell_type": "code",
   "execution_count": 15,
   "metadata": {},
   "outputs": [
    {
     "name": "stdout",
     "output_type": "stream",
     "text": [
      "\n",
      "PCA 로딩 행렬:\n",
      "     자동차 등록 대수       인구수   횡단보도 개수     음식점 수  버스정류장 개수  음주 교통사고 건수\n",
      "PC1   0.409747  0.460800  0.403554  0.296010  0.406990    0.451279\n",
      "PC2  -0.281225 -0.365493  0.581489 -0.163916  0.575117   -0.302604\n",
      "PC3  -0.131059 -0.179204 -0.083363  0.933893  0.032749   -0.265579\n",
      "PC4   0.849404 -0.269566  0.011872 -0.058490 -0.021025   -0.449269\n"
     ]
    },
    {
     "data": {
      "image/png": "[encoded data removed]",
      "text/plain": [
       "<Figure size 800x500 with 1 Axes>"
      ]
     },
     "metadata": {},
     "output_type": "display_data"
    },
    {
     "name": "stdout",
     "output_type": "stream",
     "text": [
      "\n",
      "XGBoost가 중요하게 여긴 주성분:\n",
      "    PC  Importance\n",
      "0  PC1    0.531840\n",
      "3  PC4    0.206660\n",
      "2  PC3    0.132308\n",
      "1  PC2    0.129191\n",
      "\n",
      "PC1 (중요도: 0.5318) 관련 원본 변수:\n",
      "자동차 등록 대수     0.409747\n",
      "인구수           0.460800\n",
      "횡단보도 개수       0.403554\n",
      "음식점 수         0.296010\n",
      "버스정류장 개수      0.406990\n",
      "음주 교통사고 건수    0.451279\n",
      "Name: PC1, dtype: float64\n",
      "\n",
      "PC4 (중요도: 0.2067) 관련 원본 변수:\n",
      "자동차 등록 대수     0.849404\n",
      "인구수          -0.269566\n",
      "횡단보도 개수       0.011872\n",
      "음식점 수        -0.058490\n",
      "버스정류장 개수     -0.021025\n",
      "음주 교통사고 건수   -0.449269\n",
      "Name: PC4, dtype: float64\n",
      "\n",
      "PC3 (중요도: 0.1323) 관련 원본 변수:\n",
      "자동차 등록 대수    -0.131059\n",
      "인구수          -0.179204\n",
      "횡단보도 개수      -0.083363\n",
      "음식점 수         0.933893\n",
      "버스정류장 개수      0.032749\n",
      "음주 교통사고 건수   -0.265579\n",
      "Name: PC3, dtype: float64\n",
      "\n",
      "PC2 (중요도: 0.1292) 관련 원본 변수:\n",
      "자동차 등록 대수    -0.281225\n",
      "인구수          -0.365493\n",
      "횡단보도 개수       0.581489\n",
      "음식점 수        -0.163916\n",
      "버스정류장 개수      0.575117\n",
      "음주 교통사고 건수   -0.302604\n",
      "Name: PC2, dtype: float64\n"
     ]
    }
   ],
   "source": [
    "# PCA 로딩 행렬 출력\n",
    "print(\"\\nPCA 로딩 행렬:\")\n",
    "print(loading_matrix)\n",
    "\n",
    "# XGBoost가 중요하게 선택한 주성분이 원본 변수들과 어떤 관계인지 분석\n",
    "feature_importance = best_model.feature_importances_\n",
    "\n",
    "# 각 주성분의 중요도를 데이터프레임으로 정리\n",
    "pc_importance = pd.DataFrame(\n",
    "    {'PC': [f'PC{i+1}' for i in range(pca.n_components_)], 'Importance': feature_importance}\n",
    ").sort_values(by='Importance', ascending=False)\n",
    "\n",
    "# 그래프 시각화\n",
    "plt.figure(figsize=(8, 5))\n",
    "plt.bar(pc_importance['PC'], pc_importance['Importance'], color='skyblue')\n",
    "plt.ylabel('Feature Importance')\n",
    "plt.title('XGBoost Feature Importance for Principal Components')\n",
    "plt.ylim(0, max(pc_importance['Importance']) * 1.1)  # Y축 범위 설정 (최대값보다 약간 크게)\n",
    "\n",
    "# 그래프 출력\n",
    "plt.show()\n",
    "\n",
    "print(\"\\nXGBoost가 중요하게 여긴 주성분:\")\n",
    "print(pc_importance)\n",
    "\n",
    "# XGBoost에서 중요한 주성분이 원본 변수와 어떻게 연결되는지 해석\n",
    "for i, pc in enumerate(pc_importance['PC']):\n",
    "    print(f\"\\n{pc} (중요도: {pc_importance.iloc[i, 1]:.4f}) 관련 원본 변수:\")\n",
    "    print(loading_matrix.loc[pc])\n"
   ]
  },
  {
   "cell_type": "code",
   "execution_count": 4,
   "metadata": {},
   "outputs": [
    {
     "data": {
      "image/png": "[encoded data removed]",
      "text/plain": [
       "<Figure size 800x500 with 1 Axes>"
      ]
     },
     "metadata": {},
     "output_type": "display_data"
    }
   ],
   "source": [
    "import matplotlib.pyplot as plt\n",
    "\n",
    "# 평가 지표 시각화\n",
    "metrics = ['R2 Score', 'MSE', 'MAE']\n",
    "scores = [r2, mse, mae]\n",
    "\n",
    "plt.figure(figsize=(8, 5))\n",
    "bars = plt.bar(metrics, scores, color='skyblue')\n",
    "\n",
    "# 그래프 위에 값 출력\n",
    "for bar in bars:\n",
    "    yval = bar.get_height()\n",
    "    plt.text(bar.get_x() + bar.get_width()/2, yval, f'{yval:.2f}', ha='center', va='bottom')\n",
    "\n",
    "plt.ylabel('Scores')\n",
    "plt.title('XGBoost Evaluation Metrics')\n",
    "plt.tight_layout()\n",
    "plt.show()\n"
   ]
  },
  {
   "cell_type": "code",
   "execution_count": 4,
   "metadata": {},
   "outputs": [],
   "source": [
    "# Fitting 5 folds for each of 8748 candidates, totalling 43740 fits\n",
    "# 최적 하이퍼파라미터: {'alpha': 0, 'colsample_bytree': 0.8, 'gamma': 1, 'lambda': 0.5, 'learning_rate': 0.1, 'max_depth': 10, 'min_child_weight': 3, 'subsample': 0.8}\n",
    "# XGBoost MSE: 0.557233863074655\n",
    "# XGBoost MAE: 0.5202214003966106\n",
    "# XGBoost RMSE: 0.746480986412015\n",
    "# XGBoost R2 Score: 0.9162074231680285"
   ]
  },
  {
   "cell_type": "code",
   "execution_count": null,
   "metadata": {},
   "outputs": [],
   "source": [
    "param_grid = {\n",
    "    'max_depth': [6, 8, 10, 12],\n",
    "    'learning_rate': [0.01, 0.05, 0.1],\n",
    "    'subsample': [0.7, 0.8, 0.9],\n",
    "    'colsample_bytree': [0.7, 0.8, 0.9],\n",
    "    'gamma': [0, 0.5, 1],\n",
    "    'min_child_weight': [1, 3, 5],\n",
    "    'alpha': [0, 0.1, 0.5],\n",
    "    'lambda': [0.5, 1, 2]\n",
    "}"
   ]
  },
  {
   "cell_type": "code",
   "execution_count": 8,
   "metadata": {},
   "outputs": [
    {
     "data": {
      "image/png": "[encoded data removed]",
      "text/plain": [
       "<Figure size 800x500 with 1 Axes>"
      ]
     },
     "metadata": {},
     "output_type": "display_data"
    }
   ],
   "source": [
    "import pandas as pd\n",
    "import numpy as np\n",
    "import xgboost as xgb\n",
    "from sklearn.model_selection import train_test_split, GridSearchCV\n",
    "from sklearn.preprocessing import StandardScaler\n",
    "from sklearn.decomposition import PCA\n",
    "from sklearn.metrics import mean_squared_error, mean_absolute_error, r2_score\n",
    "import matplotlib.pyplot as plt\n",
    "\n",
    "# 데이터 불러오기\n",
    "data = pd.read_csv('../1. 행정동_상위변수_데이터/행정동_음주운전_합본_cp949.csv', encoding='cp949')\n",
    "\n",
    "# Feature와 Target 분리\n",
    "X = data.drop(columns=['읍면동', '음주운전 적발 건수'])\n",
    "y = data['음주운전 적발 건수']\n",
    "\n",
    "# 데이터 분할\n",
    "X_train, X_test, y_train, y_test = train_test_split(X, y, test_size=0.2, random_state=29)\n",
    "\n",
    "# 데이터 표준화\n",
    "scaler = StandardScaler()\n",
    "X_train_scaled = scaler.fit_transform(X_train)\n",
    "X_test_scaled = scaler.transform(X_test)\n",
    "\n",
    "# PCA 적용\n",
    "pca = PCA(n_components=0.95, random_state=29)\n",
    "X_train_pca = pca.fit_transform(X_train_scaled)\n",
    "X_test_pca = pca.transform(X_test_scaled)\n",
    "\n",
    "# PCA 설명 분산 시각화\n",
    "explained_variance_ratio = pca.explained_variance_ratio_\n",
    "cum_variance_ratio = np.cumsum(explained_variance_ratio)\n",
    "\n",
    "plt.figure(figsize=(8, 5))\n",
    "plt.bar(range(len(explained_variance_ratio)), explained_variance_ratio, alpha=0.5, align='center', label='개별 분산 기여도')\n",
    "plt.step(range(len(cum_variance_ratio)), cum_variance_ratio, where='mid', label='누적 분산 기여도')\n",
    "plt.ylabel('분산 기여 비율')\n",
    "plt.xlabel('주성분')\n",
    "plt.title('PCA 분산 기여도')\n",
    "plt.legend(loc='best')\n",
    "plt.tight_layout()\n",
    "plt.show()\n"
   ]
  },
  {
   "cell_type": "code",
   "execution_count": 5,
   "metadata": {},
   "outputs": [
    {
     "name": "stdout",
     "output_type": "stream",
     "text": [
      "모델이 'xgb_model_best.joblib'에 저장되었습니다.\n",
      "저장된 모델이 로드되었습니다.\n"
     ]
    }
   ],
   "source": [
    "from joblib import dump, load\n",
    "\n",
    "dump(pca, 'pca_model.joblib')\n",
    "dump(scaler, 'scaler.joblib')\n",
    "\n",
    "# 모델 저장\n",
    "dump(best_model, 'xgb_model_best.joblib')\n",
    "print(\"모델이 'xgb_model_best.joblib'에 저장되었습니다.\")\n",
    "\n",
    "# 모델 로드\n",
    "xgb_loaded = load('xgb_model_best.joblib')\n",
    "print(\"저장된 모델이 로드되었습니다.\")\n"
   ]
  }
 ],
 "metadata": {
  "colab": {
   "provenance": []
  },
  "kernelspec": {
   "display_name": "Python 3 (ipykernel)",
   "language": "python",
   "name": "python3"
  },
  "language_info": {
   "codemirror_mode": {
    "name": "ipython",
    "version": 3
   },
   "file_extension": ".py",
   "mimetype": "text/x-python",
   "name": "python",
   "nbconvert_exporter": "python",
   "pygments_lexer": "ipython3",
   "version": "3.12.4"
  }
 },
 "nbformat": 4,
 "nbformat_minor": 4
}
