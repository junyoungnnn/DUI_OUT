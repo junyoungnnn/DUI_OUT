{
 "cells": [
  {
   "cell_type": "code",
   "execution_count": 33,
   "metadata": {
    "executionInfo": {
     "elapsed": 2263,
     "status": "ok",
     "timestamp": 1737703606727,
     "user": {
      "displayName": "노준영",
      "userId": "12714711567111669889"
     },
     "user_tz": -540
    },
    "id": "ZYtNIM1RsLPG"
   },
   "outputs": [],
   "source": [
    "import pandas as pd\n",
    "import numpy as np\n",
    "from sklearn.decomposition import PCA\n",
    "data = pd.read_csv('../1. 행정동_상위변수_데이터/행정동_음주운전_합본_cp949.csv', encoding = 'cp949')"
   ]
  },
  {
   "cell_type": "code",
   "execution_count": 34,
   "metadata": {
    "colab": {
     "base_uri": "https://localhost:8080/",
     "height": 206
    },
    "collapsed": true,
    "executionInfo": {
     "elapsed": 291,
     "status": "ok",
     "timestamp": 1737703608368,
     "user": {
      "displayName": "노준영",
      "userId": "12714711567111669889"
     },
     "user_tz": -540
    },
    "id": "CaOTKFdZIpFR",
    "outputId": "d15d6f04-e0ae-4954-b76d-8ec6b7e1a38e"
   },
   "outputs": [
    {
     "data": {
      "text/html": [
       "<div>\n",
       "<style scoped>\n",
       "    .dataframe tbody tr th:only-of-type {\n",
       "        vertical-align: middle;\n",
       "    }\n",
       "\n",
       "    .dataframe tbody tr th {\n",
       "        vertical-align: top;\n",
       "    }\n",
       "\n",
       "    .dataframe thead th {\n",
       "        text-align: right;\n",
       "    }\n",
       "</style>\n",
       "<table border=\"1\" class=\"dataframe\">\n",
       "  <thead>\n",
       "    <tr style=\"text-align: right;\">\n",
       "      <th></th>\n",
       "      <th>읍면동</th>\n",
       "      <th>자동차 등록 대수</th>\n",
       "      <th>인구수</th>\n",
       "      <th>횡단보도 개수</th>\n",
       "      <th>음식점 수</th>\n",
       "      <th>버스정류장 개수</th>\n",
       "      <th>음주 교통사고 건수</th>\n",
       "      <th>음주운전 적발 건수</th>\n",
       "    </tr>\n",
       "  </thead>\n",
       "  <tbody>\n",
       "    <tr>\n",
       "      <th>0</th>\n",
       "      <td>가덕도동</td>\n",
       "      <td>2327</td>\n",
       "      <td>3941</td>\n",
       "      <td>4</td>\n",
       "      <td>25</td>\n",
       "      <td>88</td>\n",
       "      <td>1.14</td>\n",
       "      <td>0.66</td>\n",
       "    </tr>\n",
       "    <tr>\n",
       "      <th>1</th>\n",
       "      <td>가락동</td>\n",
       "      <td>2095</td>\n",
       "      <td>2345</td>\n",
       "      <td>33</td>\n",
       "      <td>12</td>\n",
       "      <td>57</td>\n",
       "      <td>0.68</td>\n",
       "      <td>0.40</td>\n",
       "    </tr>\n",
       "    <tr>\n",
       "      <th>2</th>\n",
       "      <td>가야1동</td>\n",
       "      <td>5540</td>\n",
       "      <td>19224</td>\n",
       "      <td>14</td>\n",
       "      <td>36</td>\n",
       "      <td>13</td>\n",
       "      <td>5.42</td>\n",
       "      <td>2.65</td>\n",
       "    </tr>\n",
       "    <tr>\n",
       "      <th>3</th>\n",
       "      <td>가야2동</td>\n",
       "      <td>5540</td>\n",
       "      <td>16844</td>\n",
       "      <td>8</td>\n",
       "      <td>43</td>\n",
       "      <td>18</td>\n",
       "      <td>4.75</td>\n",
       "      <td>2.32</td>\n",
       "    </tr>\n",
       "    <tr>\n",
       "      <th>4</th>\n",
       "      <td>감만1동</td>\n",
       "      <td>7514</td>\n",
       "      <td>12970</td>\n",
       "      <td>14</td>\n",
       "      <td>25</td>\n",
       "      <td>40</td>\n",
       "      <td>1.37</td>\n",
       "      <td>1.37</td>\n",
       "    </tr>\n",
       "  </tbody>\n",
       "</table>\n",
       "</div>"
      ],
      "text/plain": [
       "    읍면동  자동차 등록 대수    인구수  횡단보도 개수  음식점 수  버스정류장 개수  음주 교통사고 건수  음주운전 적발 건수\n",
       "0  가덕도동       2327   3941        4     25        88        1.14        0.66\n",
       "1   가락동       2095   2345       33     12        57        0.68        0.40\n",
       "2  가야1동       5540  19224       14     36        13        5.42        2.65\n",
       "3  가야2동       5540  16844        8     43        18        4.75        2.32\n",
       "4  감만1동       7514  12970       14     25        40        1.37        1.37"
      ]
     },
     "execution_count": 34,
     "metadata": {},
     "output_type": "execute_result"
    }
   ],
   "source": [
    "data.head()"
   ]
  },
  {
   "cell_type": "code",
   "execution_count": 35,
   "metadata": {
    "executionInfo": {
     "elapsed": 274,
     "status": "ok",
     "timestamp": 1737703610280,
     "user": {
      "displayName": "노준영",
      "userId": "12714711567111669889"
     },
     "user_tz": -540
    },
    "id": "flLCzgOOGDTv"
   },
   "outputs": [],
   "source": [
    "X = data.drop(columns = ['읍면동', '음주운전 적발 건수'])\n",
    "y = data['음주운전 적발 건수']"
   ]
  },
  {
   "cell_type": "code",
   "execution_count": 36,
   "metadata": {
    "executionInfo": {
     "elapsed": 7741,
     "status": "ok",
     "timestamp": 1737703619169,
     "user": {
      "displayName": "노준영",
      "userId": "12714711567111669889"
     },
     "user_tz": -540
    },
    "id": "Gj4JsSUKIofH"
   },
   "outputs": [],
   "source": [
    "from sklearn.model_selection import train_test_split\n",
    "\n",
    "X_train, X_test, y_train, y_test = train_test_split(X, y, test_size = 0.2, random_state = 29)"
   ]
  },
  {
   "cell_type": "code",
   "execution_count": 37,
   "metadata": {
    "executionInfo": {
     "elapsed": 275,
     "status": "ok",
     "timestamp": 1737703622261,
     "user": {
      "displayName": "노준영",
      "userId": "12714711567111669889"
     },
     "user_tz": -540
    },
    "id": "B8opUJTlrpmj"
   },
   "outputs": [],
   "source": [
    "from sklearn.preprocessing import StandardScaler\n",
    "scaler = StandardScaler()\n",
    "\n",
    "X_train = scaler.fit_transform(X_train)\n",
    "X_test = scaler.transform(X_test)"
   ]
  },
  {
   "cell_type": "code",
   "execution_count": 38,
   "metadata": {},
   "outputs": [],
   "source": [
    "# PCA 적용\n",
    "pca = PCA(n_components=0.95, random_state=2025)\n",
    "X_train = pca.fit_transform(X_train)\n",
    "X_test = pca.transform(X_test)"
   ]
  },
  {
   "cell_type": "code",
   "execution_count": 7,
   "metadata": {
    "colab": {
     "base_uri": "https://localhost:8080/"
    },
    "executionInfo": {
     "elapsed": 356832,
     "status": "ok",
     "timestamp": 1737704532099,
     "user": {
      "displayName": "노준영",
      "userId": "12714711567111669889"
     },
     "user_tz": -540
    },
    "id": "pYHg3ravJHxG",
    "outputId": "86df05ef-7bae-4204-c9ca-730ba9aa02c8"
   },
   "outputs": [
    {
     "name": "stdout",
     "output_type": "stream",
     "text": [
      "Fitting 5 folds for each of 324 candidates, totalling 1620 fits\n"
     ]
    },
    {
     "name": "stderr",
     "output_type": "stream",
     "text": [
      "c:\\Users\\User\\anaconda3\\Lib\\site-packages\\sklearn\\model_selection\\_validation.py:547: FitFailedWarning: \n",
      "540 fits failed out of a total of 1620.\n",
      "The score on these train-test partitions for these parameters will be set to nan.\n",
      "If these failures are not expected, you can try to debug them by setting error_score='raise'.\n",
      "\n",
      "Below are more details about the failures:\n",
      "--------------------------------------------------------------------------------\n",
      "468 fits failed with the following error:\n",
      "Traceback (most recent call last):\n",
      "  File \"c:\\Users\\User\\anaconda3\\Lib\\site-packages\\sklearn\\model_selection\\_validation.py\", line 895, in _fit_and_score\n",
      "    estimator.fit(X_train, y_train, **fit_params)\n",
      "  File \"c:\\Users\\User\\anaconda3\\Lib\\site-packages\\sklearn\\base.py\", line 1467, in wrapper\n",
      "    estimator._validate_params()\n",
      "  File \"c:\\Users\\User\\anaconda3\\Lib\\site-packages\\sklearn\\base.py\", line 666, in _validate_params\n",
      "    validate_parameter_constraints(\n",
      "  File \"c:\\Users\\User\\anaconda3\\Lib\\site-packages\\sklearn\\utils\\_param_validation.py\", line 95, in validate_parameter_constraints\n",
      "    raise InvalidParameterError(\n",
      "sklearn.utils._param_validation.InvalidParameterError: The 'max_features' parameter of RandomForestRegressor must be an int in the range [1, inf), a float in the range (0.0, 1.0], a str among {'sqrt', 'log2'} or None. Got 'auto' instead.\n",
      "\n",
      "--------------------------------------------------------------------------------\n",
      "72 fits failed with the following error:\n",
      "Traceback (most recent call last):\n",
      "  File \"c:\\Users\\User\\anaconda3\\Lib\\site-packages\\sklearn\\model_selection\\_validation.py\", line 895, in _fit_and_score\n",
      "    estimator.fit(X_train, y_train, **fit_params)\n",
      "  File \"c:\\Users\\User\\anaconda3\\Lib\\site-packages\\sklearn\\base.py\", line 1467, in wrapper\n",
      "    estimator._validate_params()\n",
      "  File \"c:\\Users\\User\\anaconda3\\Lib\\site-packages\\sklearn\\base.py\", line 666, in _validate_params\n",
      "    validate_parameter_constraints(\n",
      "  File \"c:\\Users\\User\\anaconda3\\Lib\\site-packages\\sklearn\\utils\\_param_validation.py\", line 95, in validate_parameter_constraints\n",
      "    raise InvalidParameterError(\n",
      "sklearn.utils._param_validation.InvalidParameterError: The 'max_features' parameter of RandomForestRegressor must be an int in the range [1, inf), a float in the range (0.0, 1.0], a str among {'log2', 'sqrt'} or None. Got 'auto' instead.\n",
      "\n",
      "  warnings.warn(some_fits_failed_message, FitFailedWarning)\n",
      "c:\\Users\\User\\anaconda3\\Lib\\site-packages\\sklearn\\model_selection\\_search.py:1051: UserWarning: One or more of the test scores are non-finite: [       nan        nan        nan        nan        nan        nan\n",
      "        nan        nan        nan        nan        nan        nan\n",
      "        nan        nan        nan        nan        nan        nan\n",
      "        nan        nan        nan        nan        nan        nan\n",
      "        nan        nan        nan 0.76677263 0.76699462 0.76843045\n",
      " 0.75028752 0.75049144 0.75371126 0.74144033 0.74533076 0.74524456\n",
      " 0.75852327 0.75893159 0.75931223 0.76951606 0.76321695 0.76440673\n",
      " 0.74988827 0.74720119 0.74773649 0.75713748 0.74941888 0.74737514\n",
      " 0.75713748 0.74941888 0.74737514 0.75267943 0.75001812 0.74721678\n",
      " 0.76677263 0.76699462 0.76843045 0.75028752 0.75049144 0.75371126\n",
      " 0.74144033 0.74533076 0.74524456 0.75852327 0.75893159 0.75931223\n",
      " 0.76951606 0.76321695 0.76440673 0.74988827 0.74720119 0.74773649\n",
      " 0.75713748 0.74941888 0.74737514 0.75713748 0.74941888 0.74737514\n",
      " 0.75267943 0.75001812 0.74721678        nan        nan        nan\n",
      "        nan        nan        nan        nan        nan        nan\n",
      "        nan        nan        nan        nan        nan        nan\n",
      "        nan        nan        nan        nan        nan        nan\n",
      "        nan        nan        nan        nan        nan        nan\n",
      " 0.76449014 0.76191061 0.76279719 0.75133452 0.75345282 0.7552198\n",
      " 0.74030598 0.743418   0.74292999 0.76924163 0.76424932 0.76434408\n",
      " 0.75723691 0.7562398  0.75830873 0.74982268 0.74751778 0.74687789\n",
      " 0.75509189 0.74802502 0.747012   0.75509189 0.74802502 0.747012\n",
      " 0.75403089 0.74930032 0.74670793 0.76449014 0.76191061 0.76279719\n",
      " 0.75133452 0.75345282 0.7552198  0.74030598 0.743418   0.74292999\n",
      " 0.76924163 0.76424932 0.76434408 0.75723691 0.7562398  0.75830873\n",
      " 0.74982268 0.74751778 0.74687789 0.75509189 0.74802502 0.747012\n",
      " 0.75509189 0.74802502 0.747012   0.75403089 0.74930032 0.74670793\n",
      "        nan        nan        nan        nan        nan        nan\n",
      "        nan        nan        nan        nan        nan        nan\n",
      "        nan        nan        nan        nan        nan        nan\n",
      "        nan        nan        nan        nan        nan        nan\n",
      "        nan        nan        nan 0.76676598 0.76574953 0.76671273\n",
      " 0.75025571 0.75047102 0.75348386 0.74144033 0.74533076 0.74524456\n",
      " 0.75852327 0.7587878  0.7592098  0.76951606 0.76321695 0.76440673\n",
      " 0.74988827 0.74720119 0.74773649 0.75713748 0.74941888 0.74737514\n",
      " 0.75713748 0.74941888 0.74737514 0.75267943 0.75001812 0.74721678\n",
      " 0.76676598 0.76574953 0.76671273 0.75025571 0.75047102 0.75348386\n",
      " 0.74144033 0.74533076 0.74524456 0.75852327 0.7587878  0.7592098\n",
      " 0.76951606 0.76321695 0.76440673 0.74988827 0.74720119 0.74773649\n",
      " 0.75713748 0.74941888 0.74737514 0.75713748 0.74941888 0.74737514\n",
      " 0.75267943 0.75001812 0.74721678        nan        nan        nan\n",
      "        nan        nan        nan        nan        nan        nan\n",
      "        nan        nan        nan        nan        nan        nan\n",
      "        nan        nan        nan        nan        nan        nan\n",
      "        nan        nan        nan        nan        nan        nan\n",
      " 0.76677263 0.76699462 0.76843045 0.75028752 0.75049144 0.75371126\n",
      " 0.74144033 0.74533076 0.74524456 0.75852327 0.75893159 0.75931223\n",
      " 0.76951606 0.76321695 0.76440673 0.74988827 0.74720119 0.74773649\n",
      " 0.75713748 0.74941888 0.74737514 0.75713748 0.74941888 0.74737514\n",
      " 0.75267943 0.75001812 0.74721678 0.76677263 0.76699462 0.76843045\n",
      " 0.75028752 0.75049144 0.75371126 0.74144033 0.74533076 0.74524456\n",
      " 0.75852327 0.75893159 0.75931223 0.76951606 0.76321695 0.76440673\n",
      " 0.74988827 0.74720119 0.74773649 0.75713748 0.74941888 0.74737514\n",
      " 0.75713748 0.74941888 0.74737514 0.75267943 0.75001812 0.74721678]\n",
      "  warnings.warn(\n"
     ]
    },
    {
     "name": "stdout",
     "output_type": "stream",
     "text": [
      "Best Parameters: {'max_depth': None, 'max_features': 'sqrt', 'min_samples_leaf': 2, 'min_samples_split': 5, 'n_estimators': 100}\n",
      "Mean Squared Error (MSE): 0.9437498453197691\n",
      "Mean Absolute Error (MAE): 0.5632626356953797\n",
      "Root Mean Squared Error (RMSE): 0.9714678817746726\n",
      "R2 Score: 0.858086098738182\n"
     ]
    }
   ],
   "source": [
    "from sklearn.ensemble import RandomForestRegressor\n",
    "from sklearn.model_selection import GridSearchCV, KFold\n",
    "from sklearn.metrics import mean_squared_error, mean_absolute_error, r2_score\n",
    "import numpy as np\n",
    "\n",
    "# Define the model\n",
    "RF = RandomForestRegressor(random_state=29)\n",
    "\n",
    "# Define the parameter grid for hyperparameter tuning\n",
    "param_grid = {\n",
    "    'n_estimators': [100, 200, 300],\n",
    "    'max_depth': [None, 10, 20, 30],\n",
    "    'min_samples_split': [2, 5, 10],\n",
    "    'min_samples_leaf': [1, 2, 4],\n",
    "    'max_features': ['auto', 'sqrt', 'log2']\n",
    "}\n",
    "\n",
    "# Define K-Fold cross-validation\n",
    "kfold = KFold(n_splits=5, shuffle=True, random_state=29)\n",
    "\n",
    "# Perform GridSearchCV\n",
    "grid_search = GridSearchCV(estimator=RF, param_grid=param_grid, cv=kfold, scoring='r2', n_jobs=-1, verbose=2)\n",
    "grid_search.fit(X_train, y_train)\n",
    "\n",
    "# Best parameters and model\n",
    "best_params = grid_search.best_params_\n",
    "best_model = grid_search.best_estimator_\n",
    "\n",
    "# Predict with the best model\n",
    "y_pred = best_model.predict(X_test)\n",
    "\n",
    "# Evaluate the model\n",
    "RF_mse = mean_squared_error(y_test, y_pred)\n",
    "RF_mae = mean_absolute_error(y_test, y_pred)\n",
    "RF_rmse = np.sqrt(RF_mse)\n",
    "RF_r2 = r2_score(y_test, y_pred)\n",
    "\n",
    "# Print results\n",
    "print(f\"Best Parameters: {best_params}\")\n",
    "print(f\"Mean Squared Error (MSE): {RF_mse}\")\n",
    "print(f\"Mean Absolute Error (MAE): {RF_mae}\")\n",
    "print(f\"Root Mean Squared Error (RMSE): {RF_rmse}\")\n",
    "print(f\"R2 Score: {RF_r2}\")\n"
   ]
  },
  {
   "cell_type": "code",
   "execution_count": 8,
   "metadata": {
    "colab": {
     "base_uri": "https://localhost:8080/"
    },
    "executionInfo": {
     "elapsed": 8660,
     "status": "ok",
     "timestamp": 1737704628391,
     "user": {
      "displayName": "노준영",
      "userId": "12714711567111669889"
     },
     "user_tz": -540
    },
    "id": "iTDKQPo1WRbN",
    "outputId": "8c382501-2e32-4d00-ef8f-ab2062720669"
   },
   "outputs": [
    {
     "name": "stdout",
     "output_type": "stream",
     "text": [
      "Fitting 5 folds for each of 32 candidates, totalling 160 fits\n",
      "SVM Best Parameters: {'C': 15, 'gamma': 'scale', 'kernel': 'linear'}\n",
      "SVM Mean Squared Error (MSE): 0.9880283381758888\n",
      "SVM Mean Absolute Error (MAE): 0.5164907452397869\n",
      "SVM Root Mean Squared Error (RMSE): 0.9939961459562551\n",
      "SVM R2 Score: 0.8514278368117111\n"
     ]
    }
   ],
   "source": [
    "from sklearn.svm import SVR\n",
    "from sklearn.model_selection import GridSearchCV, KFold\n",
    "from sklearn.metrics import mean_squared_error, mean_absolute_error, r2_score\n",
    "import numpy as np\n",
    "\n",
    "# Support Vector Machine Model\n",
    "svm_model = SVR()\n",
    "\n",
    "# Define the parameter grid for SVM hyperparameter tuning\n",
    "svm_param_grid = {\n",
    "    'C': [0.1, 1, 10, 15],\n",
    "    'kernel': ['linear', 'poly', 'rbf', 'sigmoid'],\n",
    "    'gamma': ['scale', 'auto']\n",
    "}\n",
    "\n",
    "# Define K-Fold cross-validation\n",
    "kfold = KFold(n_splits=5, shuffle=True, random_state=29)\n",
    "\n",
    "# Perform GridSearchCV for SVM\n",
    "grid_search_svm = GridSearchCV(estimator=svm_model, param_grid=svm_param_grid, cv=kfold, scoring='r2', n_jobs=-1, verbose=2)\n",
    "grid_search_svm.fit(X_train, y_train)\n",
    "\n",
    "# Best parameters and model for SVM\n",
    "best_svm_params = grid_search_svm.best_params_\n",
    "best_svm_model = grid_search_svm.best_estimator_\n",
    "\n",
    "# Predict with the best SVM model\n",
    "y_pred_svm = best_svm_model.predict(X_test)\n",
    "\n",
    "# Evaluate the SVM model\n",
    "SVM_mse = mean_squared_error(y_test, y_pred_svm)\n",
    "SVM_mae = mean_absolute_error(y_test, y_pred_svm)\n",
    "SVM_rmse = np.sqrt(SVM_mse)\n",
    "SVM_r2 = r2_score(y_test, y_pred_svm)\n",
    "\n",
    "# Print SVM results\n",
    "print(f\"SVM Best Parameters: {best_svm_params}\")\n",
    "print(f\"SVM Mean Squared Error (MSE): {SVM_mse}\")\n",
    "print(f\"SVM Mean Absolute Error (MAE): {SVM_mae}\")\n",
    "print(f\"SVM Root Mean Squared Error (RMSE): {SVM_rmse}\")\n",
    "print(f\"SVM R2 Score: {SVM_r2}\")\n"
   ]
  },
  {
   "cell_type": "code",
   "execution_count": 9,
   "metadata": {
    "colab": {
     "base_uri": "https://localhost:8080/"
    },
    "executionInfo": {
     "elapsed": 5075,
     "status": "ok",
     "timestamp": 1737511357352,
     "user": {
      "displayName": "노준영",
      "userId": "12714711567111669889"
     },
     "user_tz": -540
    },
    "id": "Bwe3jq0pSpCp",
    "outputId": "1b5e28e7-4280-4547-c143-a1203f736593"
   },
   "outputs": [
    {
     "name": "stdout",
     "output_type": "stream",
     "text": [
      "Requirement already satisfied: lightgbm in c:\\users\\user\\anaconda3\\lib\\site-packages (4.5.0)\n",
      "Requirement already satisfied: numpy>=1.17.0 in c:\\users\\user\\anaconda3\\lib\\site-packages (from lightgbm) (1.26.4)\n",
      "Requirement already satisfied: scipy in c:\\users\\user\\anaconda3\\lib\\site-packages (from lightgbm) (1.13.1)\n"
     ]
    },
    {
     "name": "stderr",
     "output_type": "stream",
     "text": [
      "\n",
      "[notice] A new release of pip is available: 24.3.1 -> 25.0.1\n",
      "[notice] To update, run: python.exe -m pip install --upgrade pip\n"
     ]
    }
   ],
   "source": [
    "!pip install lightgbm"
   ]
  },
  {
   "cell_type": "code",
   "execution_count": 10,
   "metadata": {
    "colab": {
     "base_uri": "https://localhost:8080/"
    },
    "executionInfo": {
     "elapsed": 118884,
     "status": "ok",
     "timestamp": 1737704751950,
     "user": {
      "displayName": "노준영",
      "userId": "12714711567111669889"
     },
     "user_tz": -540
    },
    "id": "puqougcyMY-L",
    "outputId": "15a77d74-e848-4fdd-9283-ac591faf11ce"
   },
   "outputs": [
    {
     "name": "stdout",
     "output_type": "stream",
     "text": [
      "Fitting 5 folds for each of 243 candidates, totalling 1215 fits\n",
      "[LightGBM] [Info] Auto-choosing col-wise multi-threading, the overhead of testing was 0.000286 seconds.\n",
      "You can set `force_col_wise=true` to remove the overhead.\n",
      "[LightGBM] [Info] Total Bins 659\n",
      "[LightGBM] [Info] Number of data points in the train set: 492, number of used features: 4\n",
      "[LightGBM] [Info] Start training from score 2.515955\n",
      "LightGBM Best Parameters: {'learning_rate': 0.01, 'max_depth': -1, 'min_child_samples': 10, 'n_estimators': 300, 'num_leaves': 31}\n",
      "LightGBM Mean Squared Error (MSE): 0.9749015927601996\n",
      "LightGBM Mean Absolute Error (MAE): 0.546341211532759\n",
      "LightGBM Root Mean Squared Error (RMSE): 0.9873710512062827\n",
      "LightGBM R2 Score: 0.8534017366348998\n"
     ]
    }
   ],
   "source": [
    "import lightgbm as lgb\n",
    "from sklearn.model_selection import GridSearchCV, KFold\n",
    "from sklearn.metrics import mean_squared_error, mean_absolute_error, r2_score\n",
    "import numpy as np\n",
    "\n",
    "# LightGBM Model\n",
    "LGBM = lgb.LGBMRegressor()\n",
    "\n",
    "# Define the parameter grid for LightGBM hyperparameter tuning\n",
    "lgbm_param_grid = {\n",
    "    'num_leaves': [31, 50, 70],\n",
    "    'learning_rate': [0.01, 0.05, 0.1],\n",
    "    'n_estimators': [100, 200, 300],\n",
    "    'max_depth': [-1, 10, 20],\n",
    "    'min_child_samples': [10, 20, 30]\n",
    "}\n",
    "\n",
    "# Define K-Fold cross-validation\n",
    "kfold = KFold(n_splits=5, shuffle=True, random_state=29)\n",
    "\n",
    "# Perform GridSearchCV for LightGBM\n",
    "grid_search_lgbm = GridSearchCV(estimator=LGBM, param_grid=lgbm_param_grid, cv=kfold, scoring='r2', n_jobs=-1, verbose=2)\n",
    "grid_search_lgbm.fit(X_train, y_train)\n",
    "\n",
    "# Best parameters and model for LightGBM\n",
    "best_lgbm_params = grid_search_lgbm.best_params_\n",
    "best_lgbm_model = grid_search_lgbm.best_estimator_\n",
    "\n",
    "# Predict with the best LightGBM model\n",
    "y_pred_lgbm = best_lgbm_model.predict(X_test)\n",
    "\n",
    "# Evaluate the LightGBM model\n",
    "LGBM_mse = mean_squared_error(y_test, y_pred_lgbm)\n",
    "LGBM_mae = mean_absolute_error(y_test, y_pred_lgbm)\n",
    "LGBM_rmse = np.sqrt(LGBM_mse)\n",
    "LGBM_r2 = r2_score(y_test, y_pred_lgbm)\n",
    "\n",
    "# Print LightGBM results\n",
    "print(f\"LightGBM Best Parameters: {best_lgbm_params}\")\n",
    "print(f\"LightGBM Mean Squared Error (MSE): {LGBM_mse}\")\n",
    "print(f\"LightGBM Mean Absolute Error (MAE): {LGBM_mae}\")\n",
    "print(f\"LightGBM Root Mean Squared Error (RMSE): {LGBM_rmse}\")\n",
    "print(f\"LightGBM R2 Score: {LGBM_r2}\")\n"
   ]
  },
  {
   "cell_type": "code",
   "execution_count": 11,
   "metadata": {
    "colab": {
     "base_uri": "https://localhost:8080/"
    },
    "executionInfo": {
     "elapsed": 4117,
     "status": "ok",
     "timestamp": 1737703251951,
     "user": {
      "displayName": "노준영",
      "userId": "12714711567111669889"
     },
     "user_tz": -540
    },
    "id": "x4zLYqYCLzGk",
    "outputId": "f2dd9d7e-6373-4b69-c881-d7f4226dc356"
   },
   "outputs": [
    {
     "name": "stdout",
     "output_type": "stream",
     "text": [
      "Requirement already satisfied: xgboost in c:\\users\\user\\anaconda3\\lib\\site-packages (2.1.4)\n",
      "Requirement already satisfied: numpy in c:\\users\\user\\anaconda3\\lib\\site-packages (from xgboost) (1.26.4)\n",
      "Requirement already satisfied: scipy in c:\\users\\user\\anaconda3\\lib\\site-packages (from xgboost) (1.13.1)\n",
      "Note: you may need to restart the kernel to use updated packages.\n"
     ]
    },
    {
     "name": "stderr",
     "output_type": "stream",
     "text": [
      "\n",
      "[notice] A new release of pip is available: 24.3.1 -> 25.0.1\n",
      "[notice] To update, run: python.exe -m pip install --upgrade pip\n"
     ]
    }
   ],
   "source": [
    "pip install --upgrade xgboost\n"
   ]
  },
  {
   "cell_type": "code",
   "execution_count": 39,
   "metadata": {
    "colab": {
     "base_uri": "https://localhost:8080/"
    },
    "executionInfo": {
     "elapsed": 2890,
     "status": "ok",
     "timestamp": 1737706567472,
     "user": {
      "displayName": "노준영",
      "userId": "12714711567111669889"
     },
     "user_tz": -540
    },
    "id": "sbFjisQeQ-0n",
    "outputId": "9f1b3e1d-5a9c-470e-b0b1-e31390f27db4"
   },
   "outputs": [
    {
     "name": "stdout",
     "output_type": "stream",
     "text": [
      "XGBoost Mean Squared Error (MSE): 0.7040750021153257\n",
      "XGBoost Mean Absolute Error (MAE): 0.53533867255459\n",
      "XGBoost Root Mean Squared Error (RMSE): 0.8390917721651939\n",
      "XGBoost R2 Score: 0.8941265730250227\n"
     ]
    }
   ],
   "source": [
    "import xgboost as xgb\n",
    "from sklearn.metrics import mean_squared_error, mean_absolute_error, r2_score\n",
    "from sklearn.model_selection import GridSearchCV\n",
    "import numpy as np\n",
    "import pandas as pd\n",
    "import matplotlib.pyplot as plt\n",
    "\n",
    "# Define XGBoost DMatrix\n",
    "dtrain = xgb.DMatrix(X_train, label=y_train)\n",
    "dtest = xgb.DMatrix(X_test, label=y_test)\n",
    "\n",
    "# Initial Parameter grid\n",
    "params = {\n",
    "    'objective': 'reg:squarederror',\n",
    "    'max_depth': 10,\n",
    "    'learning_rate': 0.01,  # Lower learning rate\n",
    "    'subsample': 0.8,\n",
    "    'colsample_bytree': 0.8,\n",
    "    'gamma': 1,\n",
    "    'min_child_weight': 3,\n",
    "    'alpha': 0.1,\n",
    "    'lambda': 1,\n",
    "    'seed': 29\n",
    "}\n",
    "\n",
    "# Perform Cross-validation\n",
    "cv_results = xgb.cv(\n",
    "    params=params,\n",
    "    dtrain=dtrain,\n",
    "    num_boost_round=500,\n",
    "    nfold=5,\n",
    "    metrics=\"rmse\",\n",
    "    early_stopping_rounds=20,\n",
    "    as_pandas=True,\n",
    "    seed=29\n",
    ")\n",
    "\n",
    "# Train the model with the best number of boosting rounds\n",
    "best_num_boost_round = cv_results['test-rmse-mean'].idxmin()\n",
    "final_model = xgb.train(params, dtrain, num_boost_round=best_num_boost_round)\n",
    "\n",
    "# Predict and evaluate\n",
    "y_pred_xgb = final_model.predict(dtest)\n",
    "xgb_mse = mean_squared_error(y_test, y_pred_xgb)\n",
    "xgb_mae = mean_absolute_error(y_test, y_pred_xgb)\n",
    "xgb_rmse = np.sqrt(xgb_mse)\n",
    "xgb_r2 = r2_score(y_test, y_pred_xgb)\n",
    "\n",
    "# Print evaluation results\n",
    "print(f\"XGBoost Mean Squared Error (MSE): {xgb_mse}\")\n",
    "print(f\"XGBoost Mean Absolute Error (MAE): {xgb_mae}\")\n",
    "print(f\"XGBoost Root Mean Squared Error (RMSE): {xgb_rmse}\")\n",
    "print(f\"XGBoost R2 Score: {xgb_r2}\")\n",
    "\n"
   ]
  },
  {
   "cell_type": "code",
   "execution_count": 13,
   "metadata": {
    "colab": {
     "base_uri": "https://localhost:8080/"
    },
    "executionInfo": {
     "elapsed": 240,
     "status": "ok",
     "timestamp": 1737706607253,
     "user": {
      "displayName": "노준영",
      "userId": "12714711567111669889"
     },
     "user_tz": -540
    },
    "id": "uEX93EGsjV49",
    "outputId": "1d47ae31-0cff-4cb0-e505-8c645efd919a"
   },
   "outputs": [
    {
     "name": "stdout",
     "output_type": "stream",
     "text": [
      "모델이 'xgb_model.joblib'에 저장되었습니다.\n",
      "저장된 모델이 로드되었습니다.\n"
     ]
    }
   ],
   "source": [
    "from joblib import dump, load\n",
    "\n",
    "# 모델 저장\n",
    "dump(final_model, 'xgb_model.joblib')\n",
    "print(\"모델이 'xgb_model.joblib'에 저장되었습니다.\")\n",
    "\n",
    "# 모델 로드\n",
    "xgb_loaded = load('xgb_model.joblib')\n",
    "print(\"저장된 모델이 로드되었습니다.\")\n"
   ]
  },
  {
   "cell_type": "code",
   "execution_count": 14,
   "metadata": {
    "colab": {
     "base_uri": "https://localhost:8080/"
    },
    "collapsed": true,
    "executionInfo": {
     "elapsed": 4374,
     "status": "ok",
     "timestamp": 1737704169759,
     "user": {
      "displayName": "노준영",
      "userId": "12714711567111669889"
     },
     "user_tz": -540
    },
    "id": "0eWD-_r5VCOr",
    "outputId": "561c6885-c7bb-44b7-e41c-abd8190980a2"
   },
   "outputs": [
    {
     "name": "stdout",
     "output_type": "stream",
     "text": [
      "Fitting 5 folds for each of 2 candidates, totalling 10 fits\n",
      "Linear Regression Best Parameters: {'fit_intercept': True}\n",
      "Linear Regression Mean Squared Error (MSE): 0.61181804538158\n",
      "Linear Regression Mean Absolute Error (MAE): 0.5510390267829117\n",
      "Linear Regression Root Mean Squared Error (RMSE): 0.782187985960907\n",
      "Linear Regression R2 Score: 0.9079994702907092\n"
     ]
    }
   ],
   "source": [
    "from sklearn.linear_model import LinearRegression\n",
    "from sklearn.model_selection import GridSearchCV, KFold\n",
    "from sklearn.metrics import mean_squared_error, mean_absolute_error, r2_score\n",
    "from sklearn.preprocessing import StandardScaler\n",
    "import joblib\n",
    "\n",
    "# Preprocess: Standardize the data\n",
    "scaler = StandardScaler()\n",
    "X_train_scaled = scaler.fit_transform(X_train)\n",
    "X_test_scaled = scaler.transform(X_test)\n",
    "\n",
    "# Linear Regression Model\n",
    "LR_model = LinearRegression()\n",
    "\n",
    "# Define the parameter grid for Linear Regression hyperparameter tuning\n",
    "lr_param_grid = {\n",
    "    'fit_intercept': [True, False]\n",
    "}\n",
    "\n",
    "# Perform GridSearchCV for Linear Regression\n",
    "kfold = KFold(n_splits=5, shuffle=True, random_state=29)\n",
    "grid_search_lr = GridSearchCV(estimator=LR_model, param_grid=lr_param_grid, cv=kfold, scoring='r2', n_jobs=-1, verbose=2)\n",
    "grid_search_lr.fit(X_train_scaled, y_train)\n",
    "\n",
    "# Best parameters and model for Linear Regression\n",
    "best_lr_params = grid_search_lr.best_params_\n",
    "best_lr_model = grid_search_lr.best_estimator_\n",
    "\n",
    "# Save the Linear Regression model\n",
    "joblib.dump(best_lr_model, 'best_lr_model.pkl')\n",
    "\n",
    "# Predict with the best Linear Regression model\n",
    "y_pred_lr = best_lr_model.predict(X_test_scaled)\n",
    "\n",
    "# Evaluate the Linear Regression model\n",
    "LR_mse = mean_squared_error(y_test, y_pred_lr)\n",
    "LR_mae = mean_absolute_error(y_test, y_pred_lr)\n",
    "LR_rmse = np.sqrt(LR_mse)\n",
    "LR_r2 = r2_score(y_test, y_pred_lr)\n",
    "\n",
    "# Print Linear Regression results\n",
    "print(f\"Linear Regression Best Parameters: {best_lr_params}\")\n",
    "print(f\"Linear Regression Mean Squared Error (MSE): {LR_mse}\")\n",
    "print(f\"Linear Regression Mean Absolute Error (MAE): {LR_mae}\")\n",
    "print(f\"Linear Regression Root Mean Squared Error (RMSE): {LR_rmse}\")\n",
    "print(f\"Linear Regression R2 Score: {LR_r2}\")\n"
   ]
  },
  {
   "cell_type": "code",
   "execution_count": 15,
   "metadata": {
    "colab": {
     "base_uri": "https://localhost:8080/"
    },
    "collapsed": true,
    "executionInfo": {
     "elapsed": 118382,
     "status": "ok",
     "timestamp": 1737708762305,
     "user": {
      "displayName": "노준영",
      "userId": "12714711567111669889"
     },
     "user_tz": -540
    },
    "id": "m56vPW0SSU6w",
    "outputId": "97045ba7-c9da-4e18-bac5-40c601b2d35a"
   },
   "outputs": [
    {
     "name": "stdout",
     "output_type": "stream",
     "text": [
      "Epoch 1/50\n",
      "\u001b[1m492/492\u001b[0m \u001b[32m━━━━━━━━━━━━━━━━━━━━\u001b[0m\u001b[37m\u001b[0m \u001b[1m4s\u001b[0m 2ms/step - loss: 1.4661 - mae: 1.4661 - mse: 4.8737 - val_loss: 0.6050 - val_mae: 0.6050 - val_mse: 0.6494\n",
      "Epoch 2/50\n",
      "\u001b[1m492/492\u001b[0m \u001b[32m━━━━━━━━━━━━━━━━━━━━\u001b[0m\u001b[37m\u001b[0m \u001b[1m1s\u001b[0m 2ms/step - loss: 0.9239 - mae: 0.9239 - mse: 2.7116 - val_loss: 0.5137 - val_mae: 0.5137 - val_mse: 0.4841\n",
      "Epoch 3/50\n",
      "\u001b[1m492/492\u001b[0m \u001b[32m━━━━━━━━━━━━━━━━━━━━\u001b[0m\u001b[37m\u001b[0m \u001b[1m1s\u001b[0m 2ms/step - loss: 0.9610 - mae: 0.9610 - mse: 3.7128 - val_loss: 0.6644 - val_mae: 0.6644 - val_mse: 1.0326\n",
      "Epoch 4/50\n",
      "\u001b[1m492/492\u001b[0m \u001b[32m━━━━━━━━━━━━━━━━━━━━\u001b[0m\u001b[37m\u001b[0m \u001b[1m1s\u001b[0m 2ms/step - loss: 0.7498 - mae: 0.7498 - mse: 1.5777 - val_loss: 0.5931 - val_mae: 0.5931 - val_mse: 1.0865\n",
      "Epoch 5/50\n",
      "\u001b[1m492/492\u001b[0m \u001b[32m━━━━━━━━━━━━━━━━━━━━\u001b[0m\u001b[37m\u001b[0m \u001b[1m1s\u001b[0m 2ms/step - loss: 0.7610 - mae: 0.7610 - mse: 2.5849 - val_loss: 0.4513 - val_mae: 0.4513 - val_mse: 0.4073\n",
      "Epoch 6/50\n",
      "\u001b[1m492/492\u001b[0m \u001b[32m━━━━━━━━━━━━━━━━━━━━\u001b[0m\u001b[37m\u001b[0m \u001b[1m1s\u001b[0m 2ms/step - loss: 0.6556 - mae: 0.6556 - mse: 1.2799 - val_loss: 0.5765 - val_mae: 0.5765 - val_mse: 0.7949\n",
      "Epoch 7/50\n",
      "\u001b[1m492/492\u001b[0m \u001b[32m━━━━━━━━━━━━━━━━━━━━\u001b[0m\u001b[37m\u001b[0m \u001b[1m1s\u001b[0m 2ms/step - loss: 0.7430 - mae: 0.7430 - mse: 2.7751 - val_loss: 0.5412 - val_mae: 0.5412 - val_mse: 0.9378\n",
      "Epoch 8/50\n",
      "\u001b[1m492/492\u001b[0m \u001b[32m━━━━━━━━━━━━━━━━━━━━\u001b[0m\u001b[37m\u001b[0m \u001b[1m1s\u001b[0m 3ms/step - loss: 0.7590 - mae: 0.7590 - mse: 2.3489 - val_loss: 0.4860 - val_mae: 0.4860 - val_mse: 0.6372\n",
      "Epoch 9/50\n",
      "\u001b[1m492/492\u001b[0m \u001b[32m━━━━━━━━━━━━━━━━━━━━\u001b[0m\u001b[37m\u001b[0m \u001b[1m1s\u001b[0m 3ms/step - loss: 0.6158 - mae: 0.6158 - mse: 1.2454 - val_loss: 0.5551 - val_mae: 0.5551 - val_mse: 0.9403\n",
      "Epoch 9: early stopping\n",
      "\u001b[1m4/4\u001b[0m \u001b[32m━━━━━━━━━━━━━━━━━━━━\u001b[0m\u001b[37m\u001b[0m \u001b[1m0s\u001b[0m 28ms/step\n",
      "Epoch 1/50\n",
      "\u001b[1m492/492\u001b[0m \u001b[32m━━━━━━━━━━━━━━━━━━━━\u001b[0m\u001b[37m\u001b[0m \u001b[1m3s\u001b[0m 2ms/step - loss: 1.4637 - mae: 1.4637 - mse: 4.4227 - val_loss: 0.6320 - val_mae: 0.6320 - val_mse: 1.2631\n",
      "Epoch 2/50\n",
      "\u001b[1m492/492\u001b[0m \u001b[32m━━━━━━━━━━━━━━━━━━━━\u001b[0m\u001b[37m\u001b[0m \u001b[1m1s\u001b[0m 2ms/step - loss: 0.8658 - mae: 0.8658 - mse: 2.2943 - val_loss: 0.7991 - val_mae: 0.7991 - val_mse: 2.1739\n",
      "Epoch 3/50\n",
      "\u001b[1m492/492\u001b[0m \u001b[32m━━━━━━━━━━━━━━━━━━━━\u001b[0m\u001b[37m\u001b[0m \u001b[1m1s\u001b[0m 2ms/step - loss: 0.8411 - mae: 0.8411 - mse: 2.7772 - val_loss: 0.5562 - val_mae: 0.5562 - val_mse: 1.0435\n",
      "Epoch 4/50\n",
      "\u001b[1m492/492\u001b[0m \u001b[32m━━━━━━━━━━━━━━━━━━━━\u001b[0m\u001b[37m\u001b[0m \u001b[1m1s\u001b[0m 2ms/step - loss: 0.7452 - mae: 0.7452 - mse: 1.5800 - val_loss: 0.5630 - val_mae: 0.5630 - val_mse: 1.4480\n",
      "Epoch 5/50\n",
      "\u001b[1m492/492\u001b[0m \u001b[32m━━━━━━━━━━━━━━━━━━━━\u001b[0m\u001b[37m\u001b[0m \u001b[1m1s\u001b[0m 2ms/step - loss: 0.7066 - mae: 0.7066 - mse: 1.2505 - val_loss: 0.6762 - val_mae: 0.6762 - val_mse: 1.9691\n",
      "Epoch 6/50\n",
      "\u001b[1m492/492\u001b[0m \u001b[32m━━━━━━━━━━━━━━━━━━━━\u001b[0m\u001b[37m\u001b[0m \u001b[1m1s\u001b[0m 2ms/step - loss: 0.6275 - mae: 0.6275 - mse: 1.1379 - val_loss: 0.5292 - val_mae: 0.5292 - val_mse: 1.2132\n",
      "Epoch 7/50\n",
      "\u001b[1m492/492\u001b[0m \u001b[32m━━━━━━━━━━━━━━━━━━━━\u001b[0m\u001b[37m\u001b[0m \u001b[1m1s\u001b[0m 2ms/step - loss: 0.6926 - mae: 0.6926 - mse: 1.5019 - val_loss: 0.6002 - val_mae: 0.6002 - val_mse: 2.1115\n",
      "Epoch 8/50\n",
      "\u001b[1m492/492\u001b[0m \u001b[32m━━━━━━━━━━━━━━━━━━━━\u001b[0m\u001b[37m\u001b[0m \u001b[1m1s\u001b[0m 2ms/step - loss: 0.7160 - mae: 0.7160 - mse: 1.5217 - val_loss: 0.5384 - val_mae: 0.5384 - val_mse: 1.0089\n",
      "Epoch 9/50\n",
      "\u001b[1m492/492\u001b[0m \u001b[32m━━━━━━━━━━━━━━━━━━━━\u001b[0m\u001b[37m\u001b[0m \u001b[1m1s\u001b[0m 2ms/step - loss: 0.7649 - mae: 0.7649 - mse: 2.1798 - val_loss: 0.5060 - val_mae: 0.5060 - val_mse: 0.9958\n",
      "Epoch 10/50\n",
      "\u001b[1m492/492\u001b[0m \u001b[32m━━━━━━━━━━━━━━━━━━━━\u001b[0m\u001b[37m\u001b[0m \u001b[1m1s\u001b[0m 2ms/step - loss: 0.6433 - mae: 0.6433 - mse: 0.9305 - val_loss: 0.6788 - val_mae: 0.6788 - val_mse: 2.4582\n",
      "Epoch 11/50\n",
      "\u001b[1m492/492\u001b[0m \u001b[32m━━━━━━━━━━━━━━━━━━━━\u001b[0m\u001b[37m\u001b[0m \u001b[1m1s\u001b[0m 2ms/step - loss: 0.6050 - mae: 0.6050 - mse: 1.2412 - val_loss: 0.5233 - val_mae: 0.5233 - val_mse: 1.1399\n",
      "Epoch 12/50\n",
      "\u001b[1m492/492\u001b[0m \u001b[32m━━━━━━━━━━━━━━━━━━━━\u001b[0m\u001b[37m\u001b[0m \u001b[1m1s\u001b[0m 2ms/step - loss: 0.6496 - mae: 0.6496 - mse: 1.3527 - val_loss: 0.4962 - val_mae: 0.4962 - val_mse: 1.2165\n",
      "Epoch 13/50\n",
      "\u001b[1m492/492\u001b[0m \u001b[32m━━━━━━━━━━━━━━━━━━━━\u001b[0m\u001b[37m\u001b[0m \u001b[1m1s\u001b[0m 2ms/step - loss: 0.6223 - mae: 0.6223 - mse: 1.2870 - val_loss: 0.5679 - val_mae: 0.5679 - val_mse: 1.5737\n",
      "Epoch 14/50\n",
      "\u001b[1m492/492\u001b[0m \u001b[32m━━━━━━━━━━━━━━━━━━━━\u001b[0m\u001b[37m\u001b[0m \u001b[1m1s\u001b[0m 3ms/step - loss: 0.6289 - mae: 0.6289 - mse: 1.0165 - val_loss: 0.6850 - val_mae: 0.6850 - val_mse: 2.8697\n",
      "Epoch 15/50\n",
      "\u001b[1m492/492\u001b[0m \u001b[32m━━━━━━━━━━━━━━━━━━━━\u001b[0m\u001b[37m\u001b[0m \u001b[1m1s\u001b[0m 3ms/step - loss: 0.7345 - mae: 0.7345 - mse: 2.8079 - val_loss: 0.5593 - val_mae: 0.5593 - val_mse: 1.1265\n",
      "Epoch 16/50\n",
      "\u001b[1m492/492\u001b[0m \u001b[32m━━━━━━━━━━━━━━━━━━━━\u001b[0m\u001b[37m\u001b[0m \u001b[1m1s\u001b[0m 3ms/step - loss: 0.5535 - mae: 0.5535 - mse: 0.8090 - val_loss: 0.5534 - val_mae: 0.5534 - val_mse: 1.3333\n",
      "Epoch 16: early stopping\n",
      "\u001b[1m4/4\u001b[0m \u001b[32m━━━━━━━━━━━━━━━━━━━━\u001b[0m\u001b[37m\u001b[0m \u001b[1m0s\u001b[0m 30ms/step\n",
      "Epoch 1/50\n",
      "\u001b[1m492/492\u001b[0m \u001b[32m━━━━━━━━━━━━━━━━━━━━\u001b[0m\u001b[37m\u001b[0m \u001b[1m4s\u001b[0m 3ms/step - loss: 1.7270 - mae: 1.7270 - mse: 8.1477 - val_loss: 0.7367 - val_mae: 0.7367 - val_mse: 2.3947\n",
      "Epoch 2/50\n",
      "\u001b[1m492/492\u001b[0m \u001b[32m━━━━━━━━━━━━━━━━━━━━\u001b[0m\u001b[37m\u001b[0m \u001b[1m1s\u001b[0m 2ms/step - loss: 0.8889 - mae: 0.8889 - mse: 2.2920 - val_loss: 0.7221 - val_mae: 0.7221 - val_mse: 2.2388\n",
      "Epoch 3/50\n",
      "\u001b[1m492/492\u001b[0m \u001b[32m━━━━━━━━━━━━━━━━━━━━\u001b[0m\u001b[37m\u001b[0m \u001b[1m1s\u001b[0m 3ms/step - loss: 0.7408 - mae: 0.7408 - mse: 1.3917 - val_loss: 0.6119 - val_mae: 0.6119 - val_mse: 1.4109\n",
      "Epoch 4/50\n",
      "\u001b[1m492/492\u001b[0m \u001b[32m━━━━━━━━━━━━━━━━━━━━\u001b[0m\u001b[37m\u001b[0m \u001b[1m2s\u001b[0m 4ms/step - loss: 0.8171 - mae: 0.8171 - mse: 1.8180 - val_loss: 0.6795 - val_mae: 0.6795 - val_mse: 2.9894\n",
      "Epoch 5/50\n",
      "\u001b[1m492/492\u001b[0m \u001b[32m━━━━━━━━━━━━━━━━━━━━\u001b[0m\u001b[37m\u001b[0m \u001b[1m2s\u001b[0m 3ms/step - loss: 0.6785 - mae: 0.6785 - mse: 1.1592 - val_loss: 0.6299 - val_mae: 0.6299 - val_mse: 2.2901\n",
      "Epoch 6/50\n",
      "\u001b[1m492/492\u001b[0m \u001b[32m━━━━━━━━━━━━━━━━━━━━\u001b[0m\u001b[37m\u001b[0m \u001b[1m2s\u001b[0m 3ms/step - loss: 0.6705 - mae: 0.6705 - mse: 1.1473 - val_loss: 0.5822 - val_mae: 0.5822 - val_mse: 2.5983\n",
      "Epoch 7/50\n",
      "\u001b[1m492/492\u001b[0m \u001b[32m━━━━━━━━━━━━━━━━━━━━\u001b[0m\u001b[37m\u001b[0m \u001b[1m1s\u001b[0m 2ms/step - loss: 0.6804 - mae: 0.6804 - mse: 1.2309 - val_loss: 0.6694 - val_mae: 0.6694 - val_mse: 1.6539\n",
      "Epoch 8/50\n",
      "\u001b[1m492/492\u001b[0m \u001b[32m━━━━━━━━━━━━━━━━━━━━\u001b[0m\u001b[37m\u001b[0m \u001b[1m2s\u001b[0m 3ms/step - loss: 0.5825 - mae: 0.5825 - mse: 0.8184 - val_loss: 0.6481 - val_mae: 0.6481 - val_mse: 3.1863\n",
      "Epoch 9/50\n",
      "\u001b[1m492/492\u001b[0m \u001b[32m━━━━━━━━━━━━━━━━━━━━\u001b[0m\u001b[37m\u001b[0m \u001b[1m2s\u001b[0m 3ms/step - loss: 0.6568 - mae: 0.6568 - mse: 1.1961 - val_loss: 0.6445 - val_mae: 0.6445 - val_mse: 3.2241\n",
      "Epoch 10/50\n",
      "\u001b[1m492/492\u001b[0m \u001b[32m━━━━━━━━━━━━━━━━━━━━\u001b[0m\u001b[37m\u001b[0m \u001b[1m2s\u001b[0m 3ms/step - loss: 0.6634 - mae: 0.6634 - mse: 2.0554 - val_loss: 0.6076 - val_mae: 0.6076 - val_mse: 1.8909\n",
      "Epoch 10: early stopping\n",
      "WARNING:tensorflow:5 out of the last 9 calls to <function TensorFlowTrainer.make_predict_function.<locals>.one_step_on_data_distributed at 0x00000188B1BA7EC0> triggered tf.function retracing. Tracing is expensive and the excessive number of tracings could be due to (1) creating @tf.function repeatedly in a loop, (2) passing tensors with different shapes, (3) passing Python objects instead of tensors. For (1), please define your @tf.function outside of the loop. For (2), @tf.function has reduce_retracing=True option that can avoid unnecessary retracing. For (3), please refer to https://www.tensorflow.org/guide/function#controlling_retracing and https://www.tensorflow.org/api_docs/python/tf/function for  more details.\n",
      "\u001b[1m1/4\u001b[0m \u001b[32m━━━━━\u001b[0m\u001b[37m━━━━━━━━━━━━━━━\u001b[0m \u001b[1m0s\u001b[0m 132ms/stepWARNING:tensorflow:6 out of the last 12 calls to <function TensorFlowTrainer.make_predict_function.<locals>.one_step_on_data_distributed at 0x00000188B1BA7EC0> triggered tf.function retracing. Tracing is expensive and the excessive number of tracings could be due to (1) creating @tf.function repeatedly in a loop, (2) passing tensors with different shapes, (3) passing Python objects instead of tensors. For (1), please define your @tf.function outside of the loop. For (2), @tf.function has reduce_retracing=True option that can avoid unnecessary retracing. For (3), please refer to https://www.tensorflow.org/guide/function#controlling_retracing and https://www.tensorflow.org/api_docs/python/tf/function for  more details.\n",
      "\u001b[1m4/4\u001b[0m \u001b[32m━━━━━━━━━━━━━━━━━━━━\u001b[0m\u001b[37m\u001b[0m \u001b[1m0s\u001b[0m 36ms/step\n",
      "Epoch 1/50\n",
      "\u001b[1m492/492\u001b[0m \u001b[32m━━━━━━━━━━━━━━━━━━━━\u001b[0m\u001b[37m\u001b[0m \u001b[1m5s\u001b[0m 3ms/step - loss: 1.9620 - mae: 1.9620 - mse: 11.0204 - val_loss: 0.7499 - val_mae: 0.7499 - val_mse: 1.4622\n",
      "Epoch 2/50\n",
      "\u001b[1m492/492\u001b[0m \u001b[32m━━━━━━━━━━━━━━━━━━━━\u001b[0m\u001b[37m\u001b[0m \u001b[1m1s\u001b[0m 3ms/step - loss: 0.9548 - mae: 0.9548 - mse: 2.4077 - val_loss: 0.6578 - val_mae: 0.6578 - val_mse: 2.4465\n",
      "Epoch 3/50\n",
      "\u001b[1m492/492\u001b[0m \u001b[32m━━━━━━━━━━━━━━━━━━━━\u001b[0m\u001b[37m\u001b[0m \u001b[1m2s\u001b[0m 3ms/step - loss: 0.8773 - mae: 0.8773 - mse: 2.4183 - val_loss: 0.5106 - val_mae: 0.5106 - val_mse: 0.7598\n",
      "Epoch 4/50\n",
      "\u001b[1m492/492\u001b[0m \u001b[32m━━━━━━━━━━━━━━━━━━━━\u001b[0m\u001b[37m\u001b[0m \u001b[1m2s\u001b[0m 3ms/step - loss: 0.8469 - mae: 0.8469 - mse: 2.9966 - val_loss: 0.5394 - val_mae: 0.5394 - val_mse: 1.1823\n",
      "Epoch 5/50\n",
      "\u001b[1m492/492\u001b[0m \u001b[32m━━━━━━━━━━━━━━━━━━━━\u001b[0m\u001b[37m\u001b[0m \u001b[1m2s\u001b[0m 3ms/step - loss: 0.8097 - mae: 0.8097 - mse: 1.9613 - val_loss: 0.7262 - val_mae: 0.7262 - val_mse: 3.5481\n",
      "Epoch 6/50\n",
      "\u001b[1m492/492\u001b[0m \u001b[32m━━━━━━━━━━━━━━━━━━━━\u001b[0m\u001b[37m\u001b[0m \u001b[1m2s\u001b[0m 4ms/step - loss: 0.8847 - mae: 0.8847 - mse: 2.5848 - val_loss: 0.5150 - val_mae: 0.5150 - val_mse: 0.6768\n",
      "Epoch 7/50\n",
      "\u001b[1m492/492\u001b[0m \u001b[32m━━━━━━━━━━━━━━━━━━━━\u001b[0m\u001b[37m\u001b[0m \u001b[1m2s\u001b[0m 3ms/step - loss: 0.7140 - mae: 0.7140 - mse: 1.4188 - val_loss: 0.6130 - val_mae: 0.6130 - val_mse: 0.9843\n",
      "Epoch 7: early stopping\n",
      "\u001b[1m4/4\u001b[0m \u001b[32m━━━━━━━━━━━━━━━━━━━━\u001b[0m\u001b[37m\u001b[0m \u001b[1m0s\u001b[0m 32ms/step\n",
      "Epoch 1/50\n",
      "\u001b[1m492/492\u001b[0m \u001b[32m━━━━━━━━━━━━━━━━━━━━\u001b[0m\u001b[37m\u001b[0m \u001b[1m4s\u001b[0m 3ms/step - loss: 1.6132 - mae: 1.6132 - mse: 7.5984 - val_loss: 0.5908 - val_mae: 0.5908 - val_mse: 0.8161\n",
      "Epoch 2/50\n",
      "\u001b[1m492/492\u001b[0m \u001b[32m━━━━━━━━━━━━━━━━━━━━\u001b[0m\u001b[37m\u001b[0m \u001b[1m1s\u001b[0m 2ms/step - loss: 0.9406 - mae: 0.9406 - mse: 2.7208 - val_loss: 0.5547 - val_mae: 0.5547 - val_mse: 1.2644\n",
      "Epoch 3/50\n",
      "\u001b[1m492/492\u001b[0m \u001b[32m━━━━━━━━━━━━━━━━━━━━\u001b[0m\u001b[37m\u001b[0m \u001b[1m1s\u001b[0m 3ms/step - loss: 0.7867 - mae: 0.7867 - mse: 1.9384 - val_loss: 0.5521 - val_mae: 0.5521 - val_mse: 1.0397\n",
      "Epoch 4/50\n",
      "\u001b[1m492/492\u001b[0m \u001b[32m━━━━━━━━━━━━━━━━━━━━\u001b[0m\u001b[37m\u001b[0m \u001b[1m2s\u001b[0m 3ms/step - loss: 0.7660 - mae: 0.7660 - mse: 1.3843 - val_loss: 0.5348 - val_mae: 0.5348 - val_mse: 0.9709\n",
      "Epoch 5/50\n",
      "\u001b[1m492/492\u001b[0m \u001b[32m━━━━━━━━━━━━━━━━━━━━\u001b[0m\u001b[37m\u001b[0m \u001b[1m2s\u001b[0m 3ms/step - loss: 0.8127 - mae: 0.8127 - mse: 2.1766 - val_loss: 0.4637 - val_mae: 0.4637 - val_mse: 0.5718\n",
      "Epoch 6/50\n",
      "\u001b[1m492/492\u001b[0m \u001b[32m━━━━━━━━━━━━━━━━━━━━\u001b[0m\u001b[37m\u001b[0m \u001b[1m2s\u001b[0m 3ms/step - loss: 0.7129 - mae: 0.7129 - mse: 1.2938 - val_loss: 0.4784 - val_mae: 0.4784 - val_mse: 0.8627\n",
      "Epoch 7/50\n",
      "\u001b[1m492/492\u001b[0m \u001b[32m━━━━━━━━━━━━━━━━━━━━\u001b[0m\u001b[37m\u001b[0m \u001b[1m2s\u001b[0m 3ms/step - loss: 0.8190 - mae: 0.8190 - mse: 1.9358 - val_loss: 0.4978 - val_mae: 0.4978 - val_mse: 1.1328\n",
      "Epoch 8/50\n",
      "\u001b[1m492/492\u001b[0m \u001b[32m━━━━━━━━━━━━━━━━━━━━\u001b[0m\u001b[37m\u001b[0m \u001b[1m2s\u001b[0m 3ms/step - loss: 0.7650 - mae: 0.7650 - mse: 1.8749 - val_loss: 0.5548 - val_mae: 0.5548 - val_mse: 1.4377\n",
      "Epoch 9/50\n",
      "\u001b[1m492/492\u001b[0m \u001b[32m━━━━━━━━━━━━━━━━━━━━\u001b[0m\u001b[37m\u001b[0m \u001b[1m1s\u001b[0m 3ms/step - loss: 0.7817 - mae: 0.7817 - mse: 4.0503 - val_loss: 0.4891 - val_mae: 0.4891 - val_mse: 1.0056\n",
      "Epoch 9: early stopping\n",
      "\u001b[1m4/4\u001b[0m \u001b[32m━━━━━━━━━━━━━━━━━━━━\u001b[0m\u001b[37m\u001b[0m \u001b[1m0s\u001b[0m 28ms/step\n",
      "Average MAE: 0.5636\n",
      "Average MSE: 1.2309\n",
      "Average RMSE: 1.0989\n",
      "Average R2: 0.8090\n"
     ]
    }
   ],
   "source": [
    "from keras.models import Sequential\n",
    "from keras.layers import Dense, Dropout, Input\n",
    "from keras.callbacks import EarlyStopping\n",
    "from sklearn.preprocessing import StandardScaler\n",
    "import numpy as np\n",
    "from sklearn.metrics import mean_absolute_error, mean_squared_error, r2_score\n",
    "from sklearn.model_selection import KFold\n",
    "\n",
    "# Define K-Fold cross-validation\n",
    "kfold = KFold(n_splits=5, shuffle=True, random_state=29)\n",
    "\n",
    "# Data Standardization\n",
    "scaler = StandardScaler()\n",
    "X_scaled = scaler.fit_transform(X)\n",
    "\n",
    "# Initialize metrics\n",
    "DL_mae, DL_mse, DL_rmse, DL_r2 = [], [], [], []\n",
    "\n",
    "for train_idx, val_idx in kfold.split(X_scaled):\n",
    "    X_train, X_val = X_scaled[train_idx], X_scaled[val_idx]\n",
    "    y_train, y_val = y[train_idx], y[val_idx]\n",
    "\n",
    "    # Define the model\n",
    "    model_deep = Sequential([\n",
    "        Input(shape=(X_train.shape[1],)),\n",
    "        Dense(128, activation='relu'),\n",
    "        Dropout(0.2),\n",
    "        Dense(64, activation='relu'),\n",
    "        Dropout(0.2),\n",
    "        Dense(32, activation='relu'),\n",
    "        Dropout(0.2),\n",
    "        Dense(16, activation='relu'),\n",
    "        Dropout(0.2),\n",
    "        Dense(1, activation='linear')\n",
    "    ])\n",
    "\n",
    "    model_deep.compile(optimizer='adam', loss='mae', metrics=['mse', 'mae'])\n",
    "\n",
    "    # Early stopping\n",
    "    es = EarlyStopping(monitor='val_loss', patience=4, mode='min', verbose=1)\n",
    "\n",
    "    # Train the model\n",
    "    model_deep.fit(X_train, y_train,\n",
    "                   validation_data=(X_val, y_val),\n",
    "                   epochs=50,\n",
    "                   batch_size=1,\n",
    "                   callbacks=[es],\n",
    "                   verbose=1)\n",
    "\n",
    "    # Predict on validation set\n",
    "    y_pred = model_deep.predict(X_val)\n",
    "\n",
    "    # Evaluate the model\n",
    "    mae = mean_absolute_error(y_val, y_pred)\n",
    "    mse = mean_squared_error(y_val, y_pred)\n",
    "    rmse = np.sqrt(mse)\n",
    "    r2 = r2_score(y_val, y_pred)\n",
    "\n",
    "    # Store the metrics\n",
    "    DL_mae.append(mae)\n",
    "    DL_mse.append(mse)\n",
    "    DL_rmse.append(rmse)\n",
    "    DL_r2.append(r2)\n",
    "\n",
    "# Replace metrics lists with their average values\n",
    "DL_mae = np.mean(DL_mae)\n",
    "DL_mse = np.mean(DL_mse)\n",
    "DL_rmse = np.mean(DL_rmse)\n",
    "DL_r2 = np.mean(DL_r2)\n",
    "\n",
    "# Print averaged metrics\n",
    "print(f\"Average MAE: {DL_mae:.4f}\")\n",
    "print(f\"Average MSE: {DL_mse:.4f}\")\n",
    "print(f\"Average RMSE: {DL_rmse:.4f}\")\n",
    "print(f\"Average R2: {DL_r2:.4f}\")\n"
   ]
  },
  {
   "cell_type": "code",
   "execution_count": 16,
   "metadata": {
    "colab": {
     "base_uri": "https://localhost:8080/"
    },
    "executionInfo": {
     "elapsed": 257,
     "status": "ok",
     "timestamp": 1737708775630,
     "user": {
      "displayName": "노준영",
      "userId": "12714711567111669889"
     },
     "user_tz": -540
    },
    "id": "JRJ2j8nZKMJp",
    "outputId": "d0bacc26-bacf-423b-a302-f4d6204d676a"
   },
   "outputs": [
    {
     "name": "stdout",
     "output_type": "stream",
     "text": [
      "MAE: 0.5636456894971491\n",
      "MSE: 1.2308683585230138\n",
      "RMSE: 1.0988734652785008\n",
      "R²: 0.8090496002064596\n"
     ]
    }
   ],
   "source": [
    "print(f\"MAE: {DL_mae}\")\n",
    "print(f\"MSE: {DL_mse}\")\n",
    "print(f\"RMSE: {DL_rmse}\")\n",
    "print(f\"R²: {DL_r2}\")"
   ]
  },
  {
   "cell_type": "code",
   "execution_count": 17,
   "metadata": {
    "colab": {
     "base_uri": "https://localhost:8080/"
    },
    "executionInfo": {
     "elapsed": 234,
     "status": "ok",
     "timestamp": 1737708779493,
     "user": {
      "displayName": "노준영",
      "userId": "12714711567111669889"
     },
     "user_tz": -540
    },
    "id": "0GqDEvalS-tQ",
    "outputId": "17321f70-4d93-47df-b9fd-a9f5d767885e"
   },
   "outputs": [
    {
     "name": "stdout",
     "output_type": "stream",
     "text": [
      "Model saved as 'model_deep.keras'\n"
     ]
    }
   ],
   "source": [
    "# Save the model\n",
    "model_deep.save('model_deep.keras')\n",
    "\n",
    "# Print confirmation\n",
    "print(\"Model saved as 'model_deep.keras'\")\n"
   ]
  },
  {
   "cell_type": "code",
   "execution_count": 18,
   "metadata": {
    "colab": {
     "base_uri": "https://localhost:8080/"
    },
    "executionInfo": {
     "elapsed": 337,
     "status": "ok",
     "timestamp": 1737708785004,
     "user": {
      "displayName": "노준영",
      "userId": "12714711567111669889"
     },
     "user_tz": -540
    },
    "id": "o8ftYlACJXi8",
    "outputId": "7d6c5d97-5617-41ba-f981-a022726c1ce7"
   },
   "outputs": [
    {
     "name": "stdout",
     "output_type": "stream",
     "text": [
      "Model loaded successfully!\n"
     ]
    }
   ],
   "source": [
    "from keras.models import load_model\n",
    "\n",
    "# Load the model\n",
    "model_deep = load_model('model_deep.keras')\n",
    "\n",
    "# Print confirmation\n",
    "print(\"Model loaded successfully!\")\n"
   ]
  },
  {
   "cell_type": "code",
   "execution_count": 19,
   "metadata": {
    "colab": {
     "base_uri": "https://localhost:8080/"
    },
    "executionInfo": {
     "elapsed": 392,
     "status": "ok",
     "timestamp": 1737708787302,
     "user": {
      "displayName": "노준영",
      "userId": "12714711567111669889"
     },
     "user_tz": -540
    },
    "id": "POiyds90JGmH",
    "outputId": "bb5b25b8-383a-4b2d-b098-367cfc068e48"
   },
   "outputs": [
    {
     "name": "stdout",
     "output_type": "stream",
     "text": [
      "모델 입력 형상: (None, 6)\n"
     ]
    }
   ],
   "source": [
    "print(\"모델 입력 형상:\", model_deep.input_shape)\n"
   ]
  },
  {
   "cell_type": "code",
   "execution_count": 20,
   "metadata": {
    "colab": {
     "base_uri": "https://localhost:8080/",
     "height": 1000
    },
    "executionInfo": {
     "elapsed": 2336,
     "status": "ok",
     "timestamp": 1737708791743,
     "user": {
      "displayName": "노준영",
      "userId": "12714711567111669889"
     },
     "user_tz": -540
    },
    "id": "T9c3om4ASbhr",
    "outputId": "6f602cd4-44d9-4d4d-f2b5-e763c1043ca4"
   },
   "outputs": [
    {
     "data": {
      "image/png": "[encoded data removed]",
      "text/plain": [
       "<Figure size 800x600 with 1 Axes>"
      ]
     },
     "metadata": {},
     "output_type": "display_data"
    },
    {
     "data": {
      "image/png": "[encoded data removed]",
      "text/plain": [
       "<Figure size 800x600 with 1 Axes>"
      ]
     },
     "metadata": {},
     "output_type": "display_data"
    },
    {
     "data": {
      "image/png": "[encoded data removed]",
      "text/plain": [
       "<Figure size 800x600 with 1 Axes>"
      ]
     },
     "metadata": {},
     "output_type": "display_data"
    }
   ],
   "source": [
    "import matplotlib.pyplot as plt\n",
    "\n",
    "# Model Results\n",
    "model_results = {\n",
    "    'Model': ['Random Forest', 'Linear Regression', 'LightGBM', 'XGBoost', 'FNN', 'SVM'],\n",
    "    'MSE': [RF_mse, LR_mse, LGBM_mse, xgb_mse, DL_mse, SVM_mse],\n",
    "    'MAE': [RF_mae, LR_mae, LGBM_mae, xgb_mae, DL_mae, SVM_mae],\n",
    "    'R2': [RF_r2, LR_r2, LGBM_r2, xgb_r2, DL_r2, SVM_r2]\n",
    "}\n",
    "\n",
    "# DataFrame for Visualization\n",
    "df_results = pd.DataFrame(model_results)\n",
    "\n",
    "# Visualization\n",
    "metrics = ['MSE', 'MAE', 'R2']\n",
    "for metric in metrics:\n",
    "    df_results.plot(x='Model', y=metric, kind='bar', legend=False, figsize=(8, 6), color='skyblue')\n",
    "    plt.title(f'Model Comparison ({metric})', fontsize=16)\n",
    "    plt.xlabel('Model', fontsize=14)\n",
    "    plt.ylabel(metric, fontsize=14)\n",
    "    plt.xticks(rotation=45, fontsize=12)\n",
    "    plt.grid(axis='y', linestyle='--', alpha=0.7)\n",
    "\n",
    "    # Add value labels on bars\n",
    "    for index, value in enumerate(df_results[metric]):\n",
    "        plt.text(index, value, f'{value:.2f}', ha='center', va='bottom', fontsize=10)\n",
    "\n",
    "    # Save the plot as an image\n",
    "    plt.savefig(f'model_comparison_{metric}_new_pca.png', dpi=300, bbox_inches='tight')\n",
    "\n",
    "    # Show the plot\n",
    "    plt.show()"
   ]
  },
  {
   "cell_type": "code",
   "execution_count": 22,
   "metadata": {},
   "outputs": [
    {
     "data": {
      "image/png": "[encoded data removed]",
      "text/plain": [
       "<Figure size 800x500 with 1 Axes>"
      ]
     },
     "metadata": {},
     "output_type": "display_data"
    }
   ],
   "source": [
    "from statsmodels.stats.outliers_influence import variance_inflation_factor\n",
    "\n",
    "# PCA 적용 후 VIF 계산\n",
    "vif_data_pca = pd.DataFrame(X_train, columns=[f'PC{i+1}' for i in range(X_train.shape[1])])\n",
    "vif_pca = pd.DataFrame()\n",
    "vif_pca['Feature'] = vif_data_pca.columns\n",
    "vif_pca['VIF'] = [variance_inflation_factor(vif_data_pca.values, i) for i in range(vif_data_pca.shape[1])]\n",
    "\n",
    "# PCA 이후 VIF 시각화\n",
    "plt.figure(figsize=(8, 5))\n",
    "plt.barh(vif_pca['Feature'], vif_pca['VIF'], color='skyblue')\n",
    "plt.xlabel('VIF')\n",
    "plt.title('VIF after PCA')\n",
    "plt.gca().invert_yaxis()\n",
    "plt.tight_layout()\n",
    "plt.show()\n"
   ]
  }
 ],
 "metadata": {
  "colab": {
   "provenance": []
  },
  "kernelspec": {
   "display_name": "base",
   "language": "python",
   "name": "python3"
  },
  "language_info": {
   "codemirror_mode": {
    "name": "ipython",
    "version": 3
   },
   "file_extension": ".py",
   "mimetype": "text/x-python",
   "name": "python",
   "nbconvert_exporter": "python",
   "pygments_lexer": "ipython3",
   "version": "3.12.4"
  }
 },
 "nbformat": 4,
 "nbformat_minor": 0
}
