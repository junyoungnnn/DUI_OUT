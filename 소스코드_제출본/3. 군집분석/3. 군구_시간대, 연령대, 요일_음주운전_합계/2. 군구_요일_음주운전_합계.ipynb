{
 "cells": [
  {
   "cell_type": "code",
   "execution_count": null,
   "metadata": {
    "id": "ijGcwlQ8wsve"
   },
   "outputs": [],
   "source": [
    "import pandas as pd\n",
    "\n",
    "# 파일 경로\n",
    "file_2021 = '../2. 군구_시간대, 연령대, 요일_음주운전/군구별_요일_음주운전2021.csv'\n",
    "file_2022 = '../2. 군구_시간대, 연령대, 요일_음주운전/군구별_요일_음주운전2022.csv'\n",
    "file_2023 = '../2. 군구_시간대, 연령대, 요일_음주운전/군구별_요일_음주운전2023.csv'"
   ]
  },
  {
   "cell_type": "code",
   "execution_count": null,
   "metadata": {
    "id": "lTttZwJkwxnC"
   },
   "outputs": [],
   "source": [
    "# 데이터 로드\n",
    "data_2021 = pd.read_csv(file_2021, encoding='utf-8-sig', index_col=0)\n",
    "data_2022 = pd.read_csv(file_2022, encoding='utf-8-sig', index_col=0)\n",
    "data_2023 = pd.read_csv(file_2023, encoding='utf-8-sig', index_col=0)\n",
    "\n"
   ]
  },
  {
   "cell_type": "code",
   "execution_count": null,
   "metadata": {
    "id": "dgHagSD1wy0_"
   },
   "outputs": [],
   "source": [
    "# 같은 행렬에 있는 숫자 합산\n",
    "total_data = data_2021.add(data_2022, fill_value=0).add(data_2023, fill_value=0)\n",
    "\n"
   ]
  },
  {
   "cell_type": "code",
   "execution_count": null,
   "metadata": {
    "colab": {
     "base_uri": "https://localhost:8080/"
    },
    "executionInfo": {
     "elapsed": 4,
     "status": "ok",
     "timestamp": 1737075505848,
     "user": {
      "displayName": "류주",
      "userId": "17605270416533711110"
     },
     "user_tz": -540
    },
    "id": "EtYqHtx1w0AK",
    "outputId": "077a1989-5556-4137-b642-5e4e28133078"
   },
   "outputs": [
    {
     "name": "stdout",
     "output_type": "stream",
     "text": [
      "합계 데이터가 '군구별_요일_음주운전_합계.csv'로 저장되었습니다.\n"
     ]
    }
   ],
   "source": [
    "# 결과 저장\n",
    "output_path = '군구별_요일_음주운전_합계.csv'\n",
    "total_data.to_csv(output_path, encoding='utf-8-sig')\n",
    "\n",
    "print(\"합계 데이터가 '군구별_요일_음주운전_합계.csv'로 저장되었습니다.\")"
   ]
  }
 ],
 "metadata": {
  "colab": {
   "authorship_tag": "ABX9TyNN/8O9/oJ05e4OekCK7w1K",
   "provenance": []
  },
  "kernelspec": {
   "display_name": "Python 3",
   "name": "python3"
  },
  "language_info": {
   "name": "python"
  }
 },
 "nbformat": 4,
 "nbformat_minor": 0
}
