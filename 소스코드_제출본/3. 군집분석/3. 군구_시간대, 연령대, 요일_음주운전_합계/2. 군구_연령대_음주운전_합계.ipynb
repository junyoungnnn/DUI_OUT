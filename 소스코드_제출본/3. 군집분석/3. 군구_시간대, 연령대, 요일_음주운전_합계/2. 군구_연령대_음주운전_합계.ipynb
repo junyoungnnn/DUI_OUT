{
 "cells": [
  {
   "cell_type": "code",
   "execution_count": 1,
   "metadata": {
    "executionInfo": {
     "elapsed": 500,
     "status": "ok",
     "timestamp": 1737078512032,
     "user": {
      "displayName": "류주",
      "userId": "17605270416533711110"
     },
     "user_tz": -540
    },
    "id": "ijGcwlQ8wsve"
   },
   "outputs": [],
   "source": [
    "import pandas as pd\n",
    "\n",
    "# 파일 경로\n",
    "file_2021 = '../2. 군구_시간대, 연령대, 요일_음주운전/군구별_연령대_음주운전2021.csv'\n",
    "file_2022 = '../2. 군구_시간대, 연령대, 요일_음주운전/군구별_연령대_음주운전2022.csv'\n",
    "file_2023 = '../2. 군구_시간대, 연령대, 요일_음주운전/군구별_연령대_음주운전2023.csv'"
   ]
  },
  {
   "cell_type": "code",
   "execution_count": 2,
   "metadata": {
    "executionInfo": {
     "elapsed": 1,
     "status": "ok",
     "timestamp": 1737078512305,
     "user": {
      "displayName": "류주",
      "userId": "17605270416533711110"
     },
     "user_tz": -540
    },
    "id": "lTttZwJkwxnC"
   },
   "outputs": [],
   "source": [
    "# 데이터 로드\n",
    "data_2021 = pd.read_csv(file_2021, encoding='utf-8-sig', index_col=0)\n",
    "data_2022 = pd.read_csv(file_2022, encoding='utf-8-sig', index_col=0)\n",
    "data_2023 = pd.read_csv(file_2023, encoding='utf-8-sig', index_col=0)\n",
    "\n"
   ]
  },
  {
   "cell_type": "code",
   "execution_count": 3,
   "metadata": {
    "executionInfo": {
     "elapsed": 2,
     "status": "ok",
     "timestamp": 1737078512949,
     "user": {
      "displayName": "류주",
      "userId": "17605270416533711110"
     },
     "user_tz": -540
    },
    "id": "dgHagSD1wy0_"
   },
   "outputs": [],
   "source": [
    "# 같은 행렬에 있는 숫자 합산\n",
    "total_data = data_2021.add(data_2022, fill_value=0).add(data_2023, fill_value=0)\n",
    "\n"
   ]
  },
  {
   "cell_type": "code",
   "execution_count": 4,
   "metadata": {
    "colab": {
     "base_uri": "https://localhost:8080/"
    },
    "executionInfo": {
     "elapsed": 418,
     "status": "ok",
     "timestamp": 1737078513771,
     "user": {
      "displayName": "류주",
      "userId": "17605270416533711110"
     },
     "user_tz": -540
    },
    "id": "EtYqHtx1w0AK",
    "outputId": "0764a7aa-c6b5-45d4-c4aa-9024212b04be"
   },
   "outputs": [
    {
     "name": "stdout",
     "output_type": "stream",
     "text": [
      "합계 데이터가 '군구별_연령대_음주운전_합계.csv'로 저장되었습니다.\n"
     ]
    }
   ],
   "source": [
    "# 결과 저장\n",
    "output_path = '군구별_연령대_음주운전_합계.csv'\n",
    "total_data.to_csv(output_path, encoding='utf-8-sig')\n",
    "\n",
    "print(\"합계 데이터가 '군구별_연령대_음주운전_합계.csv'로 저장되었습니다.\")"
   ]
  }
 ],
 "metadata": {
  "colab": {
   "authorship_tag": "ABX9TyP54SFFOhFsHt/d8eJbtdk6",
   "provenance": []
  },
  "kernelspec": {
   "display_name": "base",
   "language": "python",
   "name": "python3"
  },
  "language_info": {
   "codemirror_mode": {
    "name": "ipython",
    "version": 3
   },
   "file_extension": ".py",
   "mimetype": "text/x-python",
   "name": "python",
   "nbconvert_exporter": "python",
   "pygments_lexer": "ipython3",
   "version": "3.12.4"
  }
 },
 "nbformat": 4,
 "nbformat_minor": 0
}
