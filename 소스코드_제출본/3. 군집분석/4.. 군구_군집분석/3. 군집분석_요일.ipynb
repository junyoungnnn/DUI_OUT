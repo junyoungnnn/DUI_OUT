{
 "cells": [
  {
   "cell_type": "code",
   "execution_count": null,
   "metadata": {
    "id": "AEuG60pTGgN3"
   },
   "outputs": [],
   "source": [
    "import pandas as pd\n",
    "from sklearn.cluster import KMeans\n",
    "from sklearn.preprocessing import StandardScaler\n",
    "import matplotlib.pyplot as plt\n"
   ]
  },
  {
   "cell_type": "code",
   "execution_count": null,
   "metadata": {
    "id": "-MIZcD-IHNUF"
   },
   "outputs": [],
   "source": [
    "# 파일 경로\n",
    "file_path = '../3. 군구_시간대, 연령대, 요일_음주운전_합계/군구별_요일_음주운전_합계.csv'\n",
    "\n",
    "# 데이터 로드\n",
    "data = pd.read_csv(file_path, encoding='utf-8-sig', index_col=0)"
   ]
  },
  {
   "cell_type": "code",
   "execution_count": null,
   "metadata": {
    "id": "zkIhxTh7HP9R"
   },
   "outputs": [],
   "source": [
    "# 1. 데이터 준비: 군구별 합계를 특징으로 사용\n",
    "features = data.copy()\n"
   ]
  },
  {
   "cell_type": "code",
   "execution_count": null,
   "metadata": {
    "id": "xF95LqJyHR2N"
   },
   "outputs": [],
   "source": [
    "# 2. 데이터 표준화\n",
    "scaler = StandardScaler()\n",
    "features_scaled = scaler.fit_transform(features)\n"
   ]
  },
  {
   "cell_type": "code",
   "execution_count": null,
   "metadata": {
    "id": "9l0frfkJHTUH"
   },
   "outputs": [],
   "source": [
    "\n",
    "# 3. 엘보우 방법으로 최적의 클러스터 개수 결정\n",
    "inertia = []\n",
    "for k in range(1, 11):  # 클러스터 개수를 1~10까지 시도\n",
    "    kmeans = KMeans(n_clusters=k, random_state=42)\n",
    "    kmeans.fit(features_scaled)\n",
    "    inertia.append(kmeans.inertia_)\n"
   ]
  },
  {
   "cell_type": "code",
   "execution_count": null,
   "metadata": {
    "colab": {
     "base_uri": "https://localhost:8080/",
     "height": 487
    },
    "executionInfo": {
     "elapsed": 9,
     "status": "ok",
     "timestamp": 1737088782657,
     "user": {
      "displayName": "류주",
      "userId": "17605270416533711110"
     },
     "user_tz": -540
    },
    "id": "Bho8kE3SHUqO",
    "outputId": "77162f8e-0bfc-4cba-b306-6bb154dda6aa"
   },
   "outputs": [
    {
     "data": {
      "image/png": "[encoded data removed]",
      "text/plain": [
       "<Figure size 800x500 with 1 Axes>"
      ]
     },
     "metadata": {},
     "output_type": "display_data"
    }
   ],
   "source": [
    "\n",
    "# 엘보우 방법 시각화\n",
    "plt.figure(figsize=(8, 5))\n",
    "plt.plot(range(1, 11), inertia, marker='o')\n",
    "plt.title('Elbow Method for Optimal Clusters')\n",
    "plt.xlabel('Number of Clusters')\n",
    "plt.ylabel('Inertia')\n",
    "plt.show()\n"
   ]
  },
  {
   "cell_type": "code",
   "execution_count": null,
   "metadata": {
    "id": "2wg5wkK0HV3U"
   },
   "outputs": [],
   "source": [
    "\n",
    "# 4. K-Means 클러스터링\n",
    "optimal_k = 3  # 엘보우 방법 결과로 얻은 최적 클러스터 개수\n",
    "kmeans = KMeans(n_clusters=optimal_k, random_state=42)\n",
    "data['Cluster'] = kmeans.fit_predict(features_scaled)\n"
   ]
  },
  {
   "cell_type": "code",
   "execution_count": null,
   "metadata": {
    "colab": {
     "base_uri": "https://localhost:8080/"
    },
    "executionInfo": {
     "elapsed": 7,
     "status": "ok",
     "timestamp": 1737088783197,
     "user": {
      "displayName": "류주",
      "userId": "17605270416533711110"
     },
     "user_tz": -540
    },
    "id": "ooEnscyCHW3o",
    "outputId": "7b14b238-5af7-4333-a034-502b1a16fca4"
   },
   "outputs": [
    {
     "name": "stdout",
     "output_type": "stream",
     "text": [
      "                월요일         화요일         수요일         목요일         금요일  \\\n",
      "Cluster                                                               \n",
      "0        125.142857  137.428571  158.571429  146.285714  168.857143   \n",
      "1         51.000000   54.000000   58.500000   59.500000   67.000000   \n",
      "2        183.500000  201.250000  194.750000  221.000000  227.000000   \n",
      "\n",
      "                토요일     일요일  \n",
      "Cluster                      \n",
      "0        201.142857  172.00  \n",
      "1         87.750000   70.75  \n",
      "2        269.500000  234.50  \n"
     ]
    }
   ],
   "source": [
    "\n",
    "# 5. 군집별 데이터 확인\n",
    "print(data.groupby('Cluster').mean())\n"
   ]
  },
  {
   "cell_type": "code",
   "execution_count": null,
   "metadata": {
    "colab": {
     "base_uri": "https://localhost:8080/"
    },
    "executionInfo": {
     "elapsed": 5,
     "status": "ok",
     "timestamp": 1737088783197,
     "user": {
      "displayName": "류주",
      "userId": "17605270416533711110"
     },
     "user_tz": -540
    },
    "id": "Slmf3LGbfs3I",
    "outputId": "0e90d6cf-90cb-487f-cff4-8c6464eeadf5"
   },
   "outputs": [
    {
     "name": "stdout",
     "output_type": "stream",
     "text": [
      "Cluster 0에 포함된 군구:\n",
      "['강서구', '금정구', '동래구', '북구', '사상구', '사하구', '연제구']\n",
      "\n",
      "\n",
      "Cluster 1에 포함된 군구:\n",
      "['동구', '서구', '영도구', '중구']\n",
      "\n",
      "\n",
      "Cluster 2에 포함된 군구:\n",
      "['기장군', '남구', '부산진구', '해운대구']\n",
      "\n",
      "\n"
     ]
    }
   ],
   "source": [
    "# 군집별로 군구 확인\n",
    "for cluster in range(optimal_k):  # optimal_k는 군집 수\n",
    "    print(f\"Cluster {cluster}에 포함된 군구:\")\n",
    "    print(data[data['Cluster'] == cluster].index.tolist())\n",
    "    print(\"\\n\")\n"
   ]
  },
  {
   "cell_type": "markdown",
   "metadata": {
    "id": "mzPUMc1ZgDZd"
   },
   "source": [
    "## 군집 분석 결과 해석\n",
    "\n",
    "출력된 결과는 각 요일에 대한 평균 음주운전 건수입니다. 각 클러스터는 해당 요일별 평균 음주운전 건수가 유사한 군구들로 구성됩니다.\n",
    "\n",
    "## 클러스터별 특징 해석\n",
    "\n",
    "- Cluster 0:\n",
    "중간 수준의 음주운전 건수를 가진 군구.\n",
    "금요일(168.86)과 토요일(201.14)에 높은 건수를 보임.\n",
    "주중에는 평균적인 음주운전 건수를 기록.\n",
    "\n",
    "- Cluster 1:\n",
    "음주운전 건수가 가장 낮은 군구.\n",
    "모든 요일에서 음주운전 건수가 낮으며, 특히 **일요일(10.75)**에 매우 낮은 값을 보임.\n",
    "음주운전 문제가 덜 심각한 지역.\n",
    "\n",
    "- Cluster 2:\n",
    "음주운전 건수가 가장 높은 군구.\n",
    "모든 요일에서 높은 음주운전 건수를 기록하며, 특히 **금요일(227.00)**과 **토요일(269.50)**에 가장 높은 값을 보임.\n",
    "음주운전 문제가 심각한 지역.\n",
    "\n",
    "## 군집 분석 활용 방안\n",
    "Cluster 1 (낮은 음주운전 군구):\n",
    "\n",
    "음주운전 예방 캠페인의 필요성이 낮은 지역.\n",
    "안전 운전 관련 정책을 유지.\n",
    "\n",
    "Cluster 0 (중간 수준 군구):\n",
    "\n",
    "금요일과 토요일에 음주운전이 증가하는 경향이 있음.\n",
    "주말 중심의 음주운전 단속 강화 필요.\n",
    "\n",
    "Cluster 2 (높은 음주운전 군구):\n",
    "\n",
    "주중 및 주말 모두 음주운전 건수가 높음.\n",
    "전반적인 음주운전 단속과 예방 캠페인 집중 지역.\n",
    "금요일과 토요일에 단속을 강화하고, 심야 시간대 감시를 늘릴 필요.\n"
   ]
  },
  {
   "cell_type": "code",
   "execution_count": null,
   "metadata": {
    "colab": {
     "base_uri": "https://localhost:8080/",
     "height": 183
    },
    "executionInfo": {
     "elapsed": 3,
     "status": "error",
     "timestamp": 1737097883352,
     "user": {
      "displayName": "류주",
      "userId": "17605270416533711110"
     },
     "user_tz": -540
    },
    "id": "1xZJOpyeHX7v",
    "outputId": "59299e9c-eea9-4fb0-aeb4-c472b804c0e4"
   },
   "outputs": [
    {
     "ename": "NameError",
     "evalue": "name 'data' is not defined",
     "output_type": "error",
     "traceback": [
      "\u001b[0;31m---------------------------------------------------------------------------\u001b[0m",
      "\u001b[0;31mNameError\u001b[0m                                 Traceback (most recent call last)",
      "\u001b[0;32m<ipython-input-17-b915c10ee38e>\u001b[0m in \u001b[0;36m<cell line: 0>\u001b[0;34m()\u001b[0m\n\u001b[1;32m      1\u001b[0m \u001b[0;31m# 6. 결과 저장\u001b[0m\u001b[0;34m\u001b[0m\u001b[0;34m\u001b[0m\u001b[0m\n\u001b[1;32m      2\u001b[0m \u001b[0moutput_path\u001b[0m \u001b[0;34m=\u001b[0m \u001b[0;34m'요일별_부산군구_군집분석결과.csv'\u001b[0m\u001b[0;34m\u001b[0m\u001b[0;34m\u001b[0m\u001b[0m\n\u001b[0;32m----> 3\u001b[0;31m \u001b[0mdata\u001b[0m\u001b[0;34m.\u001b[0m\u001b[0mto_csv\u001b[0m\u001b[0;34m(\u001b[0m\u001b[0moutput_path\u001b[0m\u001b[0;34m,\u001b[0m \u001b[0mencoding\u001b[0m\u001b[0;34m=\u001b[0m\u001b[0;34m'utf-8-sig'\u001b[0m\u001b[0;34m)\u001b[0m\u001b[0;34m\u001b[0m\u001b[0;34m\u001b[0m\u001b[0m\n\u001b[0m",
      "\u001b[0;31mNameError\u001b[0m: name 'data' is not defined"
     ]
    }
   ],
   "source": [
    "# 6. 결과 저장\n",
    "output_path = '요일별_부산군구_군집분석결과.csv'\n",
    "data.to_csv(output_path, encoding='utf-8-sig')"
   ]
  }
 ],
 "metadata": {
  "colab": {
   "authorship_tag": "ABX9TyPY0eEqCmc/mum7bj6YsG50",
   "provenance": []
  },
  "kernelspec": {
   "display_name": "Python 3",
   "name": "python3"
  },
  "language_info": {
   "name": "python"
  }
 },
 "nbformat": 4,
 "nbformat_minor": 0
}
