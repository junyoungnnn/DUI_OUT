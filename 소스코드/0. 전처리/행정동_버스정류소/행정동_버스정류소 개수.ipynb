{
 "cells": [
  {
   "cell_type": "code",
   "execution_count": null,
   "id": "6c2025d2-0a8f-48de-824e-bd258c5c2704",
   "metadata": {},
   "outputs": [],
   "source": [
    "import geopandas as gpd\n",
    "\n",
    "# 1. 정류소 데이터 로드 (GIS 파일 로드)\n",
    "bus_gdf = gpd.read_file(\"C:/Users/User/big/부산광역시 버스 정류소 정보.zip\")  # 정류소 데이터 GIS 파일 로드\n",
    "\n",
    "# 2. 정류소 데이터의 좌표계를 EPSG:4326으로 설정 (WGS84)\n",
    "bus_gdf = bus_gdf.set_crs(epsg=4326)\n",
    "\n",
    "# 3. 행정구역 경계 데이터 로드\n",
    "admin_boundary_dong = gpd.read_file(\"C:/Users/User/big/BND_ADM_DONG_PG.zip\",encoding=\"cp949\")  # 부산시 행정구역 경계 파일 로드\n",
    "\n",
    "# 4. 좌표계 통일 (WGS84로 변환)\n",
    "admin_boundary_dong = admin_boundary_dong.to_crs(epsg=4326)\n",
    "\n",
    "# 5. 정류소와 행정동 간 공간 조인\n",
    "# 'within' 대신 'intersects' 또는 'contains'를 사용할 수 있습니다.\n",
    "bus_gdf_with_dong = gpd.sjoin(bus_gdf, admin_boundary_dong, how=\"left\", predicate='within')\n",
    "bus_gdf_with_dong = bus_gdf_with_dong.drop_duplicates(subset=['bstopnm', 'geometry'])\n",
    "\n",
    "# 6. 결과 저장 (동별로 분류된 데이터 저장)\n",
    "bus_gdf_with_dong[['bstopnm', 'geometry', 'ADM_NM']].to_csv(\"bus_stations_by_dong.csv\", index=False, encoding='cp949')\n",
    "\n",
    "print(\"동별로 분류된 데이터가 저장되었습니다.\")\n",
    "\n",
    "# 7. 동별 정류소 개수 집계\n",
    "dong_station_counts = bus_gdf_with_dong.groupby('ADM_NM').size().reset_index(name='정류소 개수')\n",
    "\n",
    "dong_station_counts\n",
    "# 8. 결과 저장\n",
    "dong_station_counts.to_csv(\"bus_station_counts_by_dong.csv\", index=False, encoding='cp949')\n",
    "\n",
    "print(\"동별 정류소 개수가 저장되었습니다.\")"
   ]
  }
 ],
 "metadata": {
  "kernelspec": {
   "display_name": "Python 3 (ipykernel)",
   "language": "python",
   "name": "python3"
  },
  "language_info": {
   "codemirror_mode": {
    "name": "ipython",
    "version": 3
   },
   "file_extension": ".py",
   "mimetype": "text/x-python",
   "name": "python",
   "nbconvert_exporter": "python",
   "pygments_lexer": "ipython3",
   "version": "3.12.4"
  }
 },
 "nbformat": 4,
 "nbformat_minor": 5
}
