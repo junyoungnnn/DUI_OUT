{
 "cells": [
  {
   "cell_type": "code",
   "execution_count": 4,
   "id": "f6b2b808-3c07-4519-83f3-144b982e21fe",
   "metadata": {},
   "outputs": [
    {
     "name": "stdout",
     "output_type": "stream",
     "text": [
      "          관리기관명  주차장명\n",
      "0    부산광역시 강서구청    27\n",
      "1    부산광역시 금정구청    45\n",
      "2    부산광역시 기장군청    29\n",
      "3     부산광역시 남구청    25\n",
      "4     부산광역시 동구청    67\n",
      "5    부산광역시 동래구청    15\n",
      "6   부산광역시 부산진구청    57\n",
      "7     부산광역시 북구청    43\n",
      "8    부산광역시 사상구청    63\n",
      "9    부산광역시 사하구청    55\n",
      "10    부산광역시 서구청    48\n",
      "11   부산광역시 수영구청    10\n",
      "12   부산광역시 연제구청    25\n",
      "13   부산광역시 영도구청    37\n",
      "14    부산광역시 중구청    29\n",
      "15  부산광역시 해운대구청    40\n",
      "공영주차장 개수가 저장되었습니다.\n"
     ]
    }
   ],
   "source": [
    "import pandas as pd\n",
    "\n",
    "# 예시 데이터프레임\n",
    "df = pd.read_csv(\"C:/Users/User/big/부산광역시 공영주차장 정보 조회.csv\")  # 데이터 로드\n",
    "\n",
    "# 관리기관명별로 주차장 수 합산\n",
    "parking_counts = df.groupby('관리기관명')['주차장명'].count().reset_index()\n",
    "\n",
    "# 결과 출력\n",
    "print(parking_counts)\n",
    "\n",
    "#결과 저장\n",
    "parking_counts.to_csv(\"parking_counts.csv\", index=False, encoding='cp949')\n",
    "\n",
    "print(\"공영주차장 개수가 저장되었습니다.\")"
   ]
  }
 ],
 "metadata": {
  "kernelspec": {
   "display_name": "Python 3 (ipykernel)",
   "language": "python",
   "name": "python3"
  },
  "language_info": {
   "codemirror_mode": {
    "name": "ipython",
    "version": 3
   },
   "file_extension": ".py",
   "mimetype": "text/x-python",
   "name": "python",
   "nbconvert_exporter": "python",
   "pygments_lexer": "ipython3",
   "version": "3.12.4"
  }
 },
 "nbformat": 4,
 "nbformat_minor": 5
}
