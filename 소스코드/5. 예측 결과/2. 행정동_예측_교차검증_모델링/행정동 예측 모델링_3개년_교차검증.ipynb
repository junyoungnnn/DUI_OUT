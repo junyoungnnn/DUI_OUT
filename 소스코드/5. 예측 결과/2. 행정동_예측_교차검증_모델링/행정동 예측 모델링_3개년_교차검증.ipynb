{
 "cells": [
  {
   "cell_type": "code",
   "execution_count": 1,
   "metadata": {
    "executionInfo": {
     "elapsed": 2263,
     "status": "ok",
     "timestamp": 1737703606727,
     "user": {
      "displayName": "노준영",
      "userId": "12714711567111669889"
     },
     "user_tz": -540
    },
    "id": "ZYtNIM1RsLPG"
   },
   "outputs": [],
   "source": [
    "import pandas as pd\n",
    "import numpy as np\n",
    "\n",
    "data = pd.read_csv('../1. 상위변수_데이터/행정동_음주운전_합본_cp949.csv', encoding = 'cp949')"
   ]
  },
  {
   "cell_type": "code",
   "execution_count": 2,
   "metadata": {
    "colab": {
     "base_uri": "https://localhost:8080/",
     "height": 206
    },
    "collapsed": true,
    "executionInfo": {
     "elapsed": 291,
     "status": "ok",
     "timestamp": 1737703608368,
     "user": {
      "displayName": "노준영",
      "userId": "12714711567111669889"
     },
     "user_tz": -540
    },
    "id": "CaOTKFdZIpFR",
    "outputId": "d15d6f04-e0ae-4954-b76d-8ec6b7e1a38e"
   },
   "outputs": [
    {
     "data": {
      "text/html": [
       "<div>\n",
       "<style scoped>\n",
       "    .dataframe tbody tr th:only-of-type {\n",
       "        vertical-align: middle;\n",
       "    }\n",
       "\n",
       "    .dataframe tbody tr th {\n",
       "        vertical-align: top;\n",
       "    }\n",
       "\n",
       "    .dataframe thead th {\n",
       "        text-align: right;\n",
       "    }\n",
       "</style>\n",
       "<table border=\"1\" class=\"dataframe\">\n",
       "  <thead>\n",
       "    <tr style=\"text-align: right;\">\n",
       "      <th></th>\n",
       "      <th>읍면동</th>\n",
       "      <th>자동차 등록 대수</th>\n",
       "      <th>인구수</th>\n",
       "      <th>횡단보도 개수</th>\n",
       "      <th>음식점 수</th>\n",
       "      <th>버스정류장 개수</th>\n",
       "      <th>음주 교통사고 건수</th>\n",
       "      <th>음주운전 적발 건수</th>\n",
       "    </tr>\n",
       "  </thead>\n",
       "  <tbody>\n",
       "    <tr>\n",
       "      <th>0</th>\n",
       "      <td>가덕도동</td>\n",
       "      <td>2327</td>\n",
       "      <td>3941</td>\n",
       "      <td>4</td>\n",
       "      <td>25</td>\n",
       "      <td>88</td>\n",
       "      <td>1.14</td>\n",
       "      <td>0.66</td>\n",
       "    </tr>\n",
       "    <tr>\n",
       "      <th>1</th>\n",
       "      <td>가락동</td>\n",
       "      <td>2095</td>\n",
       "      <td>2345</td>\n",
       "      <td>33</td>\n",
       "      <td>12</td>\n",
       "      <td>57</td>\n",
       "      <td>0.68</td>\n",
       "      <td>0.40</td>\n",
       "    </tr>\n",
       "    <tr>\n",
       "      <th>2</th>\n",
       "      <td>가야1동</td>\n",
       "      <td>5540</td>\n",
       "      <td>19224</td>\n",
       "      <td>14</td>\n",
       "      <td>36</td>\n",
       "      <td>13</td>\n",
       "      <td>5.42</td>\n",
       "      <td>2.65</td>\n",
       "    </tr>\n",
       "    <tr>\n",
       "      <th>3</th>\n",
       "      <td>가야2동</td>\n",
       "      <td>5540</td>\n",
       "      <td>16844</td>\n",
       "      <td>8</td>\n",
       "      <td>43</td>\n",
       "      <td>18</td>\n",
       "      <td>4.75</td>\n",
       "      <td>2.32</td>\n",
       "    </tr>\n",
       "    <tr>\n",
       "      <th>4</th>\n",
       "      <td>감만1동</td>\n",
       "      <td>7514</td>\n",
       "      <td>12970</td>\n",
       "      <td>14</td>\n",
       "      <td>25</td>\n",
       "      <td>40</td>\n",
       "      <td>1.37</td>\n",
       "      <td>1.37</td>\n",
       "    </tr>\n",
       "  </tbody>\n",
       "</table>\n",
       "</div>"
      ],
      "text/plain": [
       "    읍면동  자동차 등록 대수    인구수  횡단보도 개수  음식점 수  버스정류장 개수  음주 교통사고 건수  음주운전 적발 건수\n",
       "0  가덕도동       2327   3941        4     25        88        1.14        0.66\n",
       "1   가락동       2095   2345       33     12        57        0.68        0.40\n",
       "2  가야1동       5540  19224       14     36        13        5.42        2.65\n",
       "3  가야2동       5540  16844        8     43        18        4.75        2.32\n",
       "4  감만1동       7514  12970       14     25        40        1.37        1.37"
      ]
     },
     "execution_count": 2,
     "metadata": {},
     "output_type": "execute_result"
    }
   ],
   "source": [
    "data.head()"
   ]
  },
  {
   "cell_type": "code",
   "execution_count": 3,
   "metadata": {
    "executionInfo": {
     "elapsed": 274,
     "status": "ok",
     "timestamp": 1737703610280,
     "user": {
      "displayName": "노준영",
      "userId": "12714711567111669889"
     },
     "user_tz": -540
    },
    "id": "flLCzgOOGDTv"
   },
   "outputs": [],
   "source": [
    "X = data.drop(columns = ['읍면동', '음주운전 적발 건수'])\n",
    "y = data['음주운전 적발 건수']"
   ]
  },
  {
   "cell_type": "code",
   "execution_count": 4,
   "metadata": {
    "executionInfo": {
     "elapsed": 7741,
     "status": "ok",
     "timestamp": 1737703619169,
     "user": {
      "displayName": "노준영",
      "userId": "12714711567111669889"
     },
     "user_tz": -540
    },
    "id": "Gj4JsSUKIofH"
   },
   "outputs": [],
   "source": [
    "from sklearn.model_selection import train_test_split\n",
    "\n",
    "X_train, X_test, y_train, y_test = train_test_split(X, y, test_size = 0.2, random_state = 29)"
   ]
  },
  {
   "cell_type": "code",
   "execution_count": 5,
   "metadata": {
    "executionInfo": {
     "elapsed": 275,
     "status": "ok",
     "timestamp": 1737703622261,
     "user": {
      "displayName": "노준영",
      "userId": "12714711567111669889"
     },
     "user_tz": -540
    },
    "id": "B8opUJTlrpmj"
   },
   "outputs": [],
   "source": [
    "from sklearn.preprocessing import StandardScaler\n",
    "scaler = StandardScaler()\n",
    "\n",
    "X_train = scaler.fit_transform(X_train)\n",
    "X_test = scaler.transform(X_test)"
   ]
  },
  {
   "cell_type": "code",
   "execution_count": 17,
   "metadata": {
    "colab": {
     "base_uri": "https://localhost:8080/"
    },
    "executionInfo": {
     "elapsed": 356832,
     "status": "ok",
     "timestamp": 1737704532099,
     "user": {
      "displayName": "노준영",
      "userId": "12714711567111669889"
     },
     "user_tz": -540
    },
    "id": "pYHg3ravJHxG",
    "outputId": "86df05ef-7bae-4204-c9ca-730ba9aa02c8"
   },
   "outputs": [
    {
     "name": "stdout",
     "output_type": "stream",
     "text": [
      "Fitting 5 folds for each of 324 candidates, totalling 1620 fits\n"
     ]
    },
    {
     "name": "stderr",
     "output_type": "stream",
     "text": [
      "/usr/local/lib/python3.11/dist-packages/sklearn/model_selection/_validation.py:528: FitFailedWarning: \n",
      "540 fits failed out of a total of 1620.\n",
      "The score on these train-test partitions for these parameters will be set to nan.\n",
      "If these failures are not expected, you can try to debug them by setting error_score='raise'.\n",
      "\n",
      "Below are more details about the failures:\n",
      "--------------------------------------------------------------------------------\n",
      "540 fits failed with the following error:\n",
      "Traceback (most recent call last):\n",
      "  File \"/usr/local/lib/python3.11/dist-packages/sklearn/model_selection/_validation.py\", line 866, in _fit_and_score\n",
      "    estimator.fit(X_train, y_train, **fit_params)\n",
      "  File \"/usr/local/lib/python3.11/dist-packages/sklearn/base.py\", line 1382, in wrapper\n",
      "    estimator._validate_params()\n",
      "  File \"/usr/local/lib/python3.11/dist-packages/sklearn/base.py\", line 436, in _validate_params\n",
      "    validate_parameter_constraints(\n",
      "  File \"/usr/local/lib/python3.11/dist-packages/sklearn/utils/_param_validation.py\", line 98, in validate_parameter_constraints\n",
      "    raise InvalidParameterError(\n",
      "sklearn.utils._param_validation.InvalidParameterError: The 'max_features' parameter of RandomForestRegressor must be an int in the range [1, inf), a float in the range (0.0, 1.0], a str among {'log2', 'sqrt'} or None. Got 'auto' instead.\n",
      "\n",
      "  warnings.warn(some_fits_failed_message, FitFailedWarning)\n",
      "/usr/local/lib/python3.11/dist-packages/sklearn/model_selection/_search.py:1107: UserWarning: One or more of the test scores are non-finite: [       nan        nan        nan        nan        nan        nan\n",
      "        nan        nan        nan        nan        nan        nan\n",
      "        nan        nan        nan        nan        nan        nan\n",
      "        nan        nan        nan        nan        nan        nan\n",
      "        nan        nan        nan 0.90341316 0.90279445 0.90232414\n",
      " 0.8833383  0.88106325 0.88256511 0.85326992 0.85388895 0.85367522\n",
      " 0.8826554  0.88109623 0.88174511 0.87266479 0.87317121 0.87501626\n",
      " 0.85431069 0.85700607 0.85666449 0.84937492 0.85068476 0.8512724\n",
      " 0.84937492 0.85068476 0.8512724  0.84358454 0.8465687  0.84840092\n",
      " 0.90341316 0.90279445 0.90232414 0.8833383  0.88106325 0.88256511\n",
      " 0.85326992 0.85388895 0.85367522 0.8826554  0.88109623 0.88174511\n",
      " 0.87266479 0.87317121 0.87501626 0.85431069 0.85700607 0.85666449\n",
      " 0.84937492 0.85068476 0.8512724  0.84937492 0.85068476 0.8512724\n",
      " 0.84358454 0.8465687  0.84840092        nan        nan        nan\n",
      "        nan        nan        nan        nan        nan        nan\n",
      "        nan        nan        nan        nan        nan        nan\n",
      "        nan        nan        nan        nan        nan        nan\n",
      "        nan        nan        nan        nan        nan        nan\n",
      " 0.90407418 0.9072659  0.90595475 0.88070727 0.88144369 0.88153885\n",
      " 0.8570152  0.85607787 0.85631253 0.87673081 0.87851112 0.88098287\n",
      " 0.87108059 0.87584983 0.87504621 0.85351097 0.85577242 0.8553815\n",
      " 0.85039281 0.85146826 0.85220971 0.85039281 0.85146826 0.85220971\n",
      " 0.84490126 0.84704118 0.84876839 0.90407418 0.9072659  0.90595475\n",
      " 0.88070727 0.88144369 0.88153885 0.8570152  0.85607787 0.85631253\n",
      " 0.87673081 0.87851112 0.88098287 0.87108059 0.87584983 0.87504621\n",
      " 0.85351097 0.85577242 0.8553815  0.85039281 0.85146826 0.85220971\n",
      " 0.85039281 0.85146826 0.85220971 0.84490126 0.84704118 0.84876839\n",
      "        nan        nan        nan        nan        nan        nan\n",
      "        nan        nan        nan        nan        nan        nan\n",
      "        nan        nan        nan        nan        nan        nan\n",
      "        nan        nan        nan        nan        nan        nan\n",
      "        nan        nan        nan 0.90464257 0.90333737 0.90228656\n",
      " 0.88336973 0.88114629 0.88261876 0.85326992 0.85388895 0.85367522\n",
      " 0.8826554  0.88109623 0.88174511 0.87266479 0.87317121 0.87501626\n",
      " 0.85431069 0.85700607 0.85666449 0.84937492 0.85068476 0.8512724\n",
      " 0.84937492 0.85068476 0.8512724  0.84358454 0.8465687  0.84840092\n",
      " 0.90464257 0.90333737 0.90228656 0.88336973 0.88114629 0.88261876\n",
      " 0.85326992 0.85388895 0.85367522 0.8826554  0.88109623 0.88174511\n",
      " 0.87266479 0.87317121 0.87501626 0.85431069 0.85700607 0.85666449\n",
      " 0.84937492 0.85068476 0.8512724  0.84937492 0.85068476 0.8512724\n",
      " 0.84358454 0.8465687  0.84840092        nan        nan        nan\n",
      "        nan        nan        nan        nan        nan        nan\n",
      "        nan        nan        nan        nan        nan        nan\n",
      "        nan        nan        nan        nan        nan        nan\n",
      "        nan        nan        nan        nan        nan        nan\n",
      " 0.90341316 0.90279445 0.90232414 0.8833383  0.88106325 0.88256511\n",
      " 0.85326992 0.85388895 0.85367522 0.8826554  0.88109623 0.88174511\n",
      " 0.87266479 0.87317121 0.87501626 0.85431069 0.85700607 0.85666449\n",
      " 0.84937492 0.85068476 0.8512724  0.84937492 0.85068476 0.8512724\n",
      " 0.84358454 0.8465687  0.84840092 0.90341316 0.90279445 0.90232414\n",
      " 0.8833383  0.88106325 0.88256511 0.85326992 0.85388895 0.85367522\n",
      " 0.8826554  0.88109623 0.88174511 0.87266479 0.87317121 0.87501626\n",
      " 0.85431069 0.85700607 0.85666449 0.84937492 0.85068476 0.8512724\n",
      " 0.84937492 0.85068476 0.8512724  0.84358454 0.8465687  0.84840092]\n",
      "  warnings.warn(\n"
     ]
    },
    {
     "name": "stdout",
     "output_type": "stream",
     "text": [
      "Best Parameters: {'max_depth': 10, 'max_features': 'sqrt', 'min_samples_leaf': 1, 'min_samples_split': 2, 'n_estimators': 200}\n",
      "Mean Squared Error (MSE): 0.34147109023151173\n",
      "Mean Absolute Error (MAE): 0.3856300887399589\n",
      "Root Mean Squared Error (RMSE): 0.5843552774053741\n",
      "R2 Score: 0.9486521827545724\n"
     ]
    }
   ],
   "source": [
    "from sklearn.ensemble import RandomForestRegressor\n",
    "from sklearn.model_selection import GridSearchCV, KFold\n",
    "from sklearn.metrics import mean_squared_error, mean_absolute_error, r2_score\n",
    "import numpy as np\n",
    "\n",
    "# Define the model\n",
    "RF = RandomForestRegressor(random_state=29)\n",
    "\n",
    "# Define the parameter grid for hyperparameter tuning\n",
    "param_grid = {\n",
    "    'n_estimators': [100, 200, 300],\n",
    "    'max_depth': [None, 10, 20, 30],\n",
    "    'min_samples_split': [2, 5, 10],\n",
    "    'min_samples_leaf': [1, 2, 4],\n",
    "    'max_features': ['auto', 'sqrt', 'log2']\n",
    "}\n",
    "\n",
    "# Define K-Fold cross-validation\n",
    "kfold = KFold(n_splits=5, shuffle=True, random_state=29)\n",
    "\n",
    "# Perform GridSearchCV\n",
    "grid_search = GridSearchCV(estimator=RF, param_grid=param_grid, cv=kfold, scoring='r2', n_jobs=-1, verbose=2)\n",
    "grid_search.fit(X_train, y_train)\n",
    "\n",
    "# Best parameters and model\n",
    "best_params = grid_search.best_params_\n",
    "best_model = grid_search.best_estimator_\n",
    "\n",
    "# Predict with the best model\n",
    "y_pred = best_model.predict(X_test)\n",
    "\n",
    "# Evaluate the model\n",
    "RF_mse = mean_squared_error(y_test, y_pred)\n",
    "RF_mae = mean_absolute_error(y_test, y_pred)\n",
    "RF_rmse = np.sqrt(RF_mse)\n",
    "RF_r2 = r2_score(y_test, y_pred)\n",
    "\n",
    "# Print results\n",
    "print(f\"Best Parameters: {best_params}\")\n",
    "print(f\"Mean Squared Error (MSE): {RF_mse}\")\n",
    "print(f\"Mean Absolute Error (MAE): {RF_mae}\")\n",
    "print(f\"Root Mean Squared Error (RMSE): {RF_rmse}\")\n",
    "print(f\"R2 Score: {RF_r2}\")\n"
   ]
  },
  {
   "cell_type": "code",
   "execution_count": 18,
   "metadata": {
    "colab": {
     "base_uri": "https://localhost:8080/"
    },
    "executionInfo": {
     "elapsed": 8660,
     "status": "ok",
     "timestamp": 1737704628391,
     "user": {
      "displayName": "노준영",
      "userId": "12714711567111669889"
     },
     "user_tz": -540
    },
    "id": "iTDKQPo1WRbN",
    "outputId": "8c382501-2e32-4d00-ef8f-ab2062720669"
   },
   "outputs": [
    {
     "name": "stdout",
     "output_type": "stream",
     "text": [
      "Fitting 5 folds for each of 32 candidates, totalling 160 fits\n",
      "SVM Best Parameters: {'C': 15, 'gamma': 'scale', 'kernel': 'linear'}\n",
      "SVM Mean Squared Error (MSE): 0.9794210858870763\n",
      "SVM Mean Absolute Error (MAE): 0.516697216860175\n",
      "SVM Root Mean Squared Error (RMSE): 0.9896570546846399\n",
      "SVM R2 Score: 0.8527221297406135\n"
     ]
    }
   ],
   "source": [
    "from sklearn.svm import SVR\n",
    "from sklearn.model_selection import GridSearchCV, KFold\n",
    "from sklearn.metrics import mean_squared_error, mean_absolute_error, r2_score\n",
    "import numpy as np\n",
    "\n",
    "# Support Vector Machine Model\n",
    "svm_model = SVR()\n",
    "\n",
    "# Define the parameter grid for SVM hyperparameter tuning\n",
    "svm_param_grid = {\n",
    "    'C': [0.1, 1, 10, 15],\n",
    "    'kernel': ['linear', 'poly', 'rbf', 'sigmoid'],\n",
    "    'gamma': ['scale', 'auto']\n",
    "}\n",
    "\n",
    "# Define K-Fold cross-validation\n",
    "kfold = KFold(n_splits=5, shuffle=True, random_state=29)\n",
    "\n",
    "# Perform GridSearchCV for SVM\n",
    "grid_search_svm = GridSearchCV(estimator=svm_model, param_grid=svm_param_grid, cv=kfold, scoring='r2', n_jobs=-1, verbose=2)\n",
    "grid_search_svm.fit(X_train, y_train)\n",
    "\n",
    "# Best parameters and model for SVM\n",
    "best_svm_params = grid_search_svm.best_params_\n",
    "best_svm_model = grid_search_svm.best_estimator_\n",
    "\n",
    "# Predict with the best SVM model\n",
    "y_pred_svm = best_svm_model.predict(X_test)\n",
    "\n",
    "# Evaluate the SVM model\n",
    "SVM_mse = mean_squared_error(y_test, y_pred_svm)\n",
    "SVM_mae = mean_absolute_error(y_test, y_pred_svm)\n",
    "SVM_rmse = np.sqrt(SVM_mse)\n",
    "SVM_r2 = r2_score(y_test, y_pred_svm)\n",
    "\n",
    "# Print SVM results\n",
    "print(f\"SVM Best Parameters: {best_svm_params}\")\n",
    "print(f\"SVM Mean Squared Error (MSE): {SVM_mse}\")\n",
    "print(f\"SVM Mean Absolute Error (MAE): {SVM_mae}\")\n",
    "print(f\"SVM Root Mean Squared Error (RMSE): {SVM_rmse}\")\n",
    "print(f\"SVM R2 Score: {SVM_r2}\")\n"
   ]
  },
  {
   "cell_type": "code",
   "execution_count": null,
   "metadata": {
    "colab": {
     "base_uri": "https://localhost:8080/"
    },
    "executionInfo": {
     "elapsed": 5075,
     "status": "ok",
     "timestamp": 1737511357352,
     "user": {
      "displayName": "노준영",
      "userId": "12714711567111669889"
     },
     "user_tz": -540
    },
    "id": "Bwe3jq0pSpCp",
    "outputId": "1b5e28e7-4280-4547-c143-a1203f736593"
   },
   "outputs": [
    {
     "name": "stdout",
     "output_type": "stream",
     "text": [
      "Requirement already satisfied: lightgbm in /usr/local/lib/python3.11/dist-packages (4.5.0)\n",
      "Requirement already satisfied: numpy>=1.17.0 in /usr/local/lib/python3.11/dist-packages (from lightgbm) (1.26.4)\n",
      "Requirement already satisfied: scipy in /usr/local/lib/python3.11/dist-packages (from lightgbm) (1.13.1)\n"
     ]
    }
   ],
   "source": [
    "!pip install lightgbm"
   ]
  },
  {
   "cell_type": "code",
   "execution_count": 19,
   "metadata": {
    "colab": {
     "base_uri": "https://localhost:8080/"
    },
    "executionInfo": {
     "elapsed": 118884,
     "status": "ok",
     "timestamp": 1737704751950,
     "user": {
      "displayName": "노준영",
      "userId": "12714711567111669889"
     },
     "user_tz": -540
    },
    "id": "puqougcyMY-L",
    "outputId": "15a77d74-e848-4fdd-9283-ac591faf11ce"
   },
   "outputs": [
    {
     "name": "stderr",
     "output_type": "stream",
     "text": [
      "/usr/local/lib/python3.11/dist-packages/dask/dataframe/__init__.py:42: FutureWarning: \n",
      "Dask dataframe query planning is disabled because dask-expr is not installed.\n",
      "\n",
      "You can install it with `pip install dask[dataframe]` or `conda install dask`.\n",
      "This will raise in a future version.\n",
      "\n",
      "  warnings.warn(msg, FutureWarning)\n",
      "/usr/local/lib/python3.11/dist-packages/sklearn/utils/_tags.py:354: FutureWarning: The LGBMRegressor or classes from which it inherits use `_get_tags` and `_more_tags`. Please define the `__sklearn_tags__` method, or inherit from `sklearn.base.BaseEstimator` and/or other appropriate mixins such as `sklearn.base.TransformerMixin`, `sklearn.base.ClassifierMixin`, `sklearn.base.RegressorMixin`, and `sklearn.base.OutlierMixin`. From scikit-learn 1.7, not defining `__sklearn_tags__` will raise an error.\n",
      "  warnings.warn(\n"
     ]
    },
    {
     "name": "stdout",
     "output_type": "stream",
     "text": [
      "Fitting 5 folds for each of 243 candidates, totalling 1215 fits\n"
     ]
    },
    {
     "name": "stderr",
     "output_type": "stream",
     "text": [
      "/usr/local/lib/python3.11/dist-packages/sklearn/utils/deprecation.py:151: FutureWarning: 'force_all_finite' was renamed to 'ensure_all_finite' in 1.6 and will be removed in 1.8.\n",
      "  warnings.warn(\n"
     ]
    },
    {
     "name": "stdout",
     "output_type": "stream",
     "text": [
      "[LightGBM] [Info] Auto-choosing col-wise multi-threading, the overhead of testing was 0.000093 seconds.\n",
      "You can set `force_col_wise=true` to remove the overhead.\n",
      "[LightGBM] [Info] Total Bins 707\n",
      "[LightGBM] [Info] Number of data points in the train set: 492, number of used features: 6\n",
      "[LightGBM] [Info] Start training from score 2.515955\n",
      "[LightGBM] [Warning] No further splits with positive gain, best gain: -inf\n",
      "[LightGBM] [Warning] No further splits with positive gain, best gain: -inf\n",
      "[LightGBM] [Warning] No further splits with positive gain, best gain: -inf\n",
      "[LightGBM] [Warning] No further splits with positive gain, best gain: -inf\n",
      "[LightGBM] [Warning] No further splits with positive gain, best gain: -inf\n",
      "[LightGBM] [Warning] No further splits with positive gain, best gain: -inf\n",
      "[LightGBM] [Warning] No further splits with positive gain, best gain: -inf\n",
      "[LightGBM] [Warning] No further splits with positive gain, best gain: -inf\n",
      "[LightGBM] [Warning] No further splits with positive gain, best gain: -inf\n",
      "[LightGBM] [Warning] No further splits with positive gain, best gain: -inf\n",
      "[LightGBM] [Warning] No further splits with positive gain, best gain: -inf\n",
      "[LightGBM] [Warning] No further splits with positive gain, best gain: -inf\n",
      "[LightGBM] [Warning] No further splits with positive gain, best gain: -inf\n",
      "[LightGBM] [Warning] No further splits with positive gain, best gain: -inf\n",
      "[LightGBM] [Warning] No further splits with positive gain, best gain: -inf\n",
      "[LightGBM] [Warning] No further splits with positive gain, best gain: -inf\n",
      "[LightGBM] [Warning] No further splits with positive gain, best gain: -inf\n",
      "[LightGBM] [Warning] No further splits with positive gain, best gain: -inf\n",
      "[LightGBM] [Warning] No further splits with positive gain, best gain: -inf\n",
      "[LightGBM] [Warning] No further splits with positive gain, best gain: -inf\n",
      "[LightGBM] [Warning] No further splits with positive gain, best gain: -inf\n",
      "[LightGBM] [Warning] No further splits with positive gain, best gain: -inf\n",
      "[LightGBM] [Warning] No further splits with positive gain, best gain: -inf\n",
      "[LightGBM] [Warning] No further splits with positive gain, best gain: -inf\n",
      "[LightGBM] [Warning] No further splits with positive gain, best gain: -inf\n",
      "[LightGBM] [Warning] No further splits with positive gain, best gain: -inf\n",
      "[LightGBM] [Warning] No further splits with positive gain, best gain: -inf\n",
      "[LightGBM] [Warning] No further splits with positive gain, best gain: -inf\n",
      "[LightGBM] [Warning] No further splits with positive gain, best gain: -inf\n",
      "[LightGBM] [Warning] No further splits with positive gain, best gain: -inf\n",
      "[LightGBM] [Warning] No further splits with positive gain, best gain: -inf\n",
      "[LightGBM] [Warning] No further splits with positive gain, best gain: -inf\n",
      "[LightGBM] [Warning] No further splits with positive gain, best gain: -inf\n",
      "[LightGBM] [Warning] No further splits with positive gain, best gain: -inf\n",
      "[LightGBM] [Warning] No further splits with positive gain, best gain: -inf\n",
      "[LightGBM] [Warning] No further splits with positive gain, best gain: -inf\n",
      "[LightGBM] [Warning] No further splits with positive gain, best gain: -inf\n",
      "[LightGBM] [Warning] No further splits with positive gain, best gain: -inf\n",
      "[LightGBM] [Warning] No further splits with positive gain, best gain: -inf\n",
      "[LightGBM] [Warning] No further splits with positive gain, best gain: -inf\n",
      "[LightGBM] [Warning] No further splits with positive gain, best gain: -inf\n",
      "[LightGBM] [Warning] No further splits with positive gain, best gain: -inf\n",
      "[LightGBM] [Warning] No further splits with positive gain, best gain: -inf\n",
      "[LightGBM] [Warning] No further splits with positive gain, best gain: -inf\n",
      "[LightGBM] [Warning] No further splits with positive gain, best gain: -inf\n",
      "[LightGBM] [Warning] No further splits with positive gain, best gain: -inf\n",
      "[LightGBM] [Warning] No further splits with positive gain, best gain: -inf\n",
      "[LightGBM] [Warning] No further splits with positive gain, best gain: -inf\n",
      "[LightGBM] [Warning] No further splits with positive gain, best gain: -inf\n",
      "[LightGBM] [Warning] No further splits with positive gain, best gain: -inf\n",
      "[LightGBM] [Warning] No further splits with positive gain, best gain: -inf\n",
      "[LightGBM] [Warning] No further splits with positive gain, best gain: -inf\n",
      "[LightGBM] [Warning] No further splits with positive gain, best gain: -inf\n",
      "[LightGBM] [Warning] No further splits with positive gain, best gain: -inf\n",
      "[LightGBM] [Warning] No further splits with positive gain, best gain: -inf\n",
      "[LightGBM] [Warning] No further splits with positive gain, best gain: -inf\n",
      "[LightGBM] [Warning] No further splits with positive gain, best gain: -inf\n",
      "[LightGBM] [Warning] No further splits with positive gain, best gain: -inf\n",
      "[LightGBM] [Warning] No further splits with positive gain, best gain: -inf\n",
      "[LightGBM] [Warning] No further splits with positive gain, best gain: -inf\n",
      "[LightGBM] [Warning] No further splits with positive gain, best gain: -inf\n",
      "[LightGBM] [Warning] No further splits with positive gain, best gain: -inf\n",
      "[LightGBM] [Warning] No further splits with positive gain, best gain: -inf\n",
      "[LightGBM] [Warning] No further splits with positive gain, best gain: -inf\n",
      "[LightGBM] [Warning] No further splits with positive gain, best gain: -inf\n",
      "[LightGBM] [Warning] No further splits with positive gain, best gain: -inf\n",
      "[LightGBM] [Warning] No further splits with positive gain, best gain: -inf\n",
      "[LightGBM] [Warning] No further splits with positive gain, best gain: -inf\n",
      "[LightGBM] [Warning] No further splits with positive gain, best gain: -inf\n",
      "[LightGBM] [Warning] No further splits with positive gain, best gain: -inf\n",
      "[LightGBM] [Warning] No further splits with positive gain, best gain: -inf\n",
      "[LightGBM] [Warning] No further splits with positive gain, best gain: -inf\n",
      "[LightGBM] [Warning] No further splits with positive gain, best gain: -inf\n",
      "[LightGBM] [Warning] No further splits with positive gain, best gain: -inf\n",
      "[LightGBM] [Warning] No further splits with positive gain, best gain: -inf\n",
      "[LightGBM] [Warning] No further splits with positive gain, best gain: -inf\n",
      "[LightGBM] [Warning] No further splits with positive gain, best gain: -inf\n",
      "[LightGBM] [Warning] No further splits with positive gain, best gain: -inf\n",
      "[LightGBM] [Warning] No further splits with positive gain, best gain: -inf\n",
      "[LightGBM] [Warning] No further splits with positive gain, best gain: -inf\n",
      "[LightGBM] [Warning] No further splits with positive gain, best gain: -inf\n",
      "[LightGBM] [Warning] No further splits with positive gain, best gain: -inf\n",
      "[LightGBM] [Warning] No further splits with positive gain, best gain: -inf\n",
      "[LightGBM] [Warning] No further splits with positive gain, best gain: -inf\n",
      "[LightGBM] [Warning] No further splits with positive gain, best gain: -inf\n",
      "[LightGBM] [Warning] No further splits with positive gain, best gain: -inf\n",
      "[LightGBM] [Warning] No further splits with positive gain, best gain: -inf\n",
      "[LightGBM] [Warning] No further splits with positive gain, best gain: -inf\n",
      "[LightGBM] [Warning] No further splits with positive gain, best gain: -inf\n",
      "[LightGBM] [Warning] No further splits with positive gain, best gain: -inf\n",
      "[LightGBM] [Warning] No further splits with positive gain, best gain: -inf\n",
      "[LightGBM] [Warning] No further splits with positive gain, best gain: -inf\n",
      "[LightGBM] [Warning] No further splits with positive gain, best gain: -inf\n",
      "[LightGBM] [Warning] No further splits with positive gain, best gain: -inf\n",
      "[LightGBM] [Warning] No further splits with positive gain, best gain: -inf\n",
      "[LightGBM] [Warning] No further splits with positive gain, best gain: -inf\n",
      "[LightGBM] [Warning] No further splits with positive gain, best gain: -inf\n",
      "[LightGBM] [Warning] No further splits with positive gain, best gain: -inf\n",
      "[LightGBM] [Warning] No further splits with positive gain, best gain: -inf\n",
      "[LightGBM] [Warning] No further splits with positive gain, best gain: -inf\n",
      "[LightGBM] [Warning] No further splits with positive gain, best gain: -inf\n",
      "[LightGBM] [Warning] No further splits with positive gain, best gain: -inf\n",
      "[LightGBM] [Warning] No further splits with positive gain, best gain: -inf\n",
      "[LightGBM] [Warning] No further splits with positive gain, best gain: -inf\n",
      "[LightGBM] [Warning] No further splits with positive gain, best gain: -inf\n",
      "[LightGBM] [Warning] No further splits with positive gain, best gain: -inf\n",
      "[LightGBM] [Warning] No further splits with positive gain, best gain: -inf\n",
      "[LightGBM] [Warning] No further splits with positive gain, best gain: -inf\n",
      "[LightGBM] [Warning] No further splits with positive gain, best gain: -inf\n",
      "[LightGBM] [Warning] No further splits with positive gain, best gain: -inf\n",
      "[LightGBM] [Warning] No further splits with positive gain, best gain: -inf\n",
      "[LightGBM] [Warning] No further splits with positive gain, best gain: -inf\n",
      "[LightGBM] [Warning] No further splits with positive gain, best gain: -inf\n",
      "[LightGBM] [Warning] No further splits with positive gain, best gain: -inf\n",
      "[LightGBM] [Warning] No further splits with positive gain, best gain: -inf\n",
      "[LightGBM] [Warning] No further splits with positive gain, best gain: -inf\n",
      "[LightGBM] [Warning] No further splits with positive gain, best gain: -inf\n",
      "[LightGBM] [Warning] No further splits with positive gain, best gain: -inf\n",
      "[LightGBM] [Warning] No further splits with positive gain, best gain: -inf\n",
      "[LightGBM] [Warning] No further splits with positive gain, best gain: -inf\n",
      "[LightGBM] [Warning] No further splits with positive gain, best gain: -inf\n",
      "[LightGBM] [Warning] No further splits with positive gain, best gain: -inf\n",
      "[LightGBM] [Warning] No further splits with positive gain, best gain: -inf\n",
      "[LightGBM] [Warning] No further splits with positive gain, best gain: -inf\n",
      "[LightGBM] [Warning] No further splits with positive gain, best gain: -inf\n",
      "[LightGBM] [Warning] No further splits with positive gain, best gain: -inf\n",
      "[LightGBM] [Warning] No further splits with positive gain, best gain: -inf\n",
      "[LightGBM] [Warning] No further splits with positive gain, best gain: -inf\n",
      "[LightGBM] [Warning] No further splits with positive gain, best gain: -inf\n",
      "[LightGBM] [Warning] No further splits with positive gain, best gain: -inf\n",
      "[LightGBM] [Warning] No further splits with positive gain, best gain: -inf\n",
      "[LightGBM] [Warning] No further splits with positive gain, best gain: -inf\n",
      "[LightGBM] [Warning] No further splits with positive gain, best gain: -inf\n",
      "[LightGBM] [Warning] No further splits with positive gain, best gain: -inf\n",
      "[LightGBM] [Warning] No further splits with positive gain, best gain: -inf\n",
      "[LightGBM] [Warning] No further splits with positive gain, best gain: -inf\n",
      "[LightGBM] [Warning] No further splits with positive gain, best gain: -inf\n",
      "[LightGBM] [Warning] No further splits with positive gain, best gain: -inf\n",
      "[LightGBM] [Warning] No further splits with positive gain, best gain: -inf\n",
      "[LightGBM] [Warning] No further splits with positive gain, best gain: -inf\n",
      "[LightGBM] [Warning] No further splits with positive gain, best gain: -inf\n",
      "[LightGBM] [Warning] No further splits with positive gain, best gain: -inf\n",
      "[LightGBM] [Warning] No further splits with positive gain, best gain: -inf\n",
      "[LightGBM] [Warning] No further splits with positive gain, best gain: -inf\n",
      "[LightGBM] [Warning] No further splits with positive gain, best gain: -inf\n",
      "[LightGBM] [Warning] No further splits with positive gain, best gain: -inf\n",
      "[LightGBM] [Warning] No further splits with positive gain, best gain: -inf\n",
      "[LightGBM] [Warning] No further splits with positive gain, best gain: -inf\n",
      "[LightGBM] [Warning] No further splits with positive gain, best gain: -inf\n",
      "[LightGBM] [Warning] No further splits with positive gain, best gain: -inf\n",
      "[LightGBM] [Warning] No further splits with positive gain, best gain: -inf\n",
      "[LightGBM] [Warning] No further splits with positive gain, best gain: -inf\n",
      "[LightGBM] [Warning] No further splits with positive gain, best gain: -inf\n",
      "[LightGBM] [Warning] No further splits with positive gain, best gain: -inf\n",
      "[LightGBM] [Warning] No further splits with positive gain, best gain: -inf\n",
      "[LightGBM] [Warning] No further splits with positive gain, best gain: -inf\n",
      "[LightGBM] [Warning] No further splits with positive gain, best gain: -inf\n",
      "[LightGBM] [Warning] No further splits with positive gain, best gain: -inf\n",
      "[LightGBM] [Warning] No further splits with positive gain, best gain: -inf\n",
      "[LightGBM] [Warning] No further splits with positive gain, best gain: -inf\n",
      "[LightGBM] [Warning] No further splits with positive gain, best gain: -inf\n",
      "[LightGBM] [Warning] No further splits with positive gain, best gain: -inf\n",
      "[LightGBM] [Warning] No further splits with positive gain, best gain: -inf\n",
      "[LightGBM] [Warning] No further splits with positive gain, best gain: -inf\n",
      "[LightGBM] [Warning] No further splits with positive gain, best gain: -inf\n",
      "[LightGBM] [Warning] No further splits with positive gain, best gain: -inf\n",
      "[LightGBM] [Warning] No further splits with positive gain, best gain: -inf\n",
      "[LightGBM] [Warning] No further splits with positive gain, best gain: -inf\n",
      "[LightGBM] [Warning] No further splits with positive gain, best gain: -inf\n",
      "[LightGBM] [Warning] No further splits with positive gain, best gain: -inf\n",
      "[LightGBM] [Warning] No further splits with positive gain, best gain: -inf\n",
      "[LightGBM] [Warning] No further splits with positive gain, best gain: -inf\n",
      "[LightGBM] [Warning] No further splits with positive gain, best gain: -inf\n",
      "[LightGBM] [Warning] No further splits with positive gain, best gain: -inf\n",
      "[LightGBM] [Warning] No further splits with positive gain, best gain: -inf\n",
      "[LightGBM] [Warning] No further splits with positive gain, best gain: -inf\n",
      "[LightGBM] [Warning] No further splits with positive gain, best gain: -inf\n",
      "[LightGBM] [Warning] No further splits with positive gain, best gain: -inf\n",
      "[LightGBM] [Warning] No further splits with positive gain, best gain: -inf\n",
      "[LightGBM] [Warning] No further splits with positive gain, best gain: -inf\n",
      "[LightGBM] [Warning] No further splits with positive gain, best gain: -inf\n",
      "[LightGBM] [Warning] No further splits with positive gain, best gain: -inf\n",
      "[LightGBM] [Warning] No further splits with positive gain, best gain: -inf\n",
      "[LightGBM] [Warning] No further splits with positive gain, best gain: -inf\n",
      "[LightGBM] [Warning] No further splits with positive gain, best gain: -inf\n",
      "[LightGBM] [Warning] No further splits with positive gain, best gain: -inf\n",
      "[LightGBM] [Warning] No further splits with positive gain, best gain: -inf\n",
      "[LightGBM] [Warning] No further splits with positive gain, best gain: -inf\n",
      "[LightGBM] [Warning] No further splits with positive gain, best gain: -inf\n",
      "[LightGBM] [Warning] No further splits with positive gain, best gain: -inf\n",
      "[LightGBM] [Warning] No further splits with positive gain, best gain: -inf\n",
      "[LightGBM] [Warning] No further splits with positive gain, best gain: -inf\n",
      "[LightGBM] [Warning] No further splits with positive gain, best gain: -inf\n",
      "[LightGBM] [Warning] No further splits with positive gain, best gain: -inf\n",
      "[LightGBM] [Warning] No further splits with positive gain, best gain: -inf\n",
      "[LightGBM] [Warning] No further splits with positive gain, best gain: -inf\n",
      "[LightGBM] [Warning] No further splits with positive gain, best gain: -inf\n",
      "[LightGBM] [Warning] No further splits with positive gain, best gain: -inf\n",
      "[LightGBM] [Warning] No further splits with positive gain, best gain: -inf\n",
      "[LightGBM] [Warning] No further splits with positive gain, best gain: -inf\n",
      "[LightGBM] [Warning] No further splits with positive gain, best gain: -inf\n",
      "[LightGBM] [Warning] No further splits with positive gain, best gain: -inf\n",
      "[LightGBM] [Warning] No further splits with positive gain, best gain: -inf\n",
      "[LightGBM] [Warning] No further splits with positive gain, best gain: -inf\n",
      "[LightGBM] [Warning] No further splits with positive gain, best gain: -inf\n",
      "[LightGBM] [Warning] No further splits with positive gain, best gain: -inf\n",
      "[LightGBM] [Warning] No further splits with positive gain, best gain: -inf\n",
      "[LightGBM] [Warning] No further splits with positive gain, best gain: -inf\n",
      "[LightGBM] [Warning] No further splits with positive gain, best gain: -inf\n",
      "[LightGBM] [Warning] No further splits with positive gain, best gain: -inf\n",
      "[LightGBM] [Warning] No further splits with positive gain, best gain: -inf\n",
      "[LightGBM] [Warning] No further splits with positive gain, best gain: -inf\n",
      "[LightGBM] [Warning] No further splits with positive gain, best gain: -inf\n",
      "[LightGBM] [Warning] No further splits with positive gain, best gain: -inf\n",
      "[LightGBM] [Warning] No further splits with positive gain, best gain: -inf\n",
      "[LightGBM] [Warning] No further splits with positive gain, best gain: -inf\n",
      "[LightGBM] [Warning] No further splits with positive gain, best gain: -inf\n",
      "[LightGBM] [Warning] No further splits with positive gain, best gain: -inf\n",
      "[LightGBM] [Warning] No further splits with positive gain, best gain: -inf\n",
      "[LightGBM] [Warning] No further splits with positive gain, best gain: -inf\n",
      "[LightGBM] [Warning] No further splits with positive gain, best gain: -inf\n",
      "[LightGBM] [Warning] No further splits with positive gain, best gain: -inf\n",
      "[LightGBM] [Warning] No further splits with positive gain, best gain: -inf\n",
      "[LightGBM] [Warning] No further splits with positive gain, best gain: -inf\n",
      "[LightGBM] [Warning] No further splits with positive gain, best gain: -inf\n",
      "[LightGBM] [Warning] No further splits with positive gain, best gain: -inf\n",
      "[LightGBM] [Warning] No further splits with positive gain, best gain: -inf\n",
      "[LightGBM] [Warning] No further splits with positive gain, best gain: -inf\n",
      "[LightGBM] [Warning] No further splits with positive gain, best gain: -inf\n",
      "[LightGBM] [Warning] No further splits with positive gain, best gain: -inf\n",
      "[LightGBM] [Warning] No further splits with positive gain, best gain: -inf\n",
      "[LightGBM] [Warning] No further splits with positive gain, best gain: -inf\n",
      "[LightGBM] [Warning] No further splits with positive gain, best gain: -inf\n",
      "[LightGBM] [Warning] No further splits with positive gain, best gain: -inf\n",
      "[LightGBM] [Warning] No further splits with positive gain, best gain: -inf\n",
      "[LightGBM] [Warning] No further splits with positive gain, best gain: -inf\n",
      "[LightGBM] [Warning] No further splits with positive gain, best gain: -inf\n",
      "[LightGBM] [Warning] No further splits with positive gain, best gain: -inf\n",
      "[LightGBM] [Warning] No further splits with positive gain, best gain: -inf\n",
      "[LightGBM] [Warning] No further splits with positive gain, best gain: -inf\n",
      "[LightGBM] [Warning] No further splits with positive gain, best gain: -inf\n",
      "[LightGBM] [Warning] No further splits with positive gain, best gain: -inf\n",
      "[LightGBM] [Warning] No further splits with positive gain, best gain: -inf\n",
      "[LightGBM] [Warning] No further splits with positive gain, best gain: -inf\n",
      "[LightGBM] [Warning] No further splits with positive gain, best gain: -inf\n",
      "[LightGBM] [Warning] No further splits with positive gain, best gain: -inf\n",
      "[LightGBM] [Warning] No further splits with positive gain, best gain: -inf\n",
      "[LightGBM] [Warning] No further splits with positive gain, best gain: -inf\n",
      "[LightGBM] [Warning] No further splits with positive gain, best gain: -inf\n",
      "[LightGBM] [Warning] No further splits with positive gain, best gain: -inf\n",
      "[LightGBM] [Warning] No further splits with positive gain, best gain: -inf\n",
      "[LightGBM] [Warning] No further splits with positive gain, best gain: -inf\n",
      "[LightGBM] [Warning] No further splits with positive gain, best gain: -inf\n",
      "[LightGBM] [Warning] No further splits with positive gain, best gain: -inf\n",
      "[LightGBM] [Warning] No further splits with positive gain, best gain: -inf\n",
      "[LightGBM] [Warning] No further splits with positive gain, best gain: -inf\n",
      "[LightGBM] [Warning] No further splits with positive gain, best gain: -inf\n",
      "[LightGBM] [Warning] No further splits with positive gain, best gain: -inf\n",
      "[LightGBM] [Warning] No further splits with positive gain, best gain: -inf\n",
      "[LightGBM] [Warning] No further splits with positive gain, best gain: -inf\n",
      "[LightGBM] [Warning] No further splits with positive gain, best gain: -inf\n",
      "[LightGBM] [Warning] No further splits with positive gain, best gain: -inf\n",
      "[LightGBM] [Warning] No further splits with positive gain, best gain: -inf\n",
      "[LightGBM] [Warning] No further splits with positive gain, best gain: -inf\n",
      "[LightGBM] [Warning] No further splits with positive gain, best gain: -inf\n",
      "[LightGBM] [Warning] No further splits with positive gain, best gain: -inf\n",
      "[LightGBM] [Warning] No further splits with positive gain, best gain: -inf\n",
      "[LightGBM] [Warning] No further splits with positive gain, best gain: -inf\n",
      "[LightGBM] [Warning] No further splits with positive gain, best gain: -inf\n",
      "[LightGBM] [Warning] No further splits with positive gain, best gain: -inf\n",
      "[LightGBM] [Warning] No further splits with positive gain, best gain: -inf\n",
      "[LightGBM] [Warning] No further splits with positive gain, best gain: -inf\n",
      "[LightGBM] [Warning] No further splits with positive gain, best gain: -inf\n",
      "[LightGBM] [Warning] No further splits with positive gain, best gain: -inf\n",
      "[LightGBM] [Warning] No further splits with positive gain, best gain: -inf\n",
      "[LightGBM] [Warning] No further splits with positive gain, best gain: -inf\n",
      "[LightGBM] [Warning] No further splits with positive gain, best gain: -inf\n",
      "[LightGBM] [Warning] No further splits with positive gain, best gain: -inf\n",
      "[LightGBM] [Warning] No further splits with positive gain, best gain: -inf\n",
      "[LightGBM] [Warning] No further splits with positive gain, best gain: -inf\n",
      "[LightGBM] [Warning] No further splits with positive gain, best gain: -inf\n",
      "[LightGBM] [Warning] No further splits with positive gain, best gain: -inf\n",
      "[LightGBM] [Warning] No further splits with positive gain, best gain: -inf\n",
      "[LightGBM] [Warning] No further splits with positive gain, best gain: -inf\n",
      "[LightGBM] [Warning] No further splits with positive gain, best gain: -inf\n",
      "[LightGBM] [Warning] No further splits with positive gain, best gain: -inf\n",
      "[LightGBM] [Warning] No further splits with positive gain, best gain: -inf\n",
      "[LightGBM] [Warning] No further splits with positive gain, best gain: -inf\n",
      "[LightGBM] [Warning] No further splits with positive gain, best gain: -inf\n",
      "[LightGBM] [Warning] No further splits with positive gain, best gain: -inf\n",
      "[LightGBM] [Warning] No further splits with positive gain, best gain: -inf\n",
      "[LightGBM] [Warning] No further splits with positive gain, best gain: -inf\n",
      "[LightGBM] [Warning] No further splits with positive gain, best gain: -inf\n",
      "[LightGBM] [Warning] No further splits with positive gain, best gain: -inf\n",
      "[LightGBM] [Warning] No further splits with positive gain, best gain: -inf\n",
      "[LightGBM] [Warning] No further splits with positive gain, best gain: -inf\n",
      "[LightGBM] [Warning] No further splits with positive gain, best gain: -inf\n",
      "[LightGBM] [Warning] No further splits with positive gain, best gain: -inf\n",
      "[LightGBM] [Warning] No further splits with positive gain, best gain: -inf\n",
      "[LightGBM] [Warning] No further splits with positive gain, best gain: -inf\n",
      "LightGBM Best Parameters: {'learning_rate': 0.1, 'max_depth': 10, 'min_child_samples': 10, 'n_estimators': 300, 'num_leaves': 50}\n",
      "LightGBM Mean Squared Error (MSE): 0.5905542960014876\n",
      "LightGBM Mean Absolute Error (MAE): 0.45757209807160265\n",
      "LightGBM Root Mean Squared Error (RMSE): 0.7684753060453456\n",
      "LightGBM R2 Score: 0.911196950687604\n"
     ]
    },
    {
     "name": "stderr",
     "output_type": "stream",
     "text": [
      "/usr/local/lib/python3.11/dist-packages/sklearn/utils/deprecation.py:151: FutureWarning: 'force_all_finite' was renamed to 'ensure_all_finite' in 1.6 and will be removed in 1.8.\n",
      "  warnings.warn(\n"
     ]
    }
   ],
   "source": [
    "import lightgbm as lgb\n",
    "from sklearn.model_selection import GridSearchCV, KFold\n",
    "from sklearn.metrics import mean_squared_error, mean_absolute_error, r2_score\n",
    "import numpy as np\n",
    "\n",
    "# LightGBM Model\n",
    "LGBM = lgb.LGBMRegressor()\n",
    "\n",
    "# Define the parameter grid for LightGBM hyperparameter tuning\n",
    "lgbm_param_grid = {\n",
    "    'num_leaves': [31, 50, 70],\n",
    "    'learning_rate': [0.01, 0.05, 0.1],\n",
    "    'n_estimators': [100, 200, 300],\n",
    "    'max_depth': [-1, 10, 20],\n",
    "    'min_child_samples': [10, 20, 30]\n",
    "}\n",
    "\n",
    "# Define K-Fold cross-validation\n",
    "kfold = KFold(n_splits=5, shuffle=True, random_state=29)\n",
    "\n",
    "# Perform GridSearchCV for LightGBM\n",
    "grid_search_lgbm = GridSearchCV(estimator=LGBM, param_grid=lgbm_param_grid, cv=kfold, scoring='r2', n_jobs=-1, verbose=2)\n",
    "grid_search_lgbm.fit(X_train, y_train)\n",
    "\n",
    "# Best parameters and model for LightGBM\n",
    "best_lgbm_params = grid_search_lgbm.best_params_\n",
    "best_lgbm_model = grid_search_lgbm.best_estimator_\n",
    "\n",
    "# Predict with the best LightGBM model\n",
    "y_pred_lgbm = best_lgbm_model.predict(X_test)\n",
    "\n",
    "# Evaluate the LightGBM model\n",
    "LGBM_mse = mean_squared_error(y_test, y_pred_lgbm)\n",
    "LGBM_mae = mean_absolute_error(y_test, y_pred_lgbm)\n",
    "LGBM_rmse = np.sqrt(LGBM_mse)\n",
    "LGBM_r2 = r2_score(y_test, y_pred_lgbm)\n",
    "\n",
    "# Print LightGBM results\n",
    "print(f\"LightGBM Best Parameters: {best_lgbm_params}\")\n",
    "print(f\"LightGBM Mean Squared Error (MSE): {LGBM_mse}\")\n",
    "print(f\"LightGBM Mean Absolute Error (MAE): {LGBM_mae}\")\n",
    "print(f\"LightGBM Root Mean Squared Error (RMSE): {LGBM_rmse}\")\n",
    "print(f\"LightGBM R2 Score: {LGBM_r2}\")\n"
   ]
  },
  {
   "cell_type": "code",
   "execution_count": null,
   "metadata": {
    "colab": {
     "base_uri": "https://localhost:8080/"
    },
    "executionInfo": {
     "elapsed": 4117,
     "status": "ok",
     "timestamp": 1737703251951,
     "user": {
      "displayName": "노준영",
      "userId": "12714711567111669889"
     },
     "user_tz": -540
    },
    "id": "x4zLYqYCLzGk",
    "outputId": "f2dd9d7e-6373-4b69-c881-d7f4226dc356"
   },
   "outputs": [
    {
     "name": "stdout",
     "output_type": "stream",
     "text": [
      "Requirement already satisfied: xgboost in /usr/local/lib/python3.11/dist-packages (2.1.3)\n",
      "Requirement already satisfied: numpy in /usr/local/lib/python3.11/dist-packages (from xgboost) (1.26.4)\n",
      "Requirement already satisfied: nvidia-nccl-cu12 in /usr/local/lib/python3.11/dist-packages (from xgboost) (2.21.5)\n",
      "Requirement already satisfied: scipy in /usr/local/lib/python3.11/dist-packages (from xgboost) (1.13.1)\n"
     ]
    }
   ],
   "source": [
    "pip install --upgrade xgboost\n"
   ]
  },
  {
   "cell_type": "code",
   "execution_count": 49,
   "metadata": {
    "colab": {
     "base_uri": "https://localhost:8080/"
    },
    "executionInfo": {
     "elapsed": 2890,
     "status": "ok",
     "timestamp": 1737706567472,
     "user": {
      "displayName": "노준영",
      "userId": "12714711567111669889"
     },
     "user_tz": -540
    },
    "id": "sbFjisQeQ-0n",
    "outputId": "9f1b3e1d-5a9c-470e-b0b1-e31390f27db4"
   },
   "outputs": [
    {
     "name": "stdout",
     "output_type": "stream",
     "text": [
      "XGBoost Mean Squared Error (MSE): 0.19005237344687423\n",
      "XGBoost Mean Absolute Error (MAE): 0.3177558988478125\n",
      "XGBoost Root Mean Squared Error (RMSE): 0.43594996667837266\n",
      "XGBoost R2 Score: 0.9714213741134174\n"
     ]
    }
   ],
   "source": [
    "import xgboost as xgb\n",
    "from sklearn.metrics import mean_squared_error, mean_absolute_error, r2_score\n",
    "from sklearn.model_selection import GridSearchCV\n",
    "import numpy as np\n",
    "import pandas as pd\n",
    "import matplotlib.pyplot as plt\n",
    "\n",
    "# Define XGBoost DMatrix\n",
    "dtrain = xgb.DMatrix(X_train, label=y_train)\n",
    "dtest = xgb.DMatrix(X_test, label=y_test)\n",
    "\n",
    "# Initial Parameter grid\n",
    "params = {\n",
    "    'objective': 'reg:squarederror',\n",
    "    'max_depth': 10,\n",
    "    'learning_rate': 0.01,  # Lower learning rate\n",
    "    'subsample': 0.8,\n",
    "    'colsample_bytree': 0.8,\n",
    "    'gamma': 1,\n",
    "    'min_child_weight': 3,\n",
    "    'alpha': 0.1,\n",
    "    'lambda': 1,\n",
    "    'seed': 29\n",
    "}\n",
    "\n",
    "# Perform Cross-validation\n",
    "cv_results = xgb.cv(\n",
    "    params=params,\n",
    "    dtrain=dtrain,\n",
    "    num_boost_round=500,\n",
    "    nfold=5,\n",
    "    metrics=\"rmse\",\n",
    "    early_stopping_rounds=20,\n",
    "    as_pandas=True,\n",
    "    seed=29\n",
    ")\n",
    "\n",
    "# Train the model with the best number of boosting rounds\n",
    "best_num_boost_round = cv_results['test-rmse-mean'].idxmin()\n",
    "final_model = xgb.train(params, dtrain, num_boost_round=best_num_boost_round)\n",
    "\n",
    "# Predict and evaluate\n",
    "y_pred_xgb = final_model.predict(dtest)\n",
    "xgb_mse = mean_squared_error(y_test, y_pred_xgb)\n",
    "xgb_mae = mean_absolute_error(y_test, y_pred_xgb)\n",
    "xgb_rmse = np.sqrt(xgb_mse)\n",
    "xgb_r2 = r2_score(y_test, y_pred_xgb)\n",
    "\n",
    "# Print evaluation results\n",
    "print(f\"XGBoost Mean Squared Error (MSE): {xgb_mse}\")\n",
    "print(f\"XGBoost Mean Absolute Error (MAE): {xgb_mae}\")\n",
    "print(f\"XGBoost Root Mean Squared Error (RMSE): {xgb_rmse}\")\n",
    "print(f\"XGBoost R2 Score: {xgb_r2}\")\n",
    "\n"
   ]
  },
  {
   "cell_type": "code",
   "execution_count": 52,
   "metadata": {
    "colab": {
     "base_uri": "https://localhost:8080/"
    },
    "executionInfo": {
     "elapsed": 240,
     "status": "ok",
     "timestamp": 1737706607253,
     "user": {
      "displayName": "노준영",
      "userId": "12714711567111669889"
     },
     "user_tz": -540
    },
    "id": "uEX93EGsjV49",
    "outputId": "1d47ae31-0cff-4cb0-e505-8c645efd919a"
   },
   "outputs": [
    {
     "name": "stdout",
     "output_type": "stream",
     "text": [
      "모델이 'xgb_model.joblib'에 저장되었습니다.\n",
      "저장된 모델이 로드되었습니다.\n"
     ]
    }
   ],
   "source": [
    "from joblib import dump, load\n",
    "\n",
    "# 모델 저장\n",
    "dump(final_model, 'xgb_model.joblib')\n",
    "print(\"모델이 'xgb_model.joblib'에 저장되었습니다.\")\n",
    "\n",
    "# 모델 로드\n",
    "xgb_loaded = load('xgb_model.joblib')\n",
    "print(\"저장된 모델이 로드되었습니다.\")\n"
   ]
  },
  {
   "cell_type": "code",
   "execution_count": 16,
   "metadata": {
    "colab": {
     "base_uri": "https://localhost:8080/"
    },
    "collapsed": true,
    "executionInfo": {
     "elapsed": 4374,
     "status": "ok",
     "timestamp": 1737704169759,
     "user": {
      "displayName": "노준영",
      "userId": "12714711567111669889"
     },
     "user_tz": -540
    },
    "id": "0eWD-_r5VCOr",
    "outputId": "561c6885-c7bb-44b7-e41c-abd8190980a2"
   },
   "outputs": [
    {
     "name": "stdout",
     "output_type": "stream",
     "text": [
      "Fitting 5 folds for each of 2 candidates, totalling 10 fits\n",
      "Linear Regression Best Parameters: {'fit_intercept': True}\n",
      "Linear Regression Mean Squared Error (MSE): 0.6104039914674821\n",
      "Linear Regression Mean Absolute Error (MAE): 0.5516500331268138\n",
      "Linear Regression Root Mean Squared Error (RMSE): 0.781283553818639\n",
      "Linear Regression R2 Score: 0.9082121049295803\n"
     ]
    }
   ],
   "source": [
    "from sklearn.linear_model import LinearRegression\n",
    "from sklearn.model_selection import GridSearchCV, KFold\n",
    "from sklearn.metrics import mean_squared_error, mean_absolute_error, r2_score\n",
    "from sklearn.preprocessing import StandardScaler\n",
    "import joblib\n",
    "\n",
    "# Preprocess: Standardize the data\n",
    "scaler = StandardScaler()\n",
    "X_train_scaled = scaler.fit_transform(X_train)\n",
    "X_test_scaled = scaler.transform(X_test)\n",
    "\n",
    "# Linear Regression Model\n",
    "LR_model = LinearRegression()\n",
    "\n",
    "# Define the parameter grid for Linear Regression hyperparameter tuning\n",
    "lr_param_grid = {\n",
    "    'fit_intercept': [True, False]\n",
    "}\n",
    "\n",
    "# Perform GridSearchCV for Linear Regression\n",
    "kfold = KFold(n_splits=5, shuffle=True, random_state=29)\n",
    "grid_search_lr = GridSearchCV(estimator=LR_model, param_grid=lr_param_grid, cv=kfold, scoring='r2', n_jobs=-1, verbose=2)\n",
    "grid_search_lr.fit(X_train_scaled, y_train)\n",
    "\n",
    "# Best parameters and model for Linear Regression\n",
    "best_lr_params = grid_search_lr.best_params_\n",
    "best_lr_model = grid_search_lr.best_estimator_\n",
    "\n",
    "# Save the Linear Regression model\n",
    "joblib.dump(best_lr_model, 'best_lr_model.pkl')\n",
    "\n",
    "# Predict with the best Linear Regression model\n",
    "y_pred_lr = best_lr_model.predict(X_test_scaled)\n",
    "\n",
    "# Evaluate the Linear Regression model\n",
    "LR_mse = mean_squared_error(y_test, y_pred_lr)\n",
    "LR_mae = mean_absolute_error(y_test, y_pred_lr)\n",
    "LR_rmse = np.sqrt(LR_mse)\n",
    "LR_r2 = r2_score(y_test, y_pred_lr)\n",
    "\n",
    "# Print Linear Regression results\n",
    "print(f\"Linear Regression Best Parameters: {best_lr_params}\")\n",
    "print(f\"Linear Regression Mean Squared Error (MSE): {LR_mse}\")\n",
    "print(f\"Linear Regression Mean Absolute Error (MAE): {LR_mae}\")\n",
    "print(f\"Linear Regression Root Mean Squared Error (RMSE): {LR_rmse}\")\n",
    "print(f\"Linear Regression R2 Score: {LR_r2}\")\n"
   ]
  },
  {
   "cell_type": "code",
   "execution_count": 65,
   "metadata": {
    "colab": {
     "base_uri": "https://localhost:8080/"
    },
    "collapsed": true,
    "executionInfo": {
     "elapsed": 118382,
     "status": "ok",
     "timestamp": 1737708762305,
     "user": {
      "displayName": "노준영",
      "userId": "12714711567111669889"
     },
     "user_tz": -540
    },
    "id": "m56vPW0SSU6w",
    "outputId": "97045ba7-c9da-4e18-bac5-40c601b2d35a"
   },
   "outputs": [
    {
     "name": "stdout",
     "output_type": "stream",
     "text": [
      "Epoch 1/50\n",
      "\u001b[1m492/492\u001b[0m \u001b[32m━━━━━━━━━━━━━━━━━━━━\u001b[0m\u001b[37m\u001b[0m \u001b[1m5s\u001b[0m 3ms/step - loss: 1.6499 - mae: 1.6499 - mse: 5.5654 - val_loss: 0.8426 - val_mae: 0.8426 - val_mse: 1.6474\n",
      "Epoch 2/50\n",
      "\u001b[1m492/492\u001b[0m \u001b[32m━━━━━━━━━━━━━━━━━━━━\u001b[0m\u001b[37m\u001b[0m \u001b[1m2s\u001b[0m 2ms/step - loss: 0.9778 - mae: 0.9778 - mse: 2.5612 - val_loss: 0.5206 - val_mae: 0.5206 - val_mse: 0.5581\n",
      "Epoch 3/50\n",
      "\u001b[1m492/492\u001b[0m \u001b[32m━━━━━━━━━━━━━━━━━━━━\u001b[0m\u001b[37m\u001b[0m \u001b[1m1s\u001b[0m 2ms/step - loss: 0.8077 - mae: 0.8077 - mse: 2.6218 - val_loss: 0.7317 - val_mae: 0.7317 - val_mse: 1.5568\n",
      "Epoch 4/50\n",
      "\u001b[1m492/492\u001b[0m \u001b[32m━━━━━━━━━━━━━━━━━━━━\u001b[0m\u001b[37m\u001b[0m \u001b[1m2s\u001b[0m 3ms/step - loss: 0.7476 - mae: 0.7476 - mse: 1.5457 - val_loss: 0.5249 - val_mae: 0.5249 - val_mse: 0.6717\n",
      "Epoch 5/50\n",
      "\u001b[1m492/492\u001b[0m \u001b[32m━━━━━━━━━━━━━━━━━━━━\u001b[0m\u001b[37m\u001b[0m \u001b[1m2s\u001b[0m 2ms/step - loss: 0.7859 - mae: 0.7859 - mse: 1.6098 - val_loss: 0.4832 - val_mae: 0.4832 - val_mse: 0.4244\n",
      "Epoch 6/50\n",
      "\u001b[1m492/492\u001b[0m \u001b[32m━━━━━━━━━━━━━━━━━━━━\u001b[0m\u001b[37m\u001b[0m \u001b[1m1s\u001b[0m 2ms/step - loss: 0.6740 - mae: 0.6740 - mse: 1.2827 - val_loss: 0.7082 - val_mae: 0.7082 - val_mse: 1.7147\n",
      "Epoch 7/50\n",
      "\u001b[1m492/492\u001b[0m \u001b[32m━━━━━━━━━━━━━━━━━━━━\u001b[0m\u001b[37m\u001b[0m \u001b[1m1s\u001b[0m 2ms/step - loss: 0.8421 - mae: 0.8421 - mse: 2.4093 - val_loss: 0.4772 - val_mae: 0.4772 - val_mse: 0.4997\n",
      "Epoch 8/50\n",
      "\u001b[1m492/492\u001b[0m \u001b[32m━━━━━━━━━━━━━━━━━━━━\u001b[0m\u001b[37m\u001b[0m \u001b[1m1s\u001b[0m 2ms/step - loss: 0.7058 - mae: 0.7058 - mse: 1.8380 - val_loss: 0.4663 - val_mae: 0.4663 - val_mse: 0.4059\n",
      "Epoch 9/50\n",
      "\u001b[1m492/492\u001b[0m \u001b[32m━━━━━━━━━━━━━━━━━━━━\u001b[0m\u001b[37m\u001b[0m \u001b[1m1s\u001b[0m 2ms/step - loss: 0.7401 - mae: 0.7401 - mse: 2.4430 - val_loss: 0.6878 - val_mae: 0.6878 - val_mse: 1.4365\n",
      "Epoch 10/50\n",
      "\u001b[1m492/492\u001b[0m \u001b[32m━━━━━━━━━━━━━━━━━━━━\u001b[0m\u001b[37m\u001b[0m \u001b[1m1s\u001b[0m 2ms/step - loss: 0.6811 - mae: 0.6811 - mse: 1.2755 - val_loss: 0.4415 - val_mae: 0.4415 - val_mse: 0.3737\n",
      "Epoch 11/50\n",
      "\u001b[1m492/492\u001b[0m \u001b[32m━━━━━━━━━━━━━━━━━━━━\u001b[0m\u001b[37m\u001b[0m \u001b[1m1s\u001b[0m 2ms/step - loss: 0.6677 - mae: 0.6677 - mse: 1.3084 - val_loss: 0.5539 - val_mae: 0.5539 - val_mse: 0.7213\n",
      "Epoch 12/50\n",
      "\u001b[1m492/492\u001b[0m \u001b[32m━━━━━━━━━━━━━━━━━━━━\u001b[0m\u001b[37m\u001b[0m \u001b[1m1s\u001b[0m 2ms/step - loss: 0.6132 - mae: 0.6132 - mse: 1.0055 - val_loss: 0.5963 - val_mae: 0.5963 - val_mse: 0.9479\n",
      "Epoch 13/50\n",
      "\u001b[1m492/492\u001b[0m \u001b[32m━━━━━━━━━━━━━━━━━━━━\u001b[0m\u001b[37m\u001b[0m \u001b[1m1s\u001b[0m 2ms/step - loss: 0.6294 - mae: 0.6294 - mse: 1.1099 - val_loss: 0.5850 - val_mae: 0.5850 - val_mse: 0.8291\n",
      "Epoch 14/50\n",
      "\u001b[1m492/492\u001b[0m \u001b[32m━━━━━━━━━━━━━━━━━━━━\u001b[0m\u001b[37m\u001b[0m \u001b[1m1s\u001b[0m 3ms/step - loss: 0.6108 - mae: 0.6108 - mse: 1.1298 - val_loss: 0.5243 - val_mae: 0.5243 - val_mse: 0.4794\n",
      "Epoch 14: early stopping\n",
      "\u001b[1m4/4\u001b[0m \u001b[32m━━━━━━━━━━━━━━━━━━━━\u001b[0m\u001b[37m\u001b[0m \u001b[1m0s\u001b[0m 17ms/step\n",
      "Epoch 1/50\n",
      "\u001b[1m492/492\u001b[0m \u001b[32m━━━━━━━━━━━━━━━━━━━━\u001b[0m\u001b[37m\u001b[0m \u001b[1m4s\u001b[0m 2ms/step - loss: 1.7156 - mae: 1.7156 - mse: 8.2003 - val_loss: 0.6024 - val_mae: 0.6024 - val_mse: 1.3766\n",
      "Epoch 2/50\n",
      "\u001b[1m492/492\u001b[0m \u001b[32m━━━━━━━━━━━━━━━━━━━━\u001b[0m\u001b[37m\u001b[0m \u001b[1m1s\u001b[0m 2ms/step - loss: 0.8532 - mae: 0.8532 - mse: 1.9117 - val_loss: 0.5830 - val_mae: 0.5830 - val_mse: 1.7777\n",
      "Epoch 3/50\n",
      "\u001b[1m492/492\u001b[0m \u001b[32m━━━━━━━━━━━━━━━━━━━━\u001b[0m\u001b[37m\u001b[0m \u001b[1m1s\u001b[0m 2ms/step - loss: 0.8811 - mae: 0.8811 - mse: 2.8221 - val_loss: 0.6538 - val_mae: 0.6538 - val_mse: 1.6410\n",
      "Epoch 4/50\n",
      "\u001b[1m492/492\u001b[0m \u001b[32m━━━━━━━━━━━━━━━━━━━━\u001b[0m\u001b[37m\u001b[0m \u001b[1m1s\u001b[0m 2ms/step - loss: 0.7779 - mae: 0.7779 - mse: 1.5991 - val_loss: 0.7943 - val_mae: 0.7943 - val_mse: 2.7496\n",
      "Epoch 5/50\n",
      "\u001b[1m492/492\u001b[0m \u001b[32m━━━━━━━━━━━━━━━━━━━━\u001b[0m\u001b[37m\u001b[0m \u001b[1m1s\u001b[0m 2ms/step - loss: 0.7360 - mae: 0.7360 - mse: 1.8508 - val_loss: 0.5932 - val_mae: 0.5932 - val_mse: 1.9357\n",
      "Epoch 6/50\n",
      "\u001b[1m492/492\u001b[0m \u001b[32m━━━━━━━━━━━━━━━━━━━━\u001b[0m\u001b[37m\u001b[0m \u001b[1m1s\u001b[0m 2ms/step - loss: 0.6898 - mae: 0.6898 - mse: 1.7735 - val_loss: 0.4941 - val_mae: 0.4941 - val_mse: 0.9803\n",
      "Epoch 7/50\n",
      "\u001b[1m492/492\u001b[0m \u001b[32m━━━━━━━━━━━━━━━━━━━━\u001b[0m\u001b[37m\u001b[0m \u001b[1m2s\u001b[0m 3ms/step - loss: 0.6712 - mae: 0.6712 - mse: 1.3997 - val_loss: 0.5506 - val_mae: 0.5506 - val_mse: 1.5304\n",
      "Epoch 8/50\n",
      "\u001b[1m492/492\u001b[0m \u001b[32m━━━━━━━━━━━━━━━━━━━━\u001b[0m\u001b[37m\u001b[0m \u001b[1m2s\u001b[0m 3ms/step - loss: 0.6845 - mae: 0.6845 - mse: 1.6971 - val_loss: 0.5197 - val_mae: 0.5197 - val_mse: 1.1029\n",
      "Epoch 9/50\n",
      "\u001b[1m492/492\u001b[0m \u001b[32m━━━━━━━━━━━━━━━━━━━━\u001b[0m\u001b[37m\u001b[0m \u001b[1m2s\u001b[0m 2ms/step - loss: 0.6279 - mae: 0.6279 - mse: 1.2001 - val_loss: 0.4952 - val_mae: 0.4952 - val_mse: 0.9447\n",
      "Epoch 10/50\n",
      "\u001b[1m492/492\u001b[0m \u001b[32m━━━━━━━━━━━━━━━━━━━━\u001b[0m\u001b[37m\u001b[0m \u001b[1m1s\u001b[0m 2ms/step - loss: 0.7763 - mae: 0.7763 - mse: 2.4352 - val_loss: 0.5420 - val_mae: 0.5420 - val_mse: 1.0960\n",
      "Epoch 10: early stopping\n",
      "\u001b[1m4/4\u001b[0m \u001b[32m━━━━━━━━━━━━━━━━━━━━\u001b[0m\u001b[37m\u001b[0m \u001b[1m0s\u001b[0m 19ms/step\n",
      "Epoch 1/50\n",
      "\u001b[1m492/492\u001b[0m \u001b[32m━━━━━━━━━━━━━━━━━━━━\u001b[0m\u001b[37m\u001b[0m \u001b[1m3s\u001b[0m 2ms/step - loss: 1.6354 - mae: 1.6354 - mse: 6.0003 - val_loss: 0.8370 - val_mae: 0.8370 - val_mse: 2.1356\n",
      "Epoch 2/50\n",
      "\u001b[1m492/492\u001b[0m \u001b[32m━━━━━━━━━━━━━━━━━━━━\u001b[0m\u001b[37m\u001b[0m \u001b[1m1s\u001b[0m 2ms/step - loss: 0.8107 - mae: 0.8107 - mse: 1.6518 - val_loss: 0.6827 - val_mae: 0.6827 - val_mse: 1.7865\n",
      "Epoch 3/50\n",
      "\u001b[1m492/492\u001b[0m \u001b[32m━━━━━━━━━━━━━━━━━━━━\u001b[0m\u001b[37m\u001b[0m \u001b[1m1s\u001b[0m 2ms/step - loss: 0.6732 - mae: 0.6732 - mse: 1.0833 - val_loss: 0.6772 - val_mae: 0.6772 - val_mse: 3.0541\n",
      "Epoch 4/50\n",
      "\u001b[1m492/492\u001b[0m \u001b[32m━━━━━━━━━━━━━━━━━━━━\u001b[0m\u001b[37m\u001b[0m \u001b[1m1s\u001b[0m 2ms/step - loss: 0.6903 - mae: 0.6903 - mse: 1.5545 - val_loss: 0.6810 - val_mae: 0.6810 - val_mse: 1.8138\n",
      "Epoch 5/50\n",
      "\u001b[1m492/492\u001b[0m \u001b[32m━━━━━━━━━━━━━━━━━━━━\u001b[0m\u001b[37m\u001b[0m \u001b[1m2s\u001b[0m 3ms/step - loss: 0.6731 - mae: 0.6731 - mse: 1.1248 - val_loss: 0.7042 - val_mae: 0.7042 - val_mse: 3.2488\n",
      "Epoch 6/50\n",
      "\u001b[1m492/492\u001b[0m \u001b[32m━━━━━━━━━━━━━━━━━━━━\u001b[0m\u001b[37m\u001b[0m \u001b[1m2s\u001b[0m 2ms/step - loss: 0.7344 - mae: 0.7344 - mse: 3.1335 - val_loss: 0.6823 - val_mae: 0.6823 - val_mse: 1.4498\n",
      "Epoch 7/50\n",
      "\u001b[1m492/492\u001b[0m \u001b[32m━━━━━━━━━━━━━━━━━━━━\u001b[0m\u001b[37m\u001b[0m \u001b[1m1s\u001b[0m 2ms/step - loss: 0.6425 - mae: 0.6425 - mse: 1.6105 - val_loss: 0.6342 - val_mae: 0.6342 - val_mse: 1.2536\n",
      "Epoch 8/50\n",
      "\u001b[1m492/492\u001b[0m \u001b[32m━━━━━━━━━━━━━━━━━━━━\u001b[0m\u001b[37m\u001b[0m \u001b[1m1s\u001b[0m 2ms/step - loss: 0.5981 - mae: 0.5981 - mse: 0.9940 - val_loss: 0.6296 - val_mae: 0.6296 - val_mse: 2.4804\n",
      "Epoch 9/50\n",
      "\u001b[1m492/492\u001b[0m \u001b[32m━━━━━━━━━━━━━━━━━━━━\u001b[0m\u001b[37m\u001b[0m \u001b[1m1s\u001b[0m 2ms/step - loss: 0.6266 - mae: 0.6266 - mse: 1.0765 - val_loss: 0.6186 - val_mae: 0.6186 - val_mse: 2.5478\n",
      "Epoch 10/50\n",
      "\u001b[1m492/492\u001b[0m \u001b[32m━━━━━━━━━━━━━━━━━━━━\u001b[0m\u001b[37m\u001b[0m \u001b[1m1s\u001b[0m 2ms/step - loss: 0.7288 - mae: 0.7288 - mse: 1.7726 - val_loss: 0.6508 - val_mae: 0.6508 - val_mse: 3.0499\n",
      "Epoch 11/50\n",
      "\u001b[1m492/492\u001b[0m \u001b[32m━━━━━━━━━━━━━━━━━━━━\u001b[0m\u001b[37m\u001b[0m \u001b[1m1s\u001b[0m 2ms/step - loss: 0.5991 - mae: 0.5991 - mse: 0.8430 - val_loss: 0.6983 - val_mae: 0.6983 - val_mse: 1.4248\n",
      "Epoch 12/50\n",
      "\u001b[1m492/492\u001b[0m \u001b[32m━━━━━━━━━━━━━━━━━━━━\u001b[0m\u001b[37m\u001b[0m \u001b[1m1s\u001b[0m 2ms/step - loss: 0.6753 - mae: 0.6753 - mse: 1.3547 - val_loss: 0.5933 - val_mae: 0.5933 - val_mse: 1.7001\n",
      "Epoch 13/50\n",
      "\u001b[1m492/492\u001b[0m \u001b[32m━━━━━━━━━━━━━━━━━━━━\u001b[0m\u001b[37m\u001b[0m \u001b[1m1s\u001b[0m 2ms/step - loss: 0.5745 - mae: 0.5745 - mse: 0.9470 - val_loss: 0.5944 - val_mae: 0.5944 - val_mse: 1.8494\n",
      "Epoch 14/50\n",
      "\u001b[1m492/492\u001b[0m \u001b[32m━━━━━━━━━━━━━━━━━━━━\u001b[0m\u001b[37m\u001b[0m \u001b[1m1s\u001b[0m 2ms/step - loss: 0.6207 - mae: 0.6207 - mse: 1.2905 - val_loss: 0.6117 - val_mae: 0.6117 - val_mse: 1.9292\n",
      "Epoch 15/50\n",
      "\u001b[1m492/492\u001b[0m \u001b[32m━━━━━━━━━━━━━━━━━━━━\u001b[0m\u001b[37m\u001b[0m \u001b[1m2s\u001b[0m 3ms/step - loss: 0.6051 - mae: 0.6051 - mse: 1.1214 - val_loss: 0.5885 - val_mae: 0.5885 - val_mse: 1.8690\n",
      "Epoch 16/50\n",
      "\u001b[1m492/492\u001b[0m \u001b[32m━━━━━━━━━━━━━━━━━━━━\u001b[0m\u001b[37m\u001b[0m \u001b[1m2s\u001b[0m 2ms/step - loss: 0.6017 - mae: 0.6017 - mse: 0.9099 - val_loss: 0.6297 - val_mae: 0.6297 - val_mse: 2.4509\n",
      "Epoch 17/50\n",
      "\u001b[1m492/492\u001b[0m \u001b[32m━━━━━━━━━━━━━━━━━━━━\u001b[0m\u001b[37m\u001b[0m \u001b[1m1s\u001b[0m 2ms/step - loss: 0.6069 - mae: 0.6069 - mse: 0.9230 - val_loss: 0.6029 - val_mae: 0.6029 - val_mse: 2.3225\n",
      "Epoch 18/50\n",
      "\u001b[1m492/492\u001b[0m \u001b[32m━━━━━━━━━━━━━━━━━━━━\u001b[0m\u001b[37m\u001b[0m \u001b[1m1s\u001b[0m 2ms/step - loss: 0.6025 - mae: 0.6025 - mse: 1.5263 - val_loss: 0.5720 - val_mae: 0.5720 - val_mse: 1.1371\n",
      "Epoch 19/50\n",
      "\u001b[1m492/492\u001b[0m \u001b[32m━━━━━━━━━━━━━━━━━━━━\u001b[0m\u001b[37m\u001b[0m \u001b[1m1s\u001b[0m 2ms/step - loss: 0.5681 - mae: 0.5681 - mse: 0.8572 - val_loss: 0.5567 - val_mae: 0.5567 - val_mse: 1.3919\n",
      "Epoch 20/50\n",
      "\u001b[1m492/492\u001b[0m \u001b[32m━━━━━━━━━━━━━━━━━━━━\u001b[0m\u001b[37m\u001b[0m \u001b[1m1s\u001b[0m 2ms/step - loss: 0.5745 - mae: 0.5745 - mse: 1.5762 - val_loss: 0.5768 - val_mae: 0.5768 - val_mse: 1.7985\n",
      "Epoch 21/50\n",
      "\u001b[1m492/492\u001b[0m \u001b[32m━━━━━━━━━━━━━━━━━━━━\u001b[0m\u001b[37m\u001b[0m \u001b[1m1s\u001b[0m 2ms/step - loss: 0.5914 - mae: 0.5914 - mse: 1.1729 - val_loss: 0.5966 - val_mae: 0.5966 - val_mse: 1.5914\n",
      "Epoch 22/50\n",
      "\u001b[1m492/492\u001b[0m \u001b[32m━━━━━━━━━━━━━━━━━━━━\u001b[0m\u001b[37m\u001b[0m \u001b[1m1s\u001b[0m 2ms/step - loss: 0.5513 - mae: 0.5513 - mse: 0.8872 - val_loss: 0.5756 - val_mae: 0.5756 - val_mse: 1.8537\n",
      "Epoch 23/50\n",
      "\u001b[1m492/492\u001b[0m \u001b[32m━━━━━━━━━━━━━━━━━━━━\u001b[0m\u001b[37m\u001b[0m \u001b[1m1s\u001b[0m 2ms/step - loss: 0.5934 - mae: 0.5934 - mse: 1.0598 - val_loss: 0.6016 - val_mae: 0.6016 - val_mse: 2.2224\n",
      "Epoch 23: early stopping\n",
      "\u001b[1m4/4\u001b[0m \u001b[32m━━━━━━━━━━━━━━━━━━━━\u001b[0m\u001b[37m\u001b[0m \u001b[1m0s\u001b[0m 18ms/step\n",
      "Epoch 1/50\n",
      "\u001b[1m492/492\u001b[0m \u001b[32m━━━━━━━━━━━━━━━━━━━━\u001b[0m\u001b[37m\u001b[0m \u001b[1m5s\u001b[0m 4ms/step - loss: 1.2912 - mae: 1.2912 - mse: 2.9677 - val_loss: 0.9873 - val_mae: 0.9873 - val_mse: 6.0131\n",
      "Epoch 2/50\n",
      "\u001b[1m492/492\u001b[0m \u001b[32m━━━━━━━━━━━━━━━━━━━━\u001b[0m\u001b[37m\u001b[0m \u001b[1m2s\u001b[0m 2ms/step - loss: 1.0033 - mae: 1.0033 - mse: 2.4156 - val_loss: 0.6630 - val_mae: 0.6630 - val_mse: 1.2313\n",
      "Epoch 3/50\n",
      "\u001b[1m492/492\u001b[0m \u001b[32m━━━━━━━━━━━━━━━━━━━━\u001b[0m\u001b[37m\u001b[0m \u001b[1m1s\u001b[0m 2ms/step - loss: 0.7732 - mae: 0.7732 - mse: 1.6314 - val_loss: 0.5316 - val_mae: 0.5316 - val_mse: 0.7625\n",
      "Epoch 4/50\n",
      "\u001b[1m492/492\u001b[0m \u001b[32m━━━━━━━━━━━━━━━━━━━━\u001b[0m\u001b[37m\u001b[0m \u001b[1m1s\u001b[0m 2ms/step - loss: 0.7702 - mae: 0.7702 - mse: 1.5199 - val_loss: 0.5264 - val_mae: 0.5264 - val_mse: 1.8092\n",
      "Epoch 5/50\n",
      "\u001b[1m492/492\u001b[0m \u001b[32m━━━━━━━━━━━━━━━━━━━━\u001b[0m\u001b[37m\u001b[0m \u001b[1m1s\u001b[0m 2ms/step - loss: 0.6659 - mae: 0.6659 - mse: 1.3889 - val_loss: 0.5247 - val_mae: 0.5247 - val_mse: 0.6333\n",
      "Epoch 6/50\n",
      "\u001b[1m492/492\u001b[0m \u001b[32m━━━━━━━━━━━━━━━━━━━━\u001b[0m\u001b[37m\u001b[0m \u001b[1m1s\u001b[0m 2ms/step - loss: 0.7462 - mae: 0.7462 - mse: 1.3589 - val_loss: 0.6023 - val_mae: 0.6023 - val_mse: 0.8995\n",
      "Epoch 7/50\n",
      "\u001b[1m492/492\u001b[0m \u001b[32m━━━━━━━━━━━━━━━━━━━━\u001b[0m\u001b[37m\u001b[0m \u001b[1m1s\u001b[0m 2ms/step - loss: 0.8144 - mae: 0.8144 - mse: 3.8586 - val_loss: 0.4662 - val_mae: 0.4662 - val_mse: 0.5953\n",
      "Epoch 8/50\n",
      "\u001b[1m492/492\u001b[0m \u001b[32m━━━━━━━━━━━━━━━━━━━━\u001b[0m\u001b[37m\u001b[0m \u001b[1m1s\u001b[0m 2ms/step - loss: 0.7828 - mae: 0.7828 - mse: 2.9373 - val_loss: 0.4353 - val_mae: 0.4353 - val_mse: 0.4634\n",
      "Epoch 9/50\n",
      "\u001b[1m492/492\u001b[0m \u001b[32m━━━━━━━━━━━━━━━━━━━━\u001b[0m\u001b[37m\u001b[0m \u001b[1m1s\u001b[0m 2ms/step - loss: 0.6452 - mae: 0.6452 - mse: 1.5768 - val_loss: 0.4773 - val_mae: 0.4773 - val_mse: 0.8091\n",
      "Epoch 10/50\n",
      "\u001b[1m492/492\u001b[0m \u001b[32m━━━━━━━━━━━━━━━━━━━━\u001b[0m\u001b[37m\u001b[0m \u001b[1m1s\u001b[0m 3ms/step - loss: 0.6212 - mae: 0.6212 - mse: 1.1915 - val_loss: 0.4040 - val_mae: 0.4040 - val_mse: 0.3277\n",
      "Epoch 11/50\n",
      "\u001b[1m492/492\u001b[0m \u001b[32m━━━━━━━━━━━━━━━━━━━━\u001b[0m\u001b[37m\u001b[0m \u001b[1m2s\u001b[0m 2ms/step - loss: 0.6304 - mae: 0.6304 - mse: 1.0224 - val_loss: 0.4198 - val_mae: 0.4198 - val_mse: 0.3378\n",
      "Epoch 12/50\n",
      "\u001b[1m492/492\u001b[0m \u001b[32m━━━━━━━━━━━━━━━━━━━━\u001b[0m\u001b[37m\u001b[0m \u001b[1m1s\u001b[0m 2ms/step - loss: 0.6334 - mae: 0.6334 - mse: 1.1816 - val_loss: 0.5966 - val_mae: 0.5966 - val_mse: 0.9895\n",
      "Epoch 13/50\n",
      "\u001b[1m492/492\u001b[0m \u001b[32m━━━━━━━━━━━━━━━━━━━━\u001b[0m\u001b[37m\u001b[0m \u001b[1m1s\u001b[0m 2ms/step - loss: 0.6533 - mae: 0.6533 - mse: 1.3601 - val_loss: 0.6685 - val_mae: 0.6685 - val_mse: 1.4792\n",
      "Epoch 14/50\n",
      "\u001b[1m492/492\u001b[0m \u001b[32m━━━━━━━━━━━━━━━━━━━━\u001b[0m\u001b[37m\u001b[0m \u001b[1m1s\u001b[0m 2ms/step - loss: 0.6977 - mae: 0.6977 - mse: 1.2678 - val_loss: 0.3940 - val_mae: 0.3940 - val_mse: 0.4005\n",
      "Epoch 15/50\n",
      "\u001b[1m492/492\u001b[0m \u001b[32m━━━━━━━━━━━━━━━━━━━━\u001b[0m\u001b[37m\u001b[0m \u001b[1m1s\u001b[0m 2ms/step - loss: 0.6439 - mae: 0.6439 - mse: 1.1861 - val_loss: 0.4599 - val_mae: 0.4599 - val_mse: 0.5943\n",
      "Epoch 16/50\n",
      "\u001b[1m492/492\u001b[0m \u001b[32m━━━━━━━━━━━━━━━━━━━━\u001b[0m\u001b[37m\u001b[0m \u001b[1m1s\u001b[0m 2ms/step - loss: 0.6641 - mae: 0.6641 - mse: 1.4719 - val_loss: 0.5700 - val_mae: 0.5700 - val_mse: 0.8101\n",
      "Epoch 17/50\n",
      "\u001b[1m492/492\u001b[0m \u001b[32m━━━━━━━━━━━━━━━━━━━━\u001b[0m\u001b[37m\u001b[0m \u001b[1m1s\u001b[0m 2ms/step - loss: 0.6108 - mae: 0.6108 - mse: 1.1697 - val_loss: 0.3889 - val_mae: 0.3889 - val_mse: 0.3414\n",
      "Epoch 18/50\n",
      "\u001b[1m492/492\u001b[0m \u001b[32m━━━━━━━━━━━━━━━━━━━━\u001b[0m\u001b[37m\u001b[0m \u001b[1m1s\u001b[0m 2ms/step - loss: 0.7385 - mae: 0.7385 - mse: 2.9115 - val_loss: 0.5918 - val_mae: 0.5918 - val_mse: 2.1258\n",
      "Epoch 19/50\n",
      "\u001b[1m492/492\u001b[0m \u001b[32m━━━━━━━━━━━━━━━━━━━━\u001b[0m\u001b[37m\u001b[0m \u001b[1m2s\u001b[0m 3ms/step - loss: 0.5929 - mae: 0.5929 - mse: 1.4806 - val_loss: 0.4065 - val_mae: 0.4065 - val_mse: 0.4419\n",
      "Epoch 20/50\n",
      "\u001b[1m492/492\u001b[0m \u001b[32m━━━━━━━━━━━━━━━━━━━━\u001b[0m\u001b[37m\u001b[0m \u001b[1m2s\u001b[0m 2ms/step - loss: 0.6950 - mae: 0.6950 - mse: 1.4657 - val_loss: 0.4588 - val_mae: 0.4588 - val_mse: 0.5970\n",
      "Epoch 21/50\n",
      "\u001b[1m492/492\u001b[0m \u001b[32m━━━━━━━━━━━━━━━━━━━━\u001b[0m\u001b[37m\u001b[0m \u001b[1m1s\u001b[0m 2ms/step - loss: 0.5873 - mae: 0.5873 - mse: 1.1371 - val_loss: 0.4778 - val_mae: 0.4778 - val_mse: 0.6746\n",
      "Epoch 21: early stopping\n",
      "\u001b[1m4/4\u001b[0m \u001b[32m━━━━━━━━━━━━━━━━━━━━\u001b[0m\u001b[37m\u001b[0m \u001b[1m0s\u001b[0m 22ms/step\n",
      "Epoch 1/50\n",
      "\u001b[1m492/492\u001b[0m \u001b[32m━━━━━━━━━━━━━━━━━━━━\u001b[0m\u001b[37m\u001b[0m \u001b[1m3s\u001b[0m 2ms/step - loss: 1.7243 - mae: 1.7243 - mse: 12.0373 - val_loss: 0.5777 - val_mae: 0.5777 - val_mse: 0.9369\n",
      "Epoch 2/50\n",
      "\u001b[1m492/492\u001b[0m \u001b[32m━━━━━━━━━━━━━━━━━━━━\u001b[0m\u001b[37m\u001b[0m \u001b[1m1s\u001b[0m 2ms/step - loss: 0.8899 - mae: 0.8899 - mse: 3.1970 - val_loss: 0.5372 - val_mae: 0.5372 - val_mse: 0.8464\n",
      "Epoch 3/50\n",
      "\u001b[1m492/492\u001b[0m \u001b[32m━━━━━━━━━━━━━━━━━━━━\u001b[0m\u001b[37m\u001b[0m \u001b[1m1s\u001b[0m 2ms/step - loss: 0.7639 - mae: 0.7639 - mse: 2.1967 - val_loss: 0.5013 - val_mae: 0.5013 - val_mse: 0.9012\n",
      "Epoch 4/50\n",
      "\u001b[1m492/492\u001b[0m \u001b[32m━━━━━━━━━━━━━━━━━━━━\u001b[0m\u001b[37m\u001b[0m \u001b[1m1s\u001b[0m 2ms/step - loss: 0.7784 - mae: 0.7784 - mse: 1.5814 - val_loss: 0.4891 - val_mae: 0.4891 - val_mse: 0.5941\n",
      "Epoch 5/50\n",
      "\u001b[1m492/492\u001b[0m \u001b[32m━━━━━━━━━━━━━━━━━━━━\u001b[0m\u001b[37m\u001b[0m \u001b[1m2s\u001b[0m 2ms/step - loss: 0.6649 - mae: 0.6649 - mse: 1.0292 - val_loss: 0.4575 - val_mae: 0.4575 - val_mse: 0.6090\n",
      "Epoch 6/50\n",
      "\u001b[1m492/492\u001b[0m \u001b[32m━━━━━━━━━━━━━━━━━━━━\u001b[0m\u001b[37m\u001b[0m \u001b[1m1s\u001b[0m 3ms/step - loss: 0.6626 - mae: 0.6626 - mse: 1.4677 - val_loss: 0.5083 - val_mae: 0.5083 - val_mse: 1.1418\n",
      "Epoch 7/50\n",
      "\u001b[1m492/492\u001b[0m \u001b[32m━━━━━━━━━━━━━━━━━━━━\u001b[0m\u001b[37m\u001b[0m \u001b[1m2s\u001b[0m 2ms/step - loss: 0.7538 - mae: 0.7538 - mse: 4.1478 - val_loss: 0.5173 - val_mae: 0.5173 - val_mse: 0.5981\n",
      "Epoch 8/50\n",
      "\u001b[1m492/492\u001b[0m \u001b[32m━━━━━━━━━━━━━━━━━━━━\u001b[0m\u001b[37m\u001b[0m \u001b[1m1s\u001b[0m 2ms/step - loss: 0.6852 - mae: 0.6852 - mse: 1.6977 - val_loss: 0.5963 - val_mae: 0.5963 - val_mse: 0.7204\n",
      "Epoch 9/50\n",
      "\u001b[1m492/492\u001b[0m \u001b[32m━━━━━━━━━━━━━━━━━━━━\u001b[0m\u001b[37m\u001b[0m \u001b[1m1s\u001b[0m 2ms/step - loss: 0.7261 - mae: 0.7261 - mse: 1.9698 - val_loss: 0.4989 - val_mae: 0.4989 - val_mse: 0.5310\n",
      "Epoch 9: early stopping\n",
      "\u001b[1m4/4\u001b[0m \u001b[32m━━━━━━━━━━━━━━━━━━━━\u001b[0m\u001b[37m\u001b[0m \u001b[1m0s\u001b[0m 19ms/step\n",
      "Average MAE: 0.5289\n",
      "Average MSE: 1.0007\n",
      "Average RMSE: 0.9560\n",
      "Average R2: 0.8573\n"
     ]
    }
   ],
   "source": [
    "from keras.models import Sequential\n",
    "from keras.layers import Dense, Dropout, Input\n",
    "from keras.callbacks import EarlyStopping\n",
    "from sklearn.preprocessing import StandardScaler\n",
    "import numpy as np\n",
    "from sklearn.metrics import mean_absolute_error, mean_squared_error, r2_score\n",
    "from sklearn.model_selection import KFold\n",
    "\n",
    "# Define K-Fold cross-validation\n",
    "kfold = KFold(n_splits=5, shuffle=True, random_state=29)\n",
    "\n",
    "# Data Standardization\n",
    "scaler = StandardScaler()\n",
    "X_scaled = scaler.fit_transform(X)\n",
    "\n",
    "# Initialize metrics\n",
    "DL_mae, DL_mse, DL_rmse, DL_r2 = [], [], [], []\n",
    "\n",
    "for train_idx, val_idx in kfold.split(X_scaled):\n",
    "    X_train, X_val = X_scaled[train_idx], X_scaled[val_idx]\n",
    "    y_train, y_val = y[train_idx], y[val_idx]\n",
    "\n",
    "    # Define the model\n",
    "    model_deep = Sequential([\n",
    "        Input(shape=(X_train.shape[1],)),\n",
    "        Dense(128, activation='relu'),\n",
    "        Dropout(0.2),\n",
    "        Dense(64, activation='relu'),\n",
    "        Dropout(0.2),\n",
    "        Dense(32, activation='relu'),\n",
    "        Dropout(0.2),\n",
    "        Dense(16, activation='relu'),\n",
    "        Dropout(0.2),\n",
    "        Dense(1, activation='linear')\n",
    "    ])\n",
    "\n",
    "    model_deep.compile(optimizer='adam', loss='mae', metrics=['mse', 'mae'])\n",
    "\n",
    "    # Early stopping\n",
    "    es = EarlyStopping(monitor='val_loss', patience=4, mode='min', verbose=1)\n",
    "\n",
    "    # Train the model\n",
    "    model_deep.fit(X_train, y_train,\n",
    "                   validation_data=(X_val, y_val),\n",
    "                   epochs=50,\n",
    "                   batch_size=1,\n",
    "                   callbacks=[es],\n",
    "                   verbose=1)\n",
    "\n",
    "    # Predict on validation set\n",
    "    y_pred = model_deep.predict(X_val)\n",
    "\n",
    "    # Evaluate the model\n",
    "    mae = mean_absolute_error(y_val, y_pred)\n",
    "    mse = mean_squared_error(y_val, y_pred)\n",
    "    rmse = np.sqrt(mse)\n",
    "    r2 = r2_score(y_val, y_pred)\n",
    "\n",
    "    # Store the metrics\n",
    "    DL_mae.append(mae)\n",
    "    DL_mse.append(mse)\n",
    "    DL_rmse.append(rmse)\n",
    "    DL_r2.append(r2)\n",
    "\n",
    "# Replace metrics lists with their average values\n",
    "DL_mae = np.mean(DL_mae)\n",
    "DL_mse = np.mean(DL_mse)\n",
    "DL_rmse = np.mean(DL_rmse)\n",
    "DL_r2 = np.mean(DL_r2)\n",
    "\n",
    "# Print averaged metrics\n",
    "print(f\"Average MAE: {DL_mae:.4f}\")\n",
    "print(f\"Average MSE: {DL_mse:.4f}\")\n",
    "print(f\"Average RMSE: {DL_rmse:.4f}\")\n",
    "print(f\"Average R2: {DL_r2:.4f}\")\n"
   ]
  },
  {
   "cell_type": "code",
   "execution_count": 66,
   "metadata": {
    "colab": {
     "base_uri": "https://localhost:8080/"
    },
    "executionInfo": {
     "elapsed": 257,
     "status": "ok",
     "timestamp": 1737708775630,
     "user": {
      "displayName": "노준영",
      "userId": "12714711567111669889"
     },
     "user_tz": -540
    },
    "id": "JRJ2j8nZKMJp",
    "outputId": "d0bacc26-bacf-423b-a302-f4d6204d676a"
   },
   "outputs": [
    {
     "name": "stdout",
     "output_type": "stream",
     "text": [
      "MAE: 0.5288924642694676\n",
      "MSE: 1.0006544726626803\n",
      "RMSE: 0.9560037785928868\n",
      "R²: 0.8573359514327781\n"
     ]
    }
   ],
   "source": [
    "print(f\"MAE: {DL_mae}\")\n",
    "print(f\"MSE: {DL_mse}\")\n",
    "print(f\"RMSE: {DL_rmse}\")\n",
    "print(f\"R²: {DL_r2}\")"
   ]
  },
  {
   "cell_type": "code",
   "execution_count": 67,
   "metadata": {
    "colab": {
     "base_uri": "https://localhost:8080/"
    },
    "executionInfo": {
     "elapsed": 234,
     "status": "ok",
     "timestamp": 1737708779493,
     "user": {
      "displayName": "노준영",
      "userId": "12714711567111669889"
     },
     "user_tz": -540
    },
    "id": "0GqDEvalS-tQ",
    "outputId": "17321f70-4d93-47df-b9fd-a9f5d767885e"
   },
   "outputs": [
    {
     "name": "stdout",
     "output_type": "stream",
     "text": [
      "Model saved as 'model_deep.keras'\n"
     ]
    }
   ],
   "source": [
    "# Save the model\n",
    "model_deep.save('model_deep.keras')\n",
    "\n",
    "# Print confirmation\n",
    "print(\"Model saved as 'model_deep.keras'\")\n"
   ]
  },
  {
   "cell_type": "code",
   "execution_count": 68,
   "metadata": {
    "colab": {
     "base_uri": "https://localhost:8080/"
    },
    "executionInfo": {
     "elapsed": 337,
     "status": "ok",
     "timestamp": 1737708785004,
     "user": {
      "displayName": "노준영",
      "userId": "12714711567111669889"
     },
     "user_tz": -540
    },
    "id": "o8ftYlACJXi8",
    "outputId": "7d6c5d97-5617-41ba-f981-a022726c1ce7"
   },
   "outputs": [
    {
     "name": "stdout",
     "output_type": "stream",
     "text": [
      "Model loaded successfully!\n"
     ]
    }
   ],
   "source": [
    "from keras.models import load_model\n",
    "\n",
    "# Load the model\n",
    "model_deep = load_model('model_deep.keras')\n",
    "\n",
    "# Print confirmation\n",
    "print(\"Model loaded successfully!\")\n"
   ]
  },
  {
   "cell_type": "code",
   "execution_count": 69,
   "metadata": {
    "colab": {
     "base_uri": "https://localhost:8080/"
    },
    "executionInfo": {
     "elapsed": 392,
     "status": "ok",
     "timestamp": 1737708787302,
     "user": {
      "displayName": "노준영",
      "userId": "12714711567111669889"
     },
     "user_tz": -540
    },
    "id": "POiyds90JGmH",
    "outputId": "bb5b25b8-383a-4b2d-b098-367cfc068e48"
   },
   "outputs": [
    {
     "name": "stdout",
     "output_type": "stream",
     "text": [
      "모델 입력 형상: (None, 6)\n"
     ]
    }
   ],
   "source": [
    "print(\"모델 입력 형상:\", model_deep.input_shape)\n"
   ]
  },
  {
   "cell_type": "code",
   "execution_count": 70,
   "metadata": {
    "colab": {
     "base_uri": "https://localhost:8080/",
     "height": 1000
    },
    "executionInfo": {
     "elapsed": 2336,
     "status": "ok",
     "timestamp": 1737708791743,
     "user": {
      "displayName": "노준영",
      "userId": "12714711567111669889"
     },
     "user_tz": -540
    },
    "id": "T9c3om4ASbhr",
    "outputId": "6f602cd4-44d9-4d4d-f2b5-e763c1043ca4"
   },
   "outputs": [
    {
     "data": {
      "image/png": "[encoded data removed]",
      "text/plain": [
       "<Figure size 800x600 with 1 Axes>"
      ]
     },
     "metadata": {},
     "output_type": "display_data"
    },
    {
     "data": {
      "image/png": "[encoded data removed]",
      "text/plain": [
       "<Figure size 800x600 with 1 Axes>"
      ]
     },
     "metadata": {},
     "output_type": "display_data"
    },
    {
     "data": {
      "image/png": "[encoded data removed]",
      "text/plain": [
       "<Figure size 800x600 with 1 Axes>"
      ]
     },
     "metadata": {},
     "output_type": "display_data"
    }
   ],
   "source": [
    "import matplotlib.pyplot as plt\n",
    "\n",
    "# Model Results\n",
    "model_results = {\n",
    "    'Model': ['Random Forest', 'Linear Regression', 'LightGBM', 'XGBoost', 'FNN', 'SVM'],\n",
    "    'MSE': [RF_mse, LR_mse, LGBM_mse, xgb_mse, DL_mse, SVM_mse],\n",
    "    'MAE': [RF_mae, LR_mae, LGBM_mae, xgb_mae, DL_mae, SVM_mae],\n",
    "    'R2': [RF_r2, LR_r2, LGBM_r2, xgb_r2, DL_r2, SVM_r2]\n",
    "}\n",
    "\n",
    "# DataFrame for Visualization\n",
    "df_results = pd.DataFrame(model_results)\n",
    "\n",
    "# Visualization\n",
    "metrics = ['MSE', 'MAE', 'R2']\n",
    "for metric in metrics:\n",
    "    df_results.plot(x='Model', y=metric, kind='bar', legend=False, figsize=(8, 6), color='skyblue')\n",
    "    plt.title(f'Model Comparison ({metric})', fontsize=16)\n",
    "    plt.xlabel('Model', fontsize=14)\n",
    "    plt.ylabel(metric, fontsize=14)\n",
    "    plt.xticks(rotation=45, fontsize=12)\n",
    "    plt.grid(axis='y', linestyle='--', alpha=0.7)\n",
    "\n",
    "    # Add value labels on bars\n",
    "    for index, value in enumerate(df_results[metric]):\n",
    "        plt.text(index, value, f'{value:.2f}', ha='center', va='bottom', fontsize=10)\n",
    "\n",
    "    # Save the plot as an image\n",
    "    plt.savefig(f'model_comparison_{metric}_new.png', dpi=300, bbox_inches='tight')\n",
    "\n",
    "    # Show the plot\n",
    "    plt.show()"
   ]
  },
  {
   "cell_type": "markdown",
   "metadata": {
    "id": "7Forjq4phQLC"
   },
   "source": [
    "## 결과 분석 및 해석:\n",
    "\n",
    "- R² (결정 계수):\n",
    "\n",
    "K-fold 교차 검증 결과, **Random Forest (0.95)**와 **XGBoost (0.97)**가 높은 R² 값을 보였으며, 이는 타겟 변수(음주운전 적발 건수)의 변동성을 매우 잘 설명한다는 것을 의미합니다.\n",
    "**Linear Regression (0.91)**, **LightGBM (0.91)**도 높은 성능을 보였지만, Deep Learning과 SVM은 비교적 낮은 성능을 보였습니다.\n",
    "\n",
    "\n",
    "- MSE (Mean Squared Error):\n",
    "\n",
    "**XGBoost (0.19)**가 가장 낮은 MSE 값을 보여 음주운전 적발 건수를 예측하는 데 매우 적합합니다.\n",
    "반면, **Deep Learning (1.00)**과 **SVM (0.98)**은 오차가 크며, 음주운전 적발 건수를 예측하는 데 부적합할 가능성이 큽니다.\n",
    "\n",
    "\n",
    "- MAE (Mean Absolute Error):\n",
    "\n",
    "**Random Forest (0.39)**와 **XGBoost (0.32)**가 낮은 MAE 값을 보여 평균적으로 타겟 값과 예측 값 간의 차이가 작음을 나타냅니다.\n",
    "**Deep Learning (0.55)**, **Deep Learning (0.53)**과 **SVM (0.52)**은 높은 MAE 값을 보여 예측이 정확하지 않음을 시사합니다.\n",
    "\n",
    "\n",
    "\n",
    "## 결론 및 추천 모델:\n",
    "\n",
    "XGBoost도는 R², MSE, MAE의 모든 지표에서 가장 좋은 성능을 보여, 음주운전 적발 건수를 예측하는 데 가장 적합한 모델입니다.\n",
    "\n",
    "Random Forest도 유사한 성능을 보이며, XGBoost와 비슷하게 높은 예측 정확도를 기대할 수 있습니다.\n",
    "\n",
    "Deep Learning과 SVM은 성능이 낮아 음주운전 적발 건수 예측에 적합하지 않습니다.\n",
    "다음 단계:\n",
    "\n",
    "Random Forest 또는 XGBoost를 사용하여 음주운전 적발 건수를 예측하는 작업을 진행하는 것이 적합합니다.\n",
    "\n",
    "이 두 모델 중 선택은:\n",
    "모델 해석 가능성이 중요하면 Random Forest.\n",
    "대규모 데이터나 빠른 학습이 중요하면 XGBoost.\n",
    "\n",
    "추가로 새로운 데이터를 기반으로 예측 결과를 확인하고 실무에 활용할 수 있습니다."
   ]
  }
 ],
 "metadata": {
  "colab": {
   "provenance": []
  },
  "kernelspec": {
   "display_name": "base",
   "language": "python",
   "name": "python3"
  },
  "language_info": {
   "codemirror_mode": {
    "name": "ipython",
    "version": 3
   },
   "file_extension": ".py",
   "mimetype": "text/x-python",
   "name": "python",
   "nbconvert_exporter": "python",
   "pygments_lexer": "ipython3",
   "version": "3.12.4"
  }
 },
 "nbformat": 4,
 "nbformat_minor": 0
}
