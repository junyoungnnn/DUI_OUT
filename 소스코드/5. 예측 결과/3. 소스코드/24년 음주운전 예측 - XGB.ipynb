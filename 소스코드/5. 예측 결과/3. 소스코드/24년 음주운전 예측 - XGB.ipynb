{
 "cells": [
  {
   "cell_type": "code",
   "execution_count": 13,
   "metadata": {
    "executionInfo": {
     "elapsed": 5191,
     "status": "ok",
     "timestamp": 1737706699554,
     "user": {
      "displayName": "노준영",
      "userId": "12714711567111669889"
     },
     "user_tz": -540
    },
    "id": "qlzpXUhYj_Rh"
   },
   "outputs": [],
   "source": [
    "import pandas as pd\n",
    "import numpy as np\n",
    "import matplotlib.pyplot as plt\n",
    "import seaborn as sns"
   ]
  },
  {
   "cell_type": "code",
   "execution_count": 14,
   "metadata": {
    "colab": {
     "base_uri": "https://localhost:8080/",
     "height": 615
    },
    "executionInfo": {
     "elapsed": 1873,
     "status": "ok",
     "timestamp": 1737706705191,
     "user": {
      "displayName": "노준영",
      "userId": "12714711567111669889"
     },
     "user_tz": -540
    },
    "id": "SZqrCFQfxHxx",
    "outputId": "26456227-b289-4e7d-a5a4-5e7f61a35b01"
   },
   "outputs": [
    {
     "data": {
      "text/html": [
       "<div>\n",
       "<style scoped>\n",
       "    .dataframe tbody tr th:only-of-type {\n",
       "        vertical-align: middle;\n",
       "    }\n",
       "\n",
       "    .dataframe tbody tr th {\n",
       "        vertical-align: top;\n",
       "    }\n",
       "\n",
       "    .dataframe thead th {\n",
       "        text-align: right;\n",
       "    }\n",
       "</style>\n",
       "<table border=\"1\" class=\"dataframe\">\n",
       "  <thead>\n",
       "    <tr style=\"text-align: right;\">\n",
       "      <th></th>\n",
       "      <th>읍면동</th>\n",
       "      <th>자동차 등록 대수</th>\n",
       "      <th>인구수</th>\n",
       "      <th>횡단보도 개수</th>\n",
       "      <th>음식점 수</th>\n",
       "      <th>버스정류장 개수</th>\n",
       "      <th>음주 교통사고 건수</th>\n",
       "    </tr>\n",
       "  </thead>\n",
       "  <tbody>\n",
       "    <tr>\n",
       "      <th>0</th>\n",
       "      <td>가덕도동</td>\n",
       "      <td>2908</td>\n",
       "      <td>4311</td>\n",
       "      <td>4</td>\n",
       "      <td>68</td>\n",
       "      <td>88</td>\n",
       "      <td>1.10</td>\n",
       "    </tr>\n",
       "    <tr>\n",
       "      <th>1</th>\n",
       "      <td>가락동</td>\n",
       "      <td>2131</td>\n",
       "      <td>2097</td>\n",
       "      <td>33</td>\n",
       "      <td>37</td>\n",
       "      <td>57</td>\n",
       "      <td>0.65</td>\n",
       "    </tr>\n",
       "    <tr>\n",
       "      <th>2</th>\n",
       "      <td>가야1동</td>\n",
       "      <td>4773</td>\n",
       "      <td>16411</td>\n",
       "      <td>14</td>\n",
       "      <td>159</td>\n",
       "      <td>13</td>\n",
       "      <td>5.65</td>\n",
       "    </tr>\n",
       "    <tr>\n",
       "      <th>3</th>\n",
       "      <td>가야2동</td>\n",
       "      <td>6211</td>\n",
       "      <td>17951</td>\n",
       "      <td>8</td>\n",
       "      <td>158</td>\n",
       "      <td>18</td>\n",
       "      <td>4.95</td>\n",
       "    </tr>\n",
       "    <tr>\n",
       "      <th>4</th>\n",
       "      <td>감만1동</td>\n",
       "      <td>5900</td>\n",
       "      <td>7958</td>\n",
       "      <td>14</td>\n",
       "      <td>42</td>\n",
       "      <td>40</td>\n",
       "      <td>1.48</td>\n",
       "    </tr>\n",
       "    <tr>\n",
       "      <th>...</th>\n",
       "      <td>...</td>\n",
       "      <td>...</td>\n",
       "      <td>...</td>\n",
       "      <td>...</td>\n",
       "      <td>...</td>\n",
       "      <td>...</td>\n",
       "      <td>...</td>\n",
       "    </tr>\n",
       "    <tr>\n",
       "      <th>200</th>\n",
       "      <td>하단2동</td>\n",
       "      <td>8452</td>\n",
       "      <td>24861</td>\n",
       "      <td>21</td>\n",
       "      <td>445</td>\n",
       "      <td>41</td>\n",
       "      <td>6.44</td>\n",
       "    </tr>\n",
       "    <tr>\n",
       "      <th>201</th>\n",
       "      <td>학장동</td>\n",
       "      <td>12076</td>\n",
       "      <td>26053</td>\n",
       "      <td>34</td>\n",
       "      <td>194</td>\n",
       "      <td>63</td>\n",
       "      <td>9.48</td>\n",
       "    </tr>\n",
       "    <tr>\n",
       "      <th>202</th>\n",
       "      <td>화명1동</td>\n",
       "      <td>18430</td>\n",
       "      <td>39190</td>\n",
       "      <td>11</td>\n",
       "      <td>109</td>\n",
       "      <td>32</td>\n",
       "      <td>12.93</td>\n",
       "    </tr>\n",
       "    <tr>\n",
       "      <th>203</th>\n",
       "      <td>화명2동</td>\n",
       "      <td>6663</td>\n",
       "      <td>16808</td>\n",
       "      <td>11</td>\n",
       "      <td>115</td>\n",
       "      <td>50</td>\n",
       "      <td>5.32</td>\n",
       "    </tr>\n",
       "    <tr>\n",
       "      <th>204</th>\n",
       "      <td>화명3동</td>\n",
       "      <td>11681</td>\n",
       "      <td>28085</td>\n",
       "      <td>60</td>\n",
       "      <td>321</td>\n",
       "      <td>22</td>\n",
       "      <td>9.25</td>\n",
       "    </tr>\n",
       "  </tbody>\n",
       "</table>\n",
       "<p>205 rows × 7 columns</p>\n",
       "</div>"
      ],
      "text/plain": [
       "      읍면동  자동차 등록 대수    인구수  횡단보도 개수  음식점 수  버스정류장 개수  음주 교통사고 건수\n",
       "0    가덕도동       2908   4311        4     68        88        1.10\n",
       "1     가락동       2131   2097       33     37        57        0.65\n",
       "2    가야1동       4773  16411       14    159        13        5.65\n",
       "3    가야2동       6211  17951        8    158        18        4.95\n",
       "4    감만1동       5900   7958       14     42        40        1.48\n",
       "..    ...        ...    ...      ...    ...       ...         ...\n",
       "200  하단2동       8452  24861       21    445        41        6.44\n",
       "201   학장동      12076  26053       34    194        63        9.48\n",
       "202  화명1동      18430  39190       11    109        32       12.93\n",
       "203  화명2동       6663  16808       11    115        50        5.32\n",
       "204  화명3동      11681  28085       60    321        22        9.25\n",
       "\n",
       "[205 rows x 7 columns]"
      ]
     },
     "execution_count": 14,
     "metadata": {},
     "output_type": "execute_result"
    }
   ],
   "source": [
    "df = pd.read_excel('../1. 데이터/2024예측데이터셋.xlsx')\n",
    "df"
   ]
  },
  {
   "cell_type": "code",
   "execution_count": 15,
   "metadata": {
    "colab": {
     "base_uri": "https://localhost:8080/",
     "height": 304
    },
    "executionInfo": {
     "elapsed": 281,
     "status": "ok",
     "timestamp": 1737706706747,
     "user": {
      "displayName": "노준영",
      "userId": "12714711567111669889"
     },
     "user_tz": -540
    },
    "id": "9ti5-gzhylAy",
    "outputId": "7bae18d8-781e-481c-d53a-ae7a992ad4a4"
   },
   "outputs": [
    {
     "data": {
      "text/plain": [
       "읍면동           0\n",
       "자동차 등록 대수     0\n",
       "인구수           0\n",
       "횡단보도 개수       0\n",
       "음식점 수         0\n",
       "버스정류장 개수      0\n",
       "음주 교통사고 건수    0\n",
       "dtype: int64"
      ]
     },
     "execution_count": 15,
     "metadata": {},
     "output_type": "execute_result"
    }
   ],
   "source": [
    "df.isna().sum()"
   ]
  },
  {
   "cell_type": "code",
   "execution_count": 18,
   "metadata": {
    "colab": {
     "base_uri": "https://localhost:8080/"
    },
    "executionInfo": {
     "elapsed": 272,
     "status": "ok",
     "timestamp": 1737707069105,
     "user": {
      "displayName": "노준영",
      "userId": "12714711567111669889"
     },
     "user_tz": -540
    },
    "id": "f-O3DLYoZZVj",
    "outputId": "16ca090e-857a-44dc-f7a7-bc1a20c80866"
   },
   "outputs": [
    {
     "name": "stdout",
     "output_type": "stream",
     "text": [
      "Saved XGBoost model has been loaded.\n",
      "StandardScaler has been fitted to training data.\n",
      "Prediction results for 2024 have been saved to '4. 결과/24년도_예측결과xgb.csv'.\n"
     ]
    }
   ],
   "source": [
    "import xgboost as xgb\n",
    "from sklearn.metrics import mean_squared_error, mean_absolute_error, r2_score\n",
    "from sklearn.preprocessing import StandardScaler\n",
    "\n",
    "# 1. Load the saved XGBoost model\n",
    "from joblib import load\n",
    "xgb_loaded = load('../2. 모델/xgb_model.joblib')\n",
    "print(\"Saved XGBoost model has been loaded.\")\n",
    "\n",
    "# 2. Load training data for scaler fitting (21-23 year data)\n",
    "X_train = df[['자동차 등록 대수', '인구수', '횡단보도 개수', '음식점 수', '버스정류장 개수', '음주 교통사고 건수']]\n",
    "\n",
    "# Fit StandardScaler to training data\n",
    "scaler = StandardScaler()\n",
    "scaler.fit(X_train)\n",
    "print(\"StandardScaler has been fitted to training data.\")\n",
    "\n",
    "# 3. Load 2024 data for prediction\n",
    "df = pd.read_excel('../1. 데이터/2024예측데이터셋.xlsx')\n",
    "\n",
    "# 4. Prepare input features and scale them\n",
    "X_2024 = df[['자동차 등록 대수', '인구수', '횡단보도 개수', '음식점 수', '버스정류장 개수', '음주 교통사고 건수']]\n",
    "X_2024_scaled = scaler.transform(X_2024)\n",
    "\n",
    "# 5. Predict y values using the loaded model\n",
    "dmatrix_2024 = xgb.DMatrix(X_2024_scaled)  # Convert to DMatrix\n",
    "y_2024_pred = xgb_loaded.predict(dmatrix_2024)\n",
    "\n",
    "# 6. Add predictions to the DataFrame\n",
    "df['예측 음주운전 적발 건수'] = y_2024_pred\n",
    "\n",
    "# 7. Save the prediction results\n",
    "df.to_csv('../4. 결과/24년도_예측결과xgb.csv', index=False, encoding='cp949')\n",
    "print(\"Prediction results for 2024 have been saved to '4. 결과/24년도_예측결과xgb.csv'.\")\n",
    "\n"
   ]
  },
  {
   "cell_type": "code",
   "execution_count": null,
   "metadata": {},
   "outputs": [],
   "source": []
  }
 ],
 "metadata": {
  "colab": {
   "provenance": []
  },
  "kernelspec": {
   "display_name": "base",
   "language": "python",
   "name": "python3"
  },
  "language_info": {
   "codemirror_mode": {
    "name": "ipython",
    "version": 3
   },
   "file_extension": ".py",
   "mimetype": "text/x-python",
   "name": "python",
   "nbconvert_exporter": "python",
   "pygments_lexer": "ipython3",
   "version": "3.12.4"
  }
 },
 "nbformat": 4,
 "nbformat_minor": 0
}
